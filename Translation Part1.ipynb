{
 "cells": [
  {
   "cell_type": "markdown",
   "metadata": {
    "id": "epRaBvj_bapY"
   },
   "source": [
    "# Project 3 (Part 1): Language identification with Neural Networks\n",
    "## CS4740/5740 Fall 2021\n",
    "\n",
    "Names:Randy Tang and Cameron Stine\n",
    "\n",
    "Netids:RT378, CRS338\n",
    "\n",
    "### Project Submission Due: Friday Nov 5 11:59pm\n",
    "Please submit a **pdf file** of this notebook on **Gradescope**, and your **ipynb** on **CMS**. For instructions on generating pdf and ipynb files, please refer to project 1 or project 2 instructions.\n",
    "\n"
   ]
  },
  {
   "cell_type": "markdown",
   "metadata": {
    "id": "EIEkIveBVYyU"
   },
   "source": [
    "## Introduction\n",
    "In this two-part project we will consider **neural networks**. In part 1 you will study a Feedforward Neural Network (FFNN) for performing language identification (i.e., determining whether tha piece of text  is Shakespearean English or modern English).\n",
    "\n",
    "You will be given an implementation for a FFNN and be asked to debug it in a specific way. You also will be required to submit a description of any additional libraries used (other than those that we import for you), how your group divided up the work, and your feedback regarding the assignment (the latter with **Part 2** of project 3). The google doc template for the write up is [here](https://docs.google.com/document/d/16scmrRva5WczB4a4QDYhFJBXaaAJd8oesEEAdi6ehbY/edit)."
   ]
  },
  {
   "cell_type": "markdown",
   "metadata": {
    "id": "-1HSug5yWVrI"
   },
   "source": [
    "## Advice 🚀\n",
    "As always, the report is important! The report is where you get to show\n",
    "that you understand not only what you are doing but also why and how you are doing it. So be clear, organized and concise; avoid vagueness and excess verbiage."
   ]
  },
  {
   "cell_type": "markdown",
   "metadata": {
    "id": "-fyl3-8TWyR9"
   },
   "source": [
    "## Dataset\n",
    "You are given access to a set of parallel sentences. One sentence is written in modern English (the \"source\") and another is in Shakespearean English (the \"target\"). For this project, given modern English you will need to translate it into Shakespearean English. This is usually called (Neural) Machine Translation. We'll simply refer to it as NMT or Neural Machine Translation in the project.\n",
    "\n",
    "We will minimally preprocess the source/target sentences and handle tokenization in what we release. For this assignment, we do not anticipate any further preprocessing to be done by you. Should you choose to do so, it would be interesting to hear about in the report (along with whether or not it helped performance), but it is not a required aspect of the assignment."
   ]
  },
  {
   "cell_type": "code",
   "execution_count": 1,
   "metadata": {
    "colab": {
     "base_uri": "https://localhost:8080/"
    },
    "id": "ARl1pk1PGL2Y",
    "outputId": "41af02d5-4b79-4b24-93fe-bedfda8a9efa"
   },
   "outputs": [
    {
     "ename": "ModuleNotFoundError",
     "evalue": "No module named 'google'",
     "output_type": "error",
     "traceback": [
      "\u001b[0;31m---------------------------------------------------------------------------\u001b[0m",
      "\u001b[0;31mModuleNotFoundError\u001b[0m                       Traceback (most recent call last)",
      "Input \u001b[0;32mIn [1]\u001b[0m, in \u001b[0;36m<cell line: 1>\u001b[0;34m()\u001b[0m\n\u001b[0;32m----> 1\u001b[0m \u001b[38;5;28;01mfrom\u001b[39;00m \u001b[38;5;21;01mgoogle\u001b[39;00m\u001b[38;5;21;01m.\u001b[39;00m\u001b[38;5;21;01mcolab\u001b[39;00m \u001b[38;5;28;01mimport\u001b[39;00m drive\n\u001b[1;32m      2\u001b[0m \u001b[38;5;28;01mimport\u001b[39;00m \u001b[38;5;21;01mos\u001b[39;00m\n\u001b[1;32m      3\u001b[0m drive\u001b[38;5;241m.\u001b[39mmount(\u001b[38;5;124m'\u001b[39m\u001b[38;5;124m/content/drive\u001b[39m\u001b[38;5;124m'\u001b[39m, force_remount\u001b[38;5;241m=\u001b[39m\u001b[38;5;28;01mTrue\u001b[39;00m)\n",
      "\u001b[0;31mModuleNotFoundError\u001b[0m: No module named 'google'"
     ]
    }
   ],
   "source": [
    "from google.colab import drive\n",
    "import os\n",
    "drive.mount('/content/drive', force_remount=True)\n",
    "\n",
    "train_path = os.path.join(os.getcwd(), \"drive\", \"My Drive\", \"cs4740\", \"P3\", \"train.txt\") # replace based on your Google drive organization\n",
    "val_path = os.path.join(os.getcwd(), \"drive\", \"My Drive\", \"cs4740\", \"P3\", \"val.txt\") # replace based on your Google drive organization"
   ]
  },
  {
   "cell_type": "markdown",
   "metadata": {
    "id": "rD5wwTl3W3CO"
   },
   "source": [
    "# Part 1: Feedforward Neural Network\n",
    "\n",
    "In this section, there are two main coding components relevant to **Part 1**.\n",
    "\n",
    "1. `Data loader`\\\n",
    "As the name suggests, this section loads the data from the dataset files and handles other preprocessing and setup. You will **not** need to change this file and should **not** change this file throughout the assignment.\n",
    "\n",
    "2. `ffnn`\\\n",
    "This contains the model and code that uses the model for **Part 1**.\n",
    "\n",
    "In the `ffnn` section, you will find a Feedforward Neural Net serving as the underlying model for performing language detection.\n",
    "\n"
   ]
  },
  {
   "cell_type": "markdown",
   "metadata": {
    "id": "ciCL-fBNaErA"
   },
   "source": [
    "## Part 1: Tips\n",
    "\n",
    "We do not assume you have **any** experience working with neural networks and/or debugging them. You may discover debugging neural network code is quite different from debugging in general software engineering and from debugging in other areas of CS such as algorithms and systems.\n",
    "\n",
    "We suggest you systematically step through the code and simultanously (perhaps by physically drawing out the vectors, matrices, and tensors involved) describe what the computations _mean_. What you are looking for is where the code differs from what you would expect a neural net to do."
   ]
  },
  {
   "cell_type": "markdown",
   "metadata": {
    "id": "pzGvj2WzaJNh"
   },
   "source": [
    "## Part 1: Rules\n",
    "\n",
    "For **Part 1**, you will not be able to ask any questions on EdStem and we will be unable to provide any meaningful advice in office hours. Unfortunately, this is the nature of debugging, it is unlikely anyone can give you specific advice for most problems you encounter and we have already provided general tips in the preceding section. If you absolutely must ask a question or you believe there is some kind of issue with the assignment for this part, please submit a private EdStem post and we will respond swiftly.\n",
    "\n",
    "As a reminder **communication about the assignment _between_ distinct groups is not permitted and is a violation of the Academic Integrity policy**. For this assignment, we will be _extremely_ stringent about this, given that debugging is entirely pointless if someone else in a different group tells you where the error is."
   ]
  },
  {
   "cell_type": "markdown",
   "metadata": {
    "id": "qeC3pYiebc6r"
   },
   "source": [
    "## Import libraries and connect to Google Drive"
   ]
  },
  {
   "cell_type": "code",
   "execution_count": null,
   "metadata": {
    "id": "quIJujja-jS2"
   },
   "outputs": [],
   "source": [
    "import json\n",
    "import math\n",
    "import os\n",
    "from pathlib import Path\n",
    "import random\n",
    "import time\n",
    "from tqdm.notebook import tqdm, trange\n",
    "from typing import Dict, List, Set, Tuple\n",
    "\n",
    "import numpy as np\n",
    "import nltk\n",
    "import torch\n",
    "import torch.nn as nn\n",
    "from torch.nn import init\n",
    "import torch.optim as optim\n",
    "from torch.utils.data import Dataset, DataLoader, SubsetRandomSampler\n",
    "from tqdm.notebook import tqdm, trange"
   ]
  },
  {
   "cell_type": "code",
   "execution_count": null,
   "metadata": {
    "colab": {
     "base_uri": "https://localhost:8080/"
    },
    "id": "C1a8IrpLbqbh",
    "outputId": "5c44ac51-7e54-47a1-c67c-f0fb3ef427af"
   },
   "outputs": [
    {
     "name": "stdout",
     "output_type": "stream",
     "text": [
      "[nltk_data] Downloading package punkt to /root/nltk_data...\n",
      "[nltk_data]   Unzipping tokenizers/punkt.zip.\n"
     ]
    },
    {
     "data": {
      "text/plain": [
       "True"
      ]
     },
     "execution_count": 3,
     "metadata": {},
     "output_type": "execute_result"
    }
   ],
   "source": [
    "nltk.download(\"punkt\")"
   ]
  },
  {
   "cell_type": "markdown",
   "metadata": {
    "id": "TU8Yq_dMbhtQ"
   },
   "source": [
    "## Data loader"
   ]
  },
  {
   "cell_type": "code",
   "execution_count": null,
   "metadata": {
    "id": "pfVaPnSf1WU-"
   },
   "outputs": [],
   "source": [
    "language_to_idx = {\n",
    "    \"Modern\": 0,\n",
    "    \"Shakespeare\": 1,\n",
    "}\n",
    "idx_to_language = {v: k for k, v in language_to_idx.items()}\n",
    "UNK = \"<UNK>\""
   ]
  },
  {
   "cell_type": "code",
   "execution_count": null,
   "metadata": {
    "id": "5ajMvRL3b2sz"
   },
   "outputs": [],
   "source": [
    "def fetch_data(train_data_path, val_data_path):\n",
    "    \"\"\"fetch_data retrieves the data from a json/csv and outputs the validation\n",
    "    and training data\n",
    "\n",
    "    :param train_data_path:\n",
    "    :type train_data_path: str\n",
    "    :return: Training, validation pair where the training is a list of document, label pairs\n",
    "    :rtype: Tuple[\n",
    "        List[Tuple[List[str], int]],\n",
    "        List[Tuple[List[str], int]], \n",
    "    ]\n",
    "    \"\"\"\n",
    "    with open(train_data_path) as training_f:\n",
    "        training = training_f.read().split(\"\\n\")\n",
    "    with open(val_data_path) as valid_f:\n",
    "        validation = valid_f.read().split(\"\\n\")\n",
    "\t\n",
    "    # If needed you can shrink the training and validation data to speed up somethings but this isn't always safe to do by setting k < 10000\n",
    "    k = 5000\n",
    "    random.shuffle(training)\n",
    "    random.shuffle(validation)\n",
    "    training, validation = training[:k], validation[:(k // 10)]\n",
    "\n",
    "    tra = []\n",
    "    val = []\n",
    "    for elt in training:\n",
    "        if elt == '':\n",
    "            continue\n",
    "        txt, language = elt.split(\"\\t\")\n",
    "        tra.append((nltk.word_tokenize(txt), language))\n",
    "    for elt in validation:\n",
    "        if elt == '':\n",
    "            continue\n",
    "        txt, language = elt.split(\"\\t\")\n",
    "        val.append((nltk.word_tokenize(txt), language))\n",
    "\n",
    "    return tra, val"
   ]
  },
  {
   "cell_type": "code",
   "execution_count": null,
   "metadata": {
    "id": "GucjLU2dXztT"
   },
   "outputs": [],
   "source": [
    "def make_vocab(data):\n",
    "    \"\"\"make_vocab creates a set of vocab words that the model knows\n",
    "\n",
    "    :param data: The list of documents that is used to make the vocabulary\n",
    "    :type data: List[str]\n",
    "    :returns: A set of strings corresponding to the vocabulary\n",
    "    :rtype: Set[str]\n",
    "    \"\"\"\n",
    "    vocab = set()\n",
    "    for document, _ in data:\n",
    "        for word in document:\n",
    "            vocab.add(word)\n",
    "    return vocab \n",
    "\n",
    "\n",
    "def make_indices(vocab):\n",
    "\t\"\"\"make_indices creates a 1-1 mapping of word and indices for a vocab.\n",
    "\n",
    "\t:param vocab: The strings corresponding to the vocabulary in train data.\n",
    "\t:type vocab: Set[str]\n",
    "\t:returns: A tuple containing the vocab, word2index, and index2word.\n",
    "\t\tvocab is a set of strings in the vocabulary including <UNK>.\n",
    "\t\tword2index is a dictionary mapping tokens to its index (0, ..., V-1)\n",
    "\t\tindex2word is a dictionary inverting the mapping of word2index\n",
    "\t:rtype: Tuple[\n",
    "\t\tSet[str],\n",
    "\t\tDict[str, int],\n",
    "\t\tDict[int, str],\n",
    "\t]\n",
    "\t\"\"\"\n",
    "\tvocab_list = sorted(vocab)\n",
    "\tvocab_list.append(UNK)\n",
    "\tword2index = {}\n",
    "\tindex2word = {}\n",
    "\tfor index, word in enumerate(vocab_list):\n",
    "\t\tword2index[word] = index \n",
    "\t\tindex2word[index] = word \n",
    "\tvocab.add(UNK)\n",
    "\treturn vocab, word2index, index2word \n",
    "\n",
    "\n",
    "def convert_to_vector_representation(data, word2index, test=False):\n",
    "\t\"\"\"convert_to_vector_representation converts the list of strings into a vector\n",
    "\n",
    "\t:param data: The dataset to be converted into a vectorized format\n",
    "\t:type data: Union[\n",
    "\t\tList[Tuple[List[str], int]],\n",
    "\t\tList[str],\n",
    "\t]\n",
    "\t:param word2index: A mapping of word to index\n",
    "\t:type word2index: Dict[str, int]\n",
    "\t:returns: A list of vector representations of the input or pairs of vector\n",
    "\t\trepresentations with expected output\n",
    "\t:rtype: List[Tuple[torch.Tensor, int]] or List[torch.Tensor]\n",
    "\n",
    "\tList[Tuple[List[torch.Tensor], int]] or List[List[torch.Tensor]]\n",
    "\t\"\"\"\n",
    "\tif test:\n",
    "\t\tvectorized_data = []\n",
    "\t\tfor document in data:\n",
    "\t\t\tvector = torch.zeros(len(word2index)) \n",
    "\t\t\tfor word in document:\n",
    "\t\t\t\tindex = word2index.get(word, word2index[UNK])\n",
    "\t\t\t\tvector[index] += 1\n",
    "\t\t\tvectorized_data.append(vector)\n",
    "\telse:\n",
    "\t\tvectorized_data = []\n",
    "\t\tfor document, y in data:\n",
    "\t\t\tvector = torch.zeros(len(word2index)) \n",
    "\t\t\tfor word in document:\n",
    "\t\t\t\tindex = word2index.get(word, word2index[UNK])\n",
    "\t\t\t\tvector[index] += 1\n",
    "\t\t\tvectorized_data.append((vector, y))\n",
    "\treturn vectorized_data"
   ]
  },
  {
   "cell_type": "code",
   "execution_count": null,
   "metadata": {
    "id": "4vDZVRVG_WAp"
   },
   "outputs": [],
   "source": [
    "class LanguageDataset(Dataset):\n",
    "    \"\"\"LanguageDataset is a torch dataset to interact with the Language data.\n",
    "\n",
    "    :param data: The vectorized dataset with input and expected output values\n",
    "    :type data: List[Tuple[List[torch.Tensor], int]]\n",
    "    \"\"\"\n",
    "    def __init__(self, data):\n",
    "        self.data = data\n",
    "        self.len = len(data)\n",
    "    \n",
    "    def __len__(self):\n",
    "        \"\"\"__len__ returns the number of samples in the dataset.\n",
    "\n",
    "        :returns: number of samples in dataset\n",
    "        :rtype: int\n",
    "        \"\"\"\n",
    "        return self.len\n",
    "    \n",
    "    def __getitem__(self, index):\n",
    "        \"\"\"__getitem__ returns the tensor, output pair for a given index\n",
    "\n",
    "        :param index: index within dataset to return\n",
    "        :type index: int\n",
    "        :returns: A tuple (x, y) where x is model input and y is our label\n",
    "        :rtype: Tuple[torch.Tensor, int]\n",
    "        \"\"\"\n",
    "        return convert_to_vector_representation(self.data[index:index+1], word2index)[0]\n",
    "\n",
    "def get_data_loaders(train, val, batch_size=16):\n",
    "    \"\"\"\n",
    "    \"\"\"\n",
    "    # First we create the dataset given our train and validation lists\n",
    "    dataset = LanguageDataset(train + val)\n",
    "\n",
    "    # Then, we create a list of indices for all samples in the dataset\n",
    "    train_indices = [i for i in range(len(train))]\n",
    "    val_indices = [i for i in range(len(train), len(train) + len(val))]\n",
    "\n",
    "    # Now we define samplers and loaders for train and val\n",
    "    train_sampler = SubsetRandomSampler(train_indices)\n",
    "    train_loader = DataLoader(dataset, batch_size=batch_size, sampler=train_sampler)\n",
    "    \n",
    "    val_sampler = SubsetRandomSampler(val_indices)\n",
    "    val_loader = DataLoader(dataset, batch_size=batch_size, sampler=val_sampler)\n",
    "\n",
    "    return train_loader, val_loader"
   ]
  },
  {
   "cell_type": "code",
   "execution_count": null,
   "metadata": {
    "id": "I_YuWdHc99TW"
   },
   "outputs": [],
   "source": [
    "train, val = fetch_data(train_path, val_path)"
   ]
  },
  {
   "cell_type": "code",
   "execution_count": null,
   "metadata": {
    "id": "9uS_DWhQ9CTG"
   },
   "outputs": [],
   "source": [
    "vocab = make_vocab(train)\n",
    "vocab, word2index, index2word = make_indices(vocab)"
   ]
  },
  {
   "cell_type": "code",
   "execution_count": null,
   "metadata": {
    "id": "yG7pKH07ClOv"
   },
   "outputs": [],
   "source": [
    "train_loader, val_loader = get_data_loaders(train, val, batch_size=1)"
   ]
  },
  {
   "cell_type": "code",
   "execution_count": null,
   "metadata": {
    "id": "c7GPWuoQVzgT"
   },
   "outputs": [],
   "source": [
    "# Note: Colab has 12 hour limits on GPUs, also potential inactivity may kill the notebook. Save often!"
   ]
  },
  {
   "cell_type": "markdown",
   "metadata": {
    "id": "dSKmtKpXbk8_"
   },
   "source": [
    "## 1.1 FFNN Implementation"
   ]
  },
  {
   "cell_type": "markdown",
   "metadata": {
    "id": "Zqv3EwKyaGaN"
   },
   "source": [
    "### 1.1 Task\n",
    "Assume that an onmiscient oracle has told you there are **4 fundamental errors** in the **FFNN** implementation. They may be anywhere in the section below (everything below until the start of section 1.2) unless otherwise indicated. Your objective is to _find_ and _fix_ each of these errors and to include in the report a description of the original error along with the fix. To help your efforts, the oracle has provided you with additional information about the properties of the errors as follows:\n",
    "\n",
    "* _Correctness_ \\\n",
    "Each error causes the code to be strictly incorrect. There is absolutely no ambiguity that the errant code (or missing code) is incorrect. This means errors are not due to the code being inefficient (in run-time or in memory).\n",
    "\n",
    "* _Localized_ \\\n",
    "Each error can be judged to be erroneous by strictly looking at the code (along with your knowledge of machine learning as taught through this course). The errors therefore are not due to the model being uncompetitive in terms of performance with state-of-the-art performance for this task nor are they due to the amount of data being insufficient for this task in general.\n",
    "\n",
    "* _General_ \\\n",
    "Each error is general in nature. They will not be triggered only by the model receiving a pathological input, i.e. they will not be something that is triggered specifically when inputting some phrase such as \"roman fool\" or word such as \"sword\".\n",
    "\n",
    "* _Fundamental_ \\\n",
    "Each error is a fundamental failure in terms of doing what is intended. This means that errors do not hinge on nuanced understanding of specific PyTorch functionality. This also means they will not exploit properties of the dataset in\n",
    "a subtle way that could only be realized by someone who has comprehensively studied the data.\n",
    "\n",
    "The bottom line: the errors should be fairly obvious. The oracle further reminds you that performance/accuracy of the (resulting) model should not be how you ensure you have debugged successfully. For example, if you correct some, but not all, of the errors, the remaining errors may mask the impact of your fixes. Further, performance is not guaranteed to improve by fixing any particular error. Consider the case where the training set is also employed as the test set; performance will be very high but there is something very wrong. And fixing the problem will reduce performance.\n",
    "In fixing each error, the oracle provides some further insight about the fixes:\n",
    "\n",
    "* _Minimal_ \\\n",
    "A reasonable fix for each error can be achieved in < 5 lines of code being changes. We do not require you to make fixes of 4 or fewer lines, but it should be a cause for concern if your fixes are far more elaborate.\n",
    "\n",
    "* _Ill-posed_ \\\n",
    "While the errors are unambiguous, the method for fixing them is under-specified: You are free to implement any reasonable fix and all such fixes will equally receive full credit."
   ]
  },
  {
   "cell_type": "code",
   "execution_count": null,
   "metadata": {
    "id": "fHbr7ltPADIu"
   },
   "outputs": [],
   "source": [
    "# Lambda to switch to GPU if available\n",
    "get_device = lambda : \"cuda:0\" if torch.cuda.is_available() else \"cpu\""
   ]
  },
  {
   "cell_type": "code",
   "execution_count": null,
   "metadata": {
    "id": "EsNf3SOHcbCa"
   },
   "outputs": [],
   "source": [
    "unk = '<UNK>'\n",
    "\n",
    "# Consult the PyTorch documentation for information on the functions used below:\n",
    "# https://pytorch.org/docs/stable/torch.html\n",
    "\n",
    "class FFNN(nn.Module):\n",
    "\tdef __init__(self, input_dim, h, output_dim):\n",
    "\t\tsuper(FFNN, self).__init__()\n",
    "\t\tself.h = h\n",
    "\t\tself.W1 = nn.Linear(input_dim, h)\n",
    "\t\tself.activation = nn.ReLU() # The rectified linear unit; one valid choice of activation function\n",
    "\t\t#ERROR 1: output dimension not used ! ERROR\n",
    "\t\tself.W2 = nn.Linear(h, output_dim)\n",
    "\t\t#self.W2 = nn.Linear(h, h)\n",
    "    # The below two lines are not a source for an error\n",
    "\t\tself.softmax = nn.LogSoftmax(dim=1) # The softmax function that converts vectors into probability distributions; computes log probabilities for computational benefits\n",
    "\t\tself.loss = nn.NLLLoss() # The cross-entropy/negative log likelihood loss taught in class\n",
    "\n",
    "\tdef compute_Loss(self, predicted_vector, gold_label):\n",
    "\t\treturn self.loss(predicted_vector, gold_label)\n",
    "\n",
    "\tdef forward(self, input_vector):\n",
    "\t\t# The z_i are just there to record intermediary computations for your clarity\n",
    "\t\tz1 = self.W1(input_vector)\n",
    "\t\t#ERROR 2: apply relu or activation function\n",
    "\t\tz11 = self.activation(z1)\n",
    "\t\tz2 = self.W2(z11)\n",
    "\t\t#z2 = self.W2(z1)\n",
    "\t\tpredicted_vector = self.softmax(z2)\n",
    "\t\treturn predicted_vector\n",
    "\t\n",
    "\tdef load_model(self, save_path):\n",
    "\t\tself.load_state_dict(torch.load(save_path))\n",
    "\t\n",
    "\tdef save_model(self, save_path):\n",
    "\t\ttorch.save(self.state_dict(), save_path)\n",
    "\n",
    "\n",
    "def train_epoch(model, train_loader, optimizer):\n",
    "\tmodel.train()\n",
    "\ttotal = 0\n",
    "\tloss = 0\n",
    "\tcorrect = 0\n",
    "\tfor (input_batch, expected_out) in tqdm(train_loader, leave=False, desc=\"Training Batches\"):\n",
    "\t\texpected_out = torch.tensor([int(i) for i in expected_out])\n",
    "\t\toutput = model(input_batch.to(get_device()))\n",
    "\t\ttotal += output.size()[0]\n",
    "\t\t_, predicted = torch.max(output, 1)\n",
    "\t\tcorrect += (expected_out == predicted.to(\"cpu\")).cpu().numpy().sum()\n",
    "\n",
    "\t\tloss = model.compute_Loss(output, expected_out.to(get_device()))\n",
    "\t\t#ERROR 3: call zero_grad() before\n",
    "\t\toptimizer.zero_grad()\n",
    "\t\tloss.backward()\n",
    "\t\toptimizer.step()\n",
    "\t# TODO: You'll want to print accuracy here\n",
    "\t\t#print(f\"accuracy: {correct/total}\")\n",
    "\n",
    "\treturn\n",
    "\n",
    "\n",
    "def evaluation(model, val_loader, optimizer):\n",
    "\tmodel.eval()\n",
    "\tloss = 0\n",
    "\tcorrect = 0\n",
    "\ttotal = 0\n",
    "\tfor (input_batch, expected_out) in tqdm(val_loader, leave=False, desc=\"Validation Batches\"):\n",
    "\t\texpected_out = torch.tensor([int(i) for i in expected_out])\n",
    "\t\toutput = model(input_batch.to(get_device()))\n",
    "\t\ttotal += output.size()[0]\n",
    "\t\t_, predicted = torch.max(output, 1)\n",
    "\t\tcorrect += (expected_out.to(\"cpu\") == predicted.to(\"cpu\")).cpu().numpy().sum()\n",
    "\n",
    "\t\tloss += model.compute_Loss(output, expected_out.to(get_device()))\n",
    "\t#why divide?\n",
    "\tloss /= len(val_loader)\n",
    "\t# TODO: You'll want to print some validation metrics here\n",
    "\tprint(f\"accuracy: {correct/total}\")\n",
    "\tpass\n",
    "\n",
    "def train_and_evaluate(number_of_epochs, model, train_loader, val_loader):\n",
    "\toptimizer = optim.SGD(model.parameters(), lr=0.001, momentum=0.9)\n",
    "\tfor epoch in trange(number_of_epochs, desc=\"Epochs\"):\n",
    "\t\t#ERROR 4: train on training data???\n",
    "\t\ttrain_epoch(model, train_loader, optimizer)\n",
    "\t\t#train_epoch(model, val_loader, optimizer)\n",
    "\t\twith torch.no_grad():\n",
    "\t\t\tevaluation(model, val_loader, optimizer)\n",
    "\treturn"
   ]
  },
  {
   "cell_type": "code",
   "execution_count": null,
   "metadata": {
    "colab": {
     "base_uri": "https://localhost:8080/",
     "height": 86,
     "referenced_widgets": [
      "d035e3325733419a8ba6629effcc5f92",
      "e4ef2a9010a14aeeaca17a15e6bbdd9d",
      "3e20c17f0f274105ac5e6a84718ee1ac",
      "0560b9f2986d407eb27def4efe3e7e53",
      "5b971f1af0394fc789cce25f57fd9941",
      "3aeb4ef1f57548a985602b59c14e0c3e",
      "51281e9f043346579fbf98bb65bb0e79",
      "54405be83cbc4f64b428e1fa5d416d3b",
      "7621ec8ea8a44823808e3c02959af9cf",
      "1f2827a77839404493702ad9720bc2dc",
      "2267163761514c5a9a09f5cd3ee35f82",
      "d33c021964bf4013b8c4b2c523e70123",
      "f376437e7d814206abfa911c62a19189",
      "2e9e0cc95f54475cbc79280abb207a72",
      "b4e26db00e27487084cba02376fe2791",
      "115035f3a4e345c385f58a84924d825a",
      "f1079f95ccb049b79777747f414d8a75",
      "cda5cab3bccb4894bb534f972d5c6c0f",
      "8d2b3aee10a14681834c841f077fc682",
      "54a9ec72db6e4d229612b682cac27f37",
      "7703ad9a74ac40b0bbe16e2240119807",
      "394fbe13b61d4a1197addf78e2de3e4d",
      "9dc95bdd99ba4a57b8160ca76390b525",
      "2766f0ce702443f7966b46baecdb8f16",
      "62d2b4af38b4484481d5afea6d23adf3",
      "e9d0dbcccc764dd697948d61c21afd46",
      "809d56c6ea494bd8af7e591dcd7ac660",
      "70341e12ae9e4e05af6c7efc75ef64fb",
      "1c838a17f3a24dfe9d70174e97b8df97",
      "cd00c2dc184d442b9d7fddeac4a966ad",
      "569261fe42c14e3ba4120ce83adb118f",
      "71b1bdaaada8432195fdc2cd4e4023bd",
      "30087106682f4ceda1042895f7e4650b",
      "770321c7bf424e60a8af134e959b43ce",
      "7f5f031ba92a4e1f8ffd96c98723a0dc",
      "4c6f68947277474998d48cefd8d94777",
      "02642ca5e3124fbeafd1b58e32a4ab12",
      "1c10c4b9b90f4fdc80a08cf0d7d144c6",
      "264a8fd365054573b83c9f69ff960fc7",
      "e35e0759dfd347b28be09bca49c5e021",
      "1785a94b754a4f8ab5f47c596c981d83",
      "88398c28ea3d412abae6b8709a667994",
      "24be9727c17042099176707c8831ba61",
      "493c5aaafc994b56a4185c51ac37838d",
      "ba9a68fc43e64c4b83949701c47ca766",
      "853c3f66740f44229771c8b448428585",
      "a157fad4a29547c598feed18c70cd099",
      "2e3977102fb244d89cb97e55f2e37320",
      "eba9db3df4d7406f99b4064148416d51",
      "e9ad9ac0379343f28769ab3bcc002a47",
      "ec6d6cbaf20a4aecb61e124c9e9ff859",
      "04f46876a98045c8b26d0f2a91c089a0",
      "aa6ff4dcd4824983b124c4f44526bf2e",
      "d3aae986e47d4e61b6fdace001b849bc",
      "a41f59594a6b47d5863cf6185842330d"
     ]
    },
    "id": "qFrrcE3CVxzX",
    "outputId": "6f256857-548c-4300-d006-5e2f8975c333"
   },
   "outputs": [
    {
     "data": {
      "application/vnd.jupyter.widget-view+json": {
       "model_id": "d035e3325733419a8ba6629effcc5f92",
       "version_major": 2,
       "version_minor": 0
      },
      "text/plain": [
       "Epochs:   0%|          | 0/2 [00:00<?, ?it/s]"
      ]
     },
     "metadata": {},
     "output_type": "display_data"
    },
    {
     "data": {
      "application/vnd.jupyter.widget-view+json": {
       "model_id": "d33c021964bf4013b8c4b2c523e70123",
       "version_major": 2,
       "version_minor": 0
      },
      "text/plain": [
       "Training Batches:   0%|          | 0/5000 [00:00<?, ?it/s]"
      ]
     },
     "metadata": {},
     "output_type": "display_data"
    },
    {
     "data": {
      "application/vnd.jupyter.widget-view+json": {
       "model_id": "9dc95bdd99ba4a57b8160ca76390b525",
       "version_major": 2,
       "version_minor": 0
      },
      "text/plain": [
       "Validation Batches:   0%|          | 0/500 [00:00<?, ?it/s]"
      ]
     },
     "metadata": {},
     "output_type": "display_data"
    },
    {
     "name": "stdout",
     "output_type": "stream",
     "text": [
      "accuracy: 0.0\n"
     ]
    },
    {
     "data": {
      "application/vnd.jupyter.widget-view+json": {
       "model_id": "770321c7bf424e60a8af134e959b43ce",
       "version_major": 2,
       "version_minor": 0
      },
      "text/plain": [
       "Training Batches:   0%|          | 0/5000 [00:00<?, ?it/s]"
      ]
     },
     "metadata": {},
     "output_type": "display_data"
    },
    {
     "data": {
      "application/vnd.jupyter.widget-view+json": {
       "model_id": "ba9a68fc43e64c4b83949701c47ca766",
       "version_major": 2,
       "version_minor": 0
      },
      "text/plain": [
       "Validation Batches:   0%|          | 0/500 [00:00<?, ?it/s]"
      ]
     },
     "metadata": {},
     "output_type": "display_data"
    },
    {
     "name": "stdout",
     "output_type": "stream",
     "text": [
      "accuracy: 0.0\n"
     ]
    }
   ],
   "source": [
    "h = 512\n",
    "model = FFNN(len(vocab), h, len(language_to_idx)).to(get_device())\n",
    "train_and_evaluate(2, model, train_loader, val_loader)\n",
    "model.save_model(\"ffnn_fixed.pth\") # Save our model!"
   ]
  },
  {
   "cell_type": "code",
   "execution_count": null,
   "metadata": {
    "id": "sZqpEPzW_lXX"
   },
   "outputs": [],
   "source": [
    "# Example of how to load\n",
    "loaded_model = FFNN(len(vocab), h, len(language_to_idx))\n",
    "loaded_model.load_model(\"ffnn_fixed.pth\")"
   ]
  },
  {
   "cell_type": "code",
   "execution_count": null,
   "metadata": {
    "id": "UnQjgpCuq7lR"
   },
   "outputs": [],
   "source": [
    "%%capture\n",
    "!apt-get install texlive texlive-xetex texlive-latex-extra pandoc\n",
    "!pip install pypandoc"
   ]
  },
  {
   "cell_type": "code",
   "execution_count": null,
   "metadata": {
    "id": "vqbxslUVq8mQ"
   },
   "outputs": [],
   "source": [
    "%%capture\n",
    "# the red text is a placeholder! Change it to your directory structure!\n",
    "!cp 'drive/My Drive/Colab Notebooks/4740_FA21_p3_crs338_rt378.ipynb' ./ "
   ]
  },
  {
   "cell_type": "code",
   "execution_count": null,
   "metadata": {
    "colab": {
     "base_uri": "https://localhost:8080/"
    },
    "id": "gMQLKe-LrTBx",
    "outputId": "4c7dc14e-0dee-47fa-af4a-018311d73e9e"
   },
   "outputs": [
    {
     "name": "stdout",
     "output_type": "stream",
     "text": [
      "[NbConvertApp] Converting notebook 4740_FA21_p3_crs338_rt378.ipynb to PDF\n",
      "[NbConvertApp] Writing 62278 bytes to ./notebook.tex\n",
      "[NbConvertApp] Building PDF\n",
      "[NbConvertApp] Running xelatex 3 times: [u'xelatex', u'./notebook.tex', '-quiet']\n",
      "[NbConvertApp] Running bibtex 1 time: [u'bibtex', u'./notebook']\n",
      "[NbConvertApp] WARNING | bibtex had problems, most likely because there were no citations\n",
      "[NbConvertApp] PDF successfully created\n",
      "[NbConvertApp] Writing 71802 bytes to 4740_FA21_p3_crs338_rt378.pdf\n"
     ]
    }
   ],
   "source": [
    "# the red text is a placeholder! Change it to the name of this notebook!\n",
    "!jupyter nbconvert --to PDF \"4740_FA21_p3_crs338_rt378.ipynb\""
   ]
  },
  {
   "cell_type": "markdown",
   "metadata": {
    "id": "XxW8Xgq6YbPE"
   },
   "source": [
    "## 1.2 Part 1 Report\n",
    "Please include a description of the error, a description of your fix, and a python comment in the code indicating where fix is for each of the 4 errors. The python comment will look something along the lines of \"# Error 1 fix on line below\". As a convenience, the template for the google doc write up is [here](https://docs.google.com/document/d/16scmrRva5WczB4a4QDYhFJBXaaAJd8oesEEAdi6ehbY/edit)\n",
    "\n",
    "### Error 1:\n",
    "Your answer here.\n",
    "\n",
    "### Error 2:\n",
    "Your answer here.\n",
    "\n",
    "### Error 3:\n",
    "Your answer here.\n",
    "\n",
    "### Error 4:\n",
    "Your answer here."
   ]
  },
  {
   "cell_type": "markdown",
   "metadata": {
    "id": "kb4Tc3Fe2Shr"
   },
   "source": []
  },
  {
   "cell_type": "markdown",
   "metadata": {
    "id": "bD0pgD0Jh84T"
   },
   "source": [
    "# Part 2: Miscellaneous\n",
    "List any additional libraries you used and sources you referenced and cited (labelled with the section in which you referred to them). Include a description of how your group split\n",
    "up the work. Include brief feedback on this asignment."
   ]
  },
  {
   "cell_type": "markdown",
   "metadata": {
    "id": "snL2qqbR3SbN"
   },
   "source": []
  },
  {
   "cell_type": "markdown",
   "metadata": {
    "id": "4VeQ8uBwiR-a"
   },
   "source": [
    "**Each section must be clearly labelled, complete, and the corresponding pages should be correctly assigned to the corresponding Gradescope rubric item.** If you follow these steps for each of the 4 components requested, you are guaranteed full credit for this section. Otherwise, you will receive no credit for this section."
   ]
  },
  {
   "cell_type": "code",
   "execution_count": null,
   "metadata": {
    "id": "lxa3UbNDsR-U"
   },
   "outputs": [],
   "source": []
  }
 ],
 "metadata": {
  "accelerator": "GPU",
  "colab": {
   "collapsed_sections": [],
   "name": "4740_FA21_p3_crs338_rt378.ipynb",
   "provenance": []
  },
  "kernelspec": {
   "display_name": "Python 3 (ipykernel)",
   "language": "python",
   "name": "python3"
  },
  "language_info": {
   "codemirror_mode": {
    "name": "ipython",
    "version": 3
   },
   "file_extension": ".py",
   "mimetype": "text/x-python",
   "name": "python",
   "nbconvert_exporter": "python",
   "pygments_lexer": "ipython3",
   "version": "3.10.5"
  },
  "widgets": {
   "application/vnd.jupyter.widget-state+json": {
    "02642ca5e3124fbeafd1b58e32a4ab12": {
     "model_module": "@jupyter-widgets/controls",
     "model_module_version": "1.5.0",
     "model_name": "FloatProgressModel",
     "state": {
      "_dom_classes": [],
      "_model_module": "@jupyter-widgets/controls",
      "_model_module_version": "1.5.0",
      "_model_name": "FloatProgressModel",
      "_view_count": null,
      "_view_module": "@jupyter-widgets/controls",
      "_view_module_version": "1.5.0",
      "_view_name": "ProgressView",
      "bar_style": "",
      "description": "",
      "description_tooltip": null,
      "layout": "IPY_MODEL_88398c28ea3d412abae6b8709a667994",
      "max": 5000,
      "min": 0,
      "orientation": "horizontal",
      "style": "IPY_MODEL_1785a94b754a4f8ab5f47c596c981d83",
      "value": 5000
     }
    },
    "04f46876a98045c8b26d0f2a91c089a0": {
     "model_module": "@jupyter-widgets/controls",
     "model_module_version": "1.5.0",
     "model_name": "ProgressStyleModel",
     "state": {
      "_model_module": "@jupyter-widgets/controls",
      "_model_module_version": "1.5.0",
      "_model_name": "ProgressStyleModel",
      "_view_count": null,
      "_view_module": "@jupyter-widgets/base",
      "_view_module_version": "1.2.0",
      "_view_name": "StyleView",
      "bar_color": null,
      "description_width": ""
     }
    },
    "0560b9f2986d407eb27def4efe3e7e53": {
     "model_module": "@jupyter-widgets/controls",
     "model_module_version": "1.5.0",
     "model_name": "FloatProgressModel",
     "state": {
      "_dom_classes": [],
      "_model_module": "@jupyter-widgets/controls",
      "_model_module_version": "1.5.0",
      "_model_name": "FloatProgressModel",
      "_view_count": null,
      "_view_module": "@jupyter-widgets/controls",
      "_view_module_version": "1.5.0",
      "_view_name": "ProgressView",
      "bar_style": "success",
      "description": "",
      "description_tooltip": null,
      "layout": "IPY_MODEL_7621ec8ea8a44823808e3c02959af9cf",
      "max": 2,
      "min": 0,
      "orientation": "horizontal",
      "style": "IPY_MODEL_54405be83cbc4f64b428e1fa5d416d3b",
      "value": 2
     }
    },
    "115035f3a4e345c385f58a84924d825a": {
     "model_module": "@jupyter-widgets/controls",
     "model_module_version": "1.5.0",
     "model_name": "HTMLModel",
     "state": {
      "_dom_classes": [],
      "_model_module": "@jupyter-widgets/controls",
      "_model_module_version": "1.5.0",
      "_model_name": "HTMLModel",
      "_view_count": null,
      "_view_module": "@jupyter-widgets/controls",
      "_view_module_version": "1.5.0",
      "_view_name": "HTMLView",
      "description": "",
      "description_tooltip": null,
      "layout": "IPY_MODEL_394fbe13b61d4a1197addf78e2de3e4d",
      "placeholder": "​",
      "style": "IPY_MODEL_7703ad9a74ac40b0bbe16e2240119807",
      "value": " 5000/5000 [00:11&lt;00:00, 430.93it/s]"
     }
    },
    "1785a94b754a4f8ab5f47c596c981d83": {
     "model_module": "@jupyter-widgets/controls",
     "model_module_version": "1.5.0",
     "model_name": "ProgressStyleModel",
     "state": {
      "_model_module": "@jupyter-widgets/controls",
      "_model_module_version": "1.5.0",
      "_model_name": "ProgressStyleModel",
      "_view_count": null,
      "_view_module": "@jupyter-widgets/base",
      "_view_module_version": "1.2.0",
      "_view_name": "StyleView",
      "bar_color": null,
      "description_width": ""
     }
    },
    "1c10c4b9b90f4fdc80a08cf0d7d144c6": {
     "model_module": "@jupyter-widgets/controls",
     "model_module_version": "1.5.0",
     "model_name": "HTMLModel",
     "state": {
      "_dom_classes": [],
      "_model_module": "@jupyter-widgets/controls",
      "_model_module_version": "1.5.0",
      "_model_name": "HTMLModel",
      "_view_count": null,
      "_view_module": "@jupyter-widgets/controls",
      "_view_module_version": "1.5.0",
      "_view_name": "HTMLView",
      "description": "",
      "description_tooltip": null,
      "layout": "IPY_MODEL_493c5aaafc994b56a4185c51ac37838d",
      "placeholder": "​",
      "style": "IPY_MODEL_24be9727c17042099176707c8831ba61",
      "value": " 4974/5000 [00:11&lt;00:00, 436.08it/s]"
     }
    },
    "1c838a17f3a24dfe9d70174e97b8df97": {
     "model_module": "@jupyter-widgets/base",
     "model_module_version": "1.2.0",
     "model_name": "LayoutModel",
     "state": {
      "_model_module": "@jupyter-widgets/base",
      "_model_module_version": "1.2.0",
      "_model_name": "LayoutModel",
      "_view_count": null,
      "_view_module": "@jupyter-widgets/base",
      "_view_module_version": "1.2.0",
      "_view_name": "LayoutView",
      "align_content": null,
      "align_items": null,
      "align_self": null,
      "border": null,
      "bottom": null,
      "display": null,
      "flex": null,
      "flex_flow": null,
      "grid_area": null,
      "grid_auto_columns": null,
      "grid_auto_flow": null,
      "grid_auto_rows": null,
      "grid_column": null,
      "grid_gap": null,
      "grid_row": null,
      "grid_template_areas": null,
      "grid_template_columns": null,
      "grid_template_rows": null,
      "height": null,
      "justify_content": null,
      "justify_items": null,
      "left": null,
      "margin": null,
      "max_height": null,
      "max_width": null,
      "min_height": null,
      "min_width": null,
      "object_fit": null,
      "object_position": null,
      "order": null,
      "overflow": null,
      "overflow_x": null,
      "overflow_y": null,
      "padding": null,
      "right": null,
      "top": null,
      "visibility": null,
      "width": null
     }
    },
    "1f2827a77839404493702ad9720bc2dc": {
     "model_module": "@jupyter-widgets/controls",
     "model_module_version": "1.5.0",
     "model_name": "DescriptionStyleModel",
     "state": {
      "_model_module": "@jupyter-widgets/controls",
      "_model_module_version": "1.5.0",
      "_model_name": "DescriptionStyleModel",
      "_view_count": null,
      "_view_module": "@jupyter-widgets/base",
      "_view_module_version": "1.2.0",
      "_view_name": "StyleView",
      "description_width": ""
     }
    },
    "2267163761514c5a9a09f5cd3ee35f82": {
     "model_module": "@jupyter-widgets/base",
     "model_module_version": "1.2.0",
     "model_name": "LayoutModel",
     "state": {
      "_model_module": "@jupyter-widgets/base",
      "_model_module_version": "1.2.0",
      "_model_name": "LayoutModel",
      "_view_count": null,
      "_view_module": "@jupyter-widgets/base",
      "_view_module_version": "1.2.0",
      "_view_name": "LayoutView",
      "align_content": null,
      "align_items": null,
      "align_self": null,
      "border": null,
      "bottom": null,
      "display": null,
      "flex": null,
      "flex_flow": null,
      "grid_area": null,
      "grid_auto_columns": null,
      "grid_auto_flow": null,
      "grid_auto_rows": null,
      "grid_column": null,
      "grid_gap": null,
      "grid_row": null,
      "grid_template_areas": null,
      "grid_template_columns": null,
      "grid_template_rows": null,
      "height": null,
      "justify_content": null,
      "justify_items": null,
      "left": null,
      "margin": null,
      "max_height": null,
      "max_width": null,
      "min_height": null,
      "min_width": null,
      "object_fit": null,
      "object_position": null,
      "order": null,
      "overflow": null,
      "overflow_x": null,
      "overflow_y": null,
      "padding": null,
      "right": null,
      "top": null,
      "visibility": null,
      "width": null
     }
    },
    "24be9727c17042099176707c8831ba61": {
     "model_module": "@jupyter-widgets/controls",
     "model_module_version": "1.5.0",
     "model_name": "DescriptionStyleModel",
     "state": {
      "_model_module": "@jupyter-widgets/controls",
      "_model_module_version": "1.5.0",
      "_model_name": "DescriptionStyleModel",
      "_view_count": null,
      "_view_module": "@jupyter-widgets/base",
      "_view_module_version": "1.2.0",
      "_view_name": "StyleView",
      "description_width": ""
     }
    },
    "264a8fd365054573b83c9f69ff960fc7": {
     "model_module": "@jupyter-widgets/controls",
     "model_module_version": "1.5.0",
     "model_name": "DescriptionStyleModel",
     "state": {
      "_model_module": "@jupyter-widgets/controls",
      "_model_module_version": "1.5.0",
      "_model_name": "DescriptionStyleModel",
      "_view_count": null,
      "_view_module": "@jupyter-widgets/base",
      "_view_module_version": "1.2.0",
      "_view_name": "StyleView",
      "description_width": ""
     }
    },
    "2766f0ce702443f7966b46baecdb8f16": {
     "model_module": "@jupyter-widgets/base",
     "model_module_version": "1.2.0",
     "model_name": "LayoutModel",
     "state": {
      "_model_module": "@jupyter-widgets/base",
      "_model_module_version": "1.2.0",
      "_model_name": "LayoutModel",
      "_view_count": null,
      "_view_module": "@jupyter-widgets/base",
      "_view_module_version": "1.2.0",
      "_view_name": "LayoutView",
      "align_content": null,
      "align_items": null,
      "align_self": null,
      "border": null,
      "bottom": null,
      "display": null,
      "flex": null,
      "flex_flow": null,
      "grid_area": null,
      "grid_auto_columns": null,
      "grid_auto_flow": null,
      "grid_auto_rows": null,
      "grid_column": null,
      "grid_gap": null,
      "grid_row": null,
      "grid_template_areas": null,
      "grid_template_columns": null,
      "grid_template_rows": null,
      "height": null,
      "justify_content": null,
      "justify_items": null,
      "left": null,
      "margin": null,
      "max_height": null,
      "max_width": null,
      "min_height": null,
      "min_width": null,
      "object_fit": null,
      "object_position": null,
      "order": null,
      "overflow": null,
      "overflow_x": null,
      "overflow_y": null,
      "padding": null,
      "right": null,
      "top": null,
      "visibility": null,
      "width": null
     }
    },
    "2e3977102fb244d89cb97e55f2e37320": {
     "model_module": "@jupyter-widgets/controls",
     "model_module_version": "1.5.0",
     "model_name": "FloatProgressModel",
     "state": {
      "_dom_classes": [],
      "_model_module": "@jupyter-widgets/controls",
      "_model_module_version": "1.5.0",
      "_model_name": "FloatProgressModel",
      "_view_count": null,
      "_view_module": "@jupyter-widgets/controls",
      "_view_module_version": "1.5.0",
      "_view_name": "ProgressView",
      "bar_style": "",
      "description": "",
      "description_tooltip": null,
      "layout": "IPY_MODEL_aa6ff4dcd4824983b124c4f44526bf2e",
      "max": 500,
      "min": 0,
      "orientation": "horizontal",
      "style": "IPY_MODEL_04f46876a98045c8b26d0f2a91c089a0",
      "value": 500
     }
    },
    "2e9e0cc95f54475cbc79280abb207a72": {
     "model_module": "@jupyter-widgets/controls",
     "model_module_version": "1.5.0",
     "model_name": "HTMLModel",
     "state": {
      "_dom_classes": [],
      "_model_module": "@jupyter-widgets/controls",
      "_model_module_version": "1.5.0",
      "_model_name": "HTMLModel",
      "_view_count": null,
      "_view_module": "@jupyter-widgets/controls",
      "_view_module_version": "1.5.0",
      "_view_name": "HTMLView",
      "description": "",
      "description_tooltip": null,
      "layout": "IPY_MODEL_cda5cab3bccb4894bb534f972d5c6c0f",
      "placeholder": "​",
      "style": "IPY_MODEL_f1079f95ccb049b79777747f414d8a75",
      "value": "Training Batches: 100%"
     }
    },
    "30087106682f4ceda1042895f7e4650b": {
     "model_module": "@jupyter-widgets/base",
     "model_module_version": "1.2.0",
     "model_name": "LayoutModel",
     "state": {
      "_model_module": "@jupyter-widgets/base",
      "_model_module_version": "1.2.0",
      "_model_name": "LayoutModel",
      "_view_count": null,
      "_view_module": "@jupyter-widgets/base",
      "_view_module_version": "1.2.0",
      "_view_name": "LayoutView",
      "align_content": null,
      "align_items": null,
      "align_self": null,
      "border": null,
      "bottom": null,
      "display": null,
      "flex": null,
      "flex_flow": null,
      "grid_area": null,
      "grid_auto_columns": null,
      "grid_auto_flow": null,
      "grid_auto_rows": null,
      "grid_column": null,
      "grid_gap": null,
      "grid_row": null,
      "grid_template_areas": null,
      "grid_template_columns": null,
      "grid_template_rows": null,
      "height": null,
      "justify_content": null,
      "justify_items": null,
      "left": null,
      "margin": null,
      "max_height": null,
      "max_width": null,
      "min_height": null,
      "min_width": null,
      "object_fit": null,
      "object_position": null,
      "order": null,
      "overflow": null,
      "overflow_x": null,
      "overflow_y": null,
      "padding": null,
      "right": null,
      "top": null,
      "visibility": null,
      "width": null
     }
    },
    "394fbe13b61d4a1197addf78e2de3e4d": {
     "model_module": "@jupyter-widgets/base",
     "model_module_version": "1.2.0",
     "model_name": "LayoutModel",
     "state": {
      "_model_module": "@jupyter-widgets/base",
      "_model_module_version": "1.2.0",
      "_model_name": "LayoutModel",
      "_view_count": null,
      "_view_module": "@jupyter-widgets/base",
      "_view_module_version": "1.2.0",
      "_view_name": "LayoutView",
      "align_content": null,
      "align_items": null,
      "align_self": null,
      "border": null,
      "bottom": null,
      "display": null,
      "flex": null,
      "flex_flow": null,
      "grid_area": null,
      "grid_auto_columns": null,
      "grid_auto_flow": null,
      "grid_auto_rows": null,
      "grid_column": null,
      "grid_gap": null,
      "grid_row": null,
      "grid_template_areas": null,
      "grid_template_columns": null,
      "grid_template_rows": null,
      "height": null,
      "justify_content": null,
      "justify_items": null,
      "left": null,
      "margin": null,
      "max_height": null,
      "max_width": null,
      "min_height": null,
      "min_width": null,
      "object_fit": null,
      "object_position": null,
      "order": null,
      "overflow": null,
      "overflow_x": null,
      "overflow_y": null,
      "padding": null,
      "right": null,
      "top": null,
      "visibility": null,
      "width": null
     }
    },
    "3aeb4ef1f57548a985602b59c14e0c3e": {
     "model_module": "@jupyter-widgets/controls",
     "model_module_version": "1.5.0",
     "model_name": "DescriptionStyleModel",
     "state": {
      "_model_module": "@jupyter-widgets/controls",
      "_model_module_version": "1.5.0",
      "_model_name": "DescriptionStyleModel",
      "_view_count": null,
      "_view_module": "@jupyter-widgets/base",
      "_view_module_version": "1.2.0",
      "_view_name": "StyleView",
      "description_width": ""
     }
    },
    "3e20c17f0f274105ac5e6a84718ee1ac": {
     "model_module": "@jupyter-widgets/controls",
     "model_module_version": "1.5.0",
     "model_name": "HTMLModel",
     "state": {
      "_dom_classes": [],
      "_model_module": "@jupyter-widgets/controls",
      "_model_module_version": "1.5.0",
      "_model_name": "HTMLModel",
      "_view_count": null,
      "_view_module": "@jupyter-widgets/controls",
      "_view_module_version": "1.5.0",
      "_view_name": "HTMLView",
      "description": "",
      "description_tooltip": null,
      "layout": "IPY_MODEL_51281e9f043346579fbf98bb65bb0e79",
      "placeholder": "​",
      "style": "IPY_MODEL_3aeb4ef1f57548a985602b59c14e0c3e",
      "value": "Epochs: 100%"
     }
    },
    "493c5aaafc994b56a4185c51ac37838d": {
     "model_module": "@jupyter-widgets/base",
     "model_module_version": "1.2.0",
     "model_name": "LayoutModel",
     "state": {
      "_model_module": "@jupyter-widgets/base",
      "_model_module_version": "1.2.0",
      "_model_name": "LayoutModel",
      "_view_count": null,
      "_view_module": "@jupyter-widgets/base",
      "_view_module_version": "1.2.0",
      "_view_name": "LayoutView",
      "align_content": null,
      "align_items": null,
      "align_self": null,
      "border": null,
      "bottom": null,
      "display": null,
      "flex": null,
      "flex_flow": null,
      "grid_area": null,
      "grid_auto_columns": null,
      "grid_auto_flow": null,
      "grid_auto_rows": null,
      "grid_column": null,
      "grid_gap": null,
      "grid_row": null,
      "grid_template_areas": null,
      "grid_template_columns": null,
      "grid_template_rows": null,
      "height": null,
      "justify_content": null,
      "justify_items": null,
      "left": null,
      "margin": null,
      "max_height": null,
      "max_width": null,
      "min_height": null,
      "min_width": null,
      "object_fit": null,
      "object_position": null,
      "order": null,
      "overflow": null,
      "overflow_x": null,
      "overflow_y": null,
      "padding": null,
      "right": null,
      "top": null,
      "visibility": null,
      "width": null
     }
    },
    "4c6f68947277474998d48cefd8d94777": {
     "model_module": "@jupyter-widgets/controls",
     "model_module_version": "1.5.0",
     "model_name": "HTMLModel",
     "state": {
      "_dom_classes": [],
      "_model_module": "@jupyter-widgets/controls",
      "_model_module_version": "1.5.0",
      "_model_name": "HTMLModel",
      "_view_count": null,
      "_view_module": "@jupyter-widgets/controls",
      "_view_module_version": "1.5.0",
      "_view_name": "HTMLView",
      "description": "",
      "description_tooltip": null,
      "layout": "IPY_MODEL_e35e0759dfd347b28be09bca49c5e021",
      "placeholder": "​",
      "style": "IPY_MODEL_264a8fd365054573b83c9f69ff960fc7",
      "value": "Training Batches:  99%"
     }
    },
    "51281e9f043346579fbf98bb65bb0e79": {
     "model_module": "@jupyter-widgets/base",
     "model_module_version": "1.2.0",
     "model_name": "LayoutModel",
     "state": {
      "_model_module": "@jupyter-widgets/base",
      "_model_module_version": "1.2.0",
      "_model_name": "LayoutModel",
      "_view_count": null,
      "_view_module": "@jupyter-widgets/base",
      "_view_module_version": "1.2.0",
      "_view_name": "LayoutView",
      "align_content": null,
      "align_items": null,
      "align_self": null,
      "border": null,
      "bottom": null,
      "display": null,
      "flex": null,
      "flex_flow": null,
      "grid_area": null,
      "grid_auto_columns": null,
      "grid_auto_flow": null,
      "grid_auto_rows": null,
      "grid_column": null,
      "grid_gap": null,
      "grid_row": null,
      "grid_template_areas": null,
      "grid_template_columns": null,
      "grid_template_rows": null,
      "height": null,
      "justify_content": null,
      "justify_items": null,
      "left": null,
      "margin": null,
      "max_height": null,
      "max_width": null,
      "min_height": null,
      "min_width": null,
      "object_fit": null,
      "object_position": null,
      "order": null,
      "overflow": null,
      "overflow_x": null,
      "overflow_y": null,
      "padding": null,
      "right": null,
      "top": null,
      "visibility": null,
      "width": null
     }
    },
    "54405be83cbc4f64b428e1fa5d416d3b": {
     "model_module": "@jupyter-widgets/controls",
     "model_module_version": "1.5.0",
     "model_name": "ProgressStyleModel",
     "state": {
      "_model_module": "@jupyter-widgets/controls",
      "_model_module_version": "1.5.0",
      "_model_name": "ProgressStyleModel",
      "_view_count": null,
      "_view_module": "@jupyter-widgets/base",
      "_view_module_version": "1.2.0",
      "_view_name": "StyleView",
      "bar_color": null,
      "description_width": ""
     }
    },
    "54a9ec72db6e4d229612b682cac27f37": {
     "model_module": "@jupyter-widgets/base",
     "model_module_version": "1.2.0",
     "model_name": "LayoutModel",
     "state": {
      "_model_module": "@jupyter-widgets/base",
      "_model_module_version": "1.2.0",
      "_model_name": "LayoutModel",
      "_view_count": null,
      "_view_module": "@jupyter-widgets/base",
      "_view_module_version": "1.2.0",
      "_view_name": "LayoutView",
      "align_content": null,
      "align_items": null,
      "align_self": null,
      "border": null,
      "bottom": null,
      "display": null,
      "flex": null,
      "flex_flow": null,
      "grid_area": null,
      "grid_auto_columns": null,
      "grid_auto_flow": null,
      "grid_auto_rows": null,
      "grid_column": null,
      "grid_gap": null,
      "grid_row": null,
      "grid_template_areas": null,
      "grid_template_columns": null,
      "grid_template_rows": null,
      "height": null,
      "justify_content": null,
      "justify_items": null,
      "left": null,
      "margin": null,
      "max_height": null,
      "max_width": null,
      "min_height": null,
      "min_width": null,
      "object_fit": null,
      "object_position": null,
      "order": null,
      "overflow": null,
      "overflow_x": null,
      "overflow_y": null,
      "padding": null,
      "right": null,
      "top": null,
      "visibility": null,
      "width": null
     }
    },
    "569261fe42c14e3ba4120ce83adb118f": {
     "model_module": "@jupyter-widgets/base",
     "model_module_version": "1.2.0",
     "model_name": "LayoutModel",
     "state": {
      "_model_module": "@jupyter-widgets/base",
      "_model_module_version": "1.2.0",
      "_model_name": "LayoutModel",
      "_view_count": null,
      "_view_module": "@jupyter-widgets/base",
      "_view_module_version": "1.2.0",
      "_view_name": "LayoutView",
      "align_content": null,
      "align_items": null,
      "align_self": null,
      "border": null,
      "bottom": null,
      "display": null,
      "flex": null,
      "flex_flow": null,
      "grid_area": null,
      "grid_auto_columns": null,
      "grid_auto_flow": null,
      "grid_auto_rows": null,
      "grid_column": null,
      "grid_gap": null,
      "grid_row": null,
      "grid_template_areas": null,
      "grid_template_columns": null,
      "grid_template_rows": null,
      "height": null,
      "justify_content": null,
      "justify_items": null,
      "left": null,
      "margin": null,
      "max_height": null,
      "max_width": null,
      "min_height": null,
      "min_width": null,
      "object_fit": null,
      "object_position": null,
      "order": null,
      "overflow": null,
      "overflow_x": null,
      "overflow_y": null,
      "padding": null,
      "right": null,
      "top": null,
      "visibility": null,
      "width": null
     }
    },
    "5b971f1af0394fc789cce25f57fd9941": {
     "model_module": "@jupyter-widgets/controls",
     "model_module_version": "1.5.0",
     "model_name": "HTMLModel",
     "state": {
      "_dom_classes": [],
      "_model_module": "@jupyter-widgets/controls",
      "_model_module_version": "1.5.0",
      "_model_name": "HTMLModel",
      "_view_count": null,
      "_view_module": "@jupyter-widgets/controls",
      "_view_module_version": "1.5.0",
      "_view_name": "HTMLView",
      "description": "",
      "description_tooltip": null,
      "layout": "IPY_MODEL_2267163761514c5a9a09f5cd3ee35f82",
      "placeholder": "​",
      "style": "IPY_MODEL_1f2827a77839404493702ad9720bc2dc",
      "value": " 2/2 [00:24&lt;00:00, 12.11s/it]"
     }
    },
    "62d2b4af38b4484481d5afea6d23adf3": {
     "model_module": "@jupyter-widgets/controls",
     "model_module_version": "1.5.0",
     "model_name": "HTMLModel",
     "state": {
      "_dom_classes": [],
      "_model_module": "@jupyter-widgets/controls",
      "_model_module_version": "1.5.0",
      "_model_name": "HTMLModel",
      "_view_count": null,
      "_view_module": "@jupyter-widgets/controls",
      "_view_module_version": "1.5.0",
      "_view_name": "HTMLView",
      "description": "",
      "description_tooltip": null,
      "layout": "IPY_MODEL_1c838a17f3a24dfe9d70174e97b8df97",
      "placeholder": "​",
      "style": "IPY_MODEL_70341e12ae9e4e05af6c7efc75ef64fb",
      "value": "Validation Batches: 100%"
     }
    },
    "70341e12ae9e4e05af6c7efc75ef64fb": {
     "model_module": "@jupyter-widgets/controls",
     "model_module_version": "1.5.0",
     "model_name": "DescriptionStyleModel",
     "state": {
      "_model_module": "@jupyter-widgets/controls",
      "_model_module_version": "1.5.0",
      "_model_name": "DescriptionStyleModel",
      "_view_count": null,
      "_view_module": "@jupyter-widgets/base",
      "_view_module_version": "1.2.0",
      "_view_name": "StyleView",
      "description_width": ""
     }
    },
    "71b1bdaaada8432195fdc2cd4e4023bd": {
     "model_module": "@jupyter-widgets/controls",
     "model_module_version": "1.5.0",
     "model_name": "DescriptionStyleModel",
     "state": {
      "_model_module": "@jupyter-widgets/controls",
      "_model_module_version": "1.5.0",
      "_model_name": "DescriptionStyleModel",
      "_view_count": null,
      "_view_module": "@jupyter-widgets/base",
      "_view_module_version": "1.2.0",
      "_view_name": "StyleView",
      "description_width": ""
     }
    },
    "7621ec8ea8a44823808e3c02959af9cf": {
     "model_module": "@jupyter-widgets/base",
     "model_module_version": "1.2.0",
     "model_name": "LayoutModel",
     "state": {
      "_model_module": "@jupyter-widgets/base",
      "_model_module_version": "1.2.0",
      "_model_name": "LayoutModel",
      "_view_count": null,
      "_view_module": "@jupyter-widgets/base",
      "_view_module_version": "1.2.0",
      "_view_name": "LayoutView",
      "align_content": null,
      "align_items": null,
      "align_self": null,
      "border": null,
      "bottom": null,
      "display": null,
      "flex": null,
      "flex_flow": null,
      "grid_area": null,
      "grid_auto_columns": null,
      "grid_auto_flow": null,
      "grid_auto_rows": null,
      "grid_column": null,
      "grid_gap": null,
      "grid_row": null,
      "grid_template_areas": null,
      "grid_template_columns": null,
      "grid_template_rows": null,
      "height": null,
      "justify_content": null,
      "justify_items": null,
      "left": null,
      "margin": null,
      "max_height": null,
      "max_width": null,
      "min_height": null,
      "min_width": null,
      "object_fit": null,
      "object_position": null,
      "order": null,
      "overflow": null,
      "overflow_x": null,
      "overflow_y": null,
      "padding": null,
      "right": null,
      "top": null,
      "visibility": null,
      "width": null
     }
    },
    "770321c7bf424e60a8af134e959b43ce": {
     "model_module": "@jupyter-widgets/controls",
     "model_module_version": "1.5.0",
     "model_name": "HBoxModel",
     "state": {
      "_dom_classes": [],
      "_model_module": "@jupyter-widgets/controls",
      "_model_module_version": "1.5.0",
      "_model_name": "HBoxModel",
      "_view_count": null,
      "_view_module": "@jupyter-widgets/controls",
      "_view_module_version": "1.5.0",
      "_view_name": "HBoxView",
      "box_style": "",
      "children": [
       "IPY_MODEL_4c6f68947277474998d48cefd8d94777",
       "IPY_MODEL_02642ca5e3124fbeafd1b58e32a4ab12",
       "IPY_MODEL_1c10c4b9b90f4fdc80a08cf0d7d144c6"
      ],
      "layout": "IPY_MODEL_7f5f031ba92a4e1f8ffd96c98723a0dc"
     }
    },
    "7703ad9a74ac40b0bbe16e2240119807": {
     "model_module": "@jupyter-widgets/controls",
     "model_module_version": "1.5.0",
     "model_name": "DescriptionStyleModel",
     "state": {
      "_model_module": "@jupyter-widgets/controls",
      "_model_module_version": "1.5.0",
      "_model_name": "DescriptionStyleModel",
      "_view_count": null,
      "_view_module": "@jupyter-widgets/base",
      "_view_module_version": "1.2.0",
      "_view_name": "StyleView",
      "description_width": ""
     }
    },
    "7f5f031ba92a4e1f8ffd96c98723a0dc": {
     "model_module": "@jupyter-widgets/base",
     "model_module_version": "1.2.0",
     "model_name": "LayoutModel",
     "state": {
      "_model_module": "@jupyter-widgets/base",
      "_model_module_version": "1.2.0",
      "_model_name": "LayoutModel",
      "_view_count": null,
      "_view_module": "@jupyter-widgets/base",
      "_view_module_version": "1.2.0",
      "_view_name": "LayoutView",
      "align_content": null,
      "align_items": null,
      "align_self": null,
      "border": null,
      "bottom": null,
      "display": null,
      "flex": null,
      "flex_flow": null,
      "grid_area": null,
      "grid_auto_columns": null,
      "grid_auto_flow": null,
      "grid_auto_rows": null,
      "grid_column": null,
      "grid_gap": null,
      "grid_row": null,
      "grid_template_areas": null,
      "grid_template_columns": null,
      "grid_template_rows": null,
      "height": null,
      "justify_content": null,
      "justify_items": null,
      "left": null,
      "margin": null,
      "max_height": null,
      "max_width": null,
      "min_height": null,
      "min_width": null,
      "object_fit": null,
      "object_position": null,
      "order": null,
      "overflow": null,
      "overflow_x": null,
      "overflow_y": null,
      "padding": null,
      "right": null,
      "top": null,
      "visibility": null,
      "width": null
     }
    },
    "809d56c6ea494bd8af7e591dcd7ac660": {
     "model_module": "@jupyter-widgets/controls",
     "model_module_version": "1.5.0",
     "model_name": "HTMLModel",
     "state": {
      "_dom_classes": [],
      "_model_module": "@jupyter-widgets/controls",
      "_model_module_version": "1.5.0",
      "_model_name": "HTMLModel",
      "_view_count": null,
      "_view_module": "@jupyter-widgets/controls",
      "_view_module_version": "1.5.0",
      "_view_name": "HTMLView",
      "description": "",
      "description_tooltip": null,
      "layout": "IPY_MODEL_30087106682f4ceda1042895f7e4650b",
      "placeholder": "​",
      "style": "IPY_MODEL_71b1bdaaada8432195fdc2cd4e4023bd",
      "value": " 498/500 [00:00&lt;00:00, 1104.54it/s]"
     }
    },
    "853c3f66740f44229771c8b448428585": {
     "model_module": "@jupyter-widgets/base",
     "model_module_version": "1.2.0",
     "model_name": "LayoutModel",
     "state": {
      "_model_module": "@jupyter-widgets/base",
      "_model_module_version": "1.2.0",
      "_model_name": "LayoutModel",
      "_view_count": null,
      "_view_module": "@jupyter-widgets/base",
      "_view_module_version": "1.2.0",
      "_view_name": "LayoutView",
      "align_content": null,
      "align_items": null,
      "align_self": null,
      "border": null,
      "bottom": null,
      "display": null,
      "flex": null,
      "flex_flow": null,
      "grid_area": null,
      "grid_auto_columns": null,
      "grid_auto_flow": null,
      "grid_auto_rows": null,
      "grid_column": null,
      "grid_gap": null,
      "grid_row": null,
      "grid_template_areas": null,
      "grid_template_columns": null,
      "grid_template_rows": null,
      "height": null,
      "justify_content": null,
      "justify_items": null,
      "left": null,
      "margin": null,
      "max_height": null,
      "max_width": null,
      "min_height": null,
      "min_width": null,
      "object_fit": null,
      "object_position": null,
      "order": null,
      "overflow": null,
      "overflow_x": null,
      "overflow_y": null,
      "padding": null,
      "right": null,
      "top": null,
      "visibility": null,
      "width": null
     }
    },
    "88398c28ea3d412abae6b8709a667994": {
     "model_module": "@jupyter-widgets/base",
     "model_module_version": "1.2.0",
     "model_name": "LayoutModel",
     "state": {
      "_model_module": "@jupyter-widgets/base",
      "_model_module_version": "1.2.0",
      "_model_name": "LayoutModel",
      "_view_count": null,
      "_view_module": "@jupyter-widgets/base",
      "_view_module_version": "1.2.0",
      "_view_name": "LayoutView",
      "align_content": null,
      "align_items": null,
      "align_self": null,
      "border": null,
      "bottom": null,
      "display": null,
      "flex": null,
      "flex_flow": null,
      "grid_area": null,
      "grid_auto_columns": null,
      "grid_auto_flow": null,
      "grid_auto_rows": null,
      "grid_column": null,
      "grid_gap": null,
      "grid_row": null,
      "grid_template_areas": null,
      "grid_template_columns": null,
      "grid_template_rows": null,
      "height": null,
      "justify_content": null,
      "justify_items": null,
      "left": null,
      "margin": null,
      "max_height": null,
      "max_width": null,
      "min_height": null,
      "min_width": null,
      "object_fit": null,
      "object_position": null,
      "order": null,
      "overflow": null,
      "overflow_x": null,
      "overflow_y": null,
      "padding": null,
      "right": null,
      "top": null,
      "visibility": null,
      "width": null
     }
    },
    "8d2b3aee10a14681834c841f077fc682": {
     "model_module": "@jupyter-widgets/controls",
     "model_module_version": "1.5.0",
     "model_name": "ProgressStyleModel",
     "state": {
      "_model_module": "@jupyter-widgets/controls",
      "_model_module_version": "1.5.0",
      "_model_name": "ProgressStyleModel",
      "_view_count": null,
      "_view_module": "@jupyter-widgets/base",
      "_view_module_version": "1.2.0",
      "_view_name": "StyleView",
      "bar_color": null,
      "description_width": ""
     }
    },
    "9dc95bdd99ba4a57b8160ca76390b525": {
     "model_module": "@jupyter-widgets/controls",
     "model_module_version": "1.5.0",
     "model_name": "HBoxModel",
     "state": {
      "_dom_classes": [],
      "_model_module": "@jupyter-widgets/controls",
      "_model_module_version": "1.5.0",
      "_model_name": "HBoxModel",
      "_view_count": null,
      "_view_module": "@jupyter-widgets/controls",
      "_view_module_version": "1.5.0",
      "_view_name": "HBoxView",
      "box_style": "",
      "children": [
       "IPY_MODEL_62d2b4af38b4484481d5afea6d23adf3",
       "IPY_MODEL_e9d0dbcccc764dd697948d61c21afd46",
       "IPY_MODEL_809d56c6ea494bd8af7e591dcd7ac660"
      ],
      "layout": "IPY_MODEL_2766f0ce702443f7966b46baecdb8f16"
     }
    },
    "a157fad4a29547c598feed18c70cd099": {
     "model_module": "@jupyter-widgets/controls",
     "model_module_version": "1.5.0",
     "model_name": "HTMLModel",
     "state": {
      "_dom_classes": [],
      "_model_module": "@jupyter-widgets/controls",
      "_model_module_version": "1.5.0",
      "_model_name": "HTMLModel",
      "_view_count": null,
      "_view_module": "@jupyter-widgets/controls",
      "_view_module_version": "1.5.0",
      "_view_name": "HTMLView",
      "description": "",
      "description_tooltip": null,
      "layout": "IPY_MODEL_ec6d6cbaf20a4aecb61e124c9e9ff859",
      "placeholder": "​",
      "style": "IPY_MODEL_e9ad9ac0379343f28769ab3bcc002a47",
      "value": "Validation Batches: 100%"
     }
    },
    "a41f59594a6b47d5863cf6185842330d": {
     "model_module": "@jupyter-widgets/base",
     "model_module_version": "1.2.0",
     "model_name": "LayoutModel",
     "state": {
      "_model_module": "@jupyter-widgets/base",
      "_model_module_version": "1.2.0",
      "_model_name": "LayoutModel",
      "_view_count": null,
      "_view_module": "@jupyter-widgets/base",
      "_view_module_version": "1.2.0",
      "_view_name": "LayoutView",
      "align_content": null,
      "align_items": null,
      "align_self": null,
      "border": null,
      "bottom": null,
      "display": null,
      "flex": null,
      "flex_flow": null,
      "grid_area": null,
      "grid_auto_columns": null,
      "grid_auto_flow": null,
      "grid_auto_rows": null,
      "grid_column": null,
      "grid_gap": null,
      "grid_row": null,
      "grid_template_areas": null,
      "grid_template_columns": null,
      "grid_template_rows": null,
      "height": null,
      "justify_content": null,
      "justify_items": null,
      "left": null,
      "margin": null,
      "max_height": null,
      "max_width": null,
      "min_height": null,
      "min_width": null,
      "object_fit": null,
      "object_position": null,
      "order": null,
      "overflow": null,
      "overflow_x": null,
      "overflow_y": null,
      "padding": null,
      "right": null,
      "top": null,
      "visibility": null,
      "width": null
     }
    },
    "aa6ff4dcd4824983b124c4f44526bf2e": {
     "model_module": "@jupyter-widgets/base",
     "model_module_version": "1.2.0",
     "model_name": "LayoutModel",
     "state": {
      "_model_module": "@jupyter-widgets/base",
      "_model_module_version": "1.2.0",
      "_model_name": "LayoutModel",
      "_view_count": null,
      "_view_module": "@jupyter-widgets/base",
      "_view_module_version": "1.2.0",
      "_view_name": "LayoutView",
      "align_content": null,
      "align_items": null,
      "align_self": null,
      "border": null,
      "bottom": null,
      "display": null,
      "flex": null,
      "flex_flow": null,
      "grid_area": null,
      "grid_auto_columns": null,
      "grid_auto_flow": null,
      "grid_auto_rows": null,
      "grid_column": null,
      "grid_gap": null,
      "grid_row": null,
      "grid_template_areas": null,
      "grid_template_columns": null,
      "grid_template_rows": null,
      "height": null,
      "justify_content": null,
      "justify_items": null,
      "left": null,
      "margin": null,
      "max_height": null,
      "max_width": null,
      "min_height": null,
      "min_width": null,
      "object_fit": null,
      "object_position": null,
      "order": null,
      "overflow": null,
      "overflow_x": null,
      "overflow_y": null,
      "padding": null,
      "right": null,
      "top": null,
      "visibility": null,
      "width": null
     }
    },
    "b4e26db00e27487084cba02376fe2791": {
     "model_module": "@jupyter-widgets/controls",
     "model_module_version": "1.5.0",
     "model_name": "FloatProgressModel",
     "state": {
      "_dom_classes": [],
      "_model_module": "@jupyter-widgets/controls",
      "_model_module_version": "1.5.0",
      "_model_name": "FloatProgressModel",
      "_view_count": null,
      "_view_module": "@jupyter-widgets/controls",
      "_view_module_version": "1.5.0",
      "_view_name": "ProgressView",
      "bar_style": "",
      "description": "",
      "description_tooltip": null,
      "layout": "IPY_MODEL_54a9ec72db6e4d229612b682cac27f37",
      "max": 5000,
      "min": 0,
      "orientation": "horizontal",
      "style": "IPY_MODEL_8d2b3aee10a14681834c841f077fc682",
      "value": 5000
     }
    },
    "ba9a68fc43e64c4b83949701c47ca766": {
     "model_module": "@jupyter-widgets/controls",
     "model_module_version": "1.5.0",
     "model_name": "HBoxModel",
     "state": {
      "_dom_classes": [],
      "_model_module": "@jupyter-widgets/controls",
      "_model_module_version": "1.5.0",
      "_model_name": "HBoxModel",
      "_view_count": null,
      "_view_module": "@jupyter-widgets/controls",
      "_view_module_version": "1.5.0",
      "_view_name": "HBoxView",
      "box_style": "",
      "children": [
       "IPY_MODEL_a157fad4a29547c598feed18c70cd099",
       "IPY_MODEL_2e3977102fb244d89cb97e55f2e37320",
       "IPY_MODEL_eba9db3df4d7406f99b4064148416d51"
      ],
      "layout": "IPY_MODEL_853c3f66740f44229771c8b448428585"
     }
    },
    "cd00c2dc184d442b9d7fddeac4a966ad": {
     "model_module": "@jupyter-widgets/controls",
     "model_module_version": "1.5.0",
     "model_name": "ProgressStyleModel",
     "state": {
      "_model_module": "@jupyter-widgets/controls",
      "_model_module_version": "1.5.0",
      "_model_name": "ProgressStyleModel",
      "_view_count": null,
      "_view_module": "@jupyter-widgets/base",
      "_view_module_version": "1.2.0",
      "_view_name": "StyleView",
      "bar_color": null,
      "description_width": ""
     }
    },
    "cda5cab3bccb4894bb534f972d5c6c0f": {
     "model_module": "@jupyter-widgets/base",
     "model_module_version": "1.2.0",
     "model_name": "LayoutModel",
     "state": {
      "_model_module": "@jupyter-widgets/base",
      "_model_module_version": "1.2.0",
      "_model_name": "LayoutModel",
      "_view_count": null,
      "_view_module": "@jupyter-widgets/base",
      "_view_module_version": "1.2.0",
      "_view_name": "LayoutView",
      "align_content": null,
      "align_items": null,
      "align_self": null,
      "border": null,
      "bottom": null,
      "display": null,
      "flex": null,
      "flex_flow": null,
      "grid_area": null,
      "grid_auto_columns": null,
      "grid_auto_flow": null,
      "grid_auto_rows": null,
      "grid_column": null,
      "grid_gap": null,
      "grid_row": null,
      "grid_template_areas": null,
      "grid_template_columns": null,
      "grid_template_rows": null,
      "height": null,
      "justify_content": null,
      "justify_items": null,
      "left": null,
      "margin": null,
      "max_height": null,
      "max_width": null,
      "min_height": null,
      "min_width": null,
      "object_fit": null,
      "object_position": null,
      "order": null,
      "overflow": null,
      "overflow_x": null,
      "overflow_y": null,
      "padding": null,
      "right": null,
      "top": null,
      "visibility": null,
      "width": null
     }
    },
    "d035e3325733419a8ba6629effcc5f92": {
     "model_module": "@jupyter-widgets/controls",
     "model_module_version": "1.5.0",
     "model_name": "HBoxModel",
     "state": {
      "_dom_classes": [],
      "_model_module": "@jupyter-widgets/controls",
      "_model_module_version": "1.5.0",
      "_model_name": "HBoxModel",
      "_view_count": null,
      "_view_module": "@jupyter-widgets/controls",
      "_view_module_version": "1.5.0",
      "_view_name": "HBoxView",
      "box_style": "",
      "children": [
       "IPY_MODEL_3e20c17f0f274105ac5e6a84718ee1ac",
       "IPY_MODEL_0560b9f2986d407eb27def4efe3e7e53",
       "IPY_MODEL_5b971f1af0394fc789cce25f57fd9941"
      ],
      "layout": "IPY_MODEL_e4ef2a9010a14aeeaca17a15e6bbdd9d"
     }
    },
    "d33c021964bf4013b8c4b2c523e70123": {
     "model_module": "@jupyter-widgets/controls",
     "model_module_version": "1.5.0",
     "model_name": "HBoxModel",
     "state": {
      "_dom_classes": [],
      "_model_module": "@jupyter-widgets/controls",
      "_model_module_version": "1.5.0",
      "_model_name": "HBoxModel",
      "_view_count": null,
      "_view_module": "@jupyter-widgets/controls",
      "_view_module_version": "1.5.0",
      "_view_name": "HBoxView",
      "box_style": "",
      "children": [
       "IPY_MODEL_2e9e0cc95f54475cbc79280abb207a72",
       "IPY_MODEL_b4e26db00e27487084cba02376fe2791",
       "IPY_MODEL_115035f3a4e345c385f58a84924d825a"
      ],
      "layout": "IPY_MODEL_f376437e7d814206abfa911c62a19189"
     }
    },
    "d3aae986e47d4e61b6fdace001b849bc": {
     "model_module": "@jupyter-widgets/controls",
     "model_module_version": "1.5.0",
     "model_name": "DescriptionStyleModel",
     "state": {
      "_model_module": "@jupyter-widgets/controls",
      "_model_module_version": "1.5.0",
      "_model_name": "DescriptionStyleModel",
      "_view_count": null,
      "_view_module": "@jupyter-widgets/base",
      "_view_module_version": "1.2.0",
      "_view_name": "StyleView",
      "description_width": ""
     }
    },
    "e35e0759dfd347b28be09bca49c5e021": {
     "model_module": "@jupyter-widgets/base",
     "model_module_version": "1.2.0",
     "model_name": "LayoutModel",
     "state": {
      "_model_module": "@jupyter-widgets/base",
      "_model_module_version": "1.2.0",
      "_model_name": "LayoutModel",
      "_view_count": null,
      "_view_module": "@jupyter-widgets/base",
      "_view_module_version": "1.2.0",
      "_view_name": "LayoutView",
      "align_content": null,
      "align_items": null,
      "align_self": null,
      "border": null,
      "bottom": null,
      "display": null,
      "flex": null,
      "flex_flow": null,
      "grid_area": null,
      "grid_auto_columns": null,
      "grid_auto_flow": null,
      "grid_auto_rows": null,
      "grid_column": null,
      "grid_gap": null,
      "grid_row": null,
      "grid_template_areas": null,
      "grid_template_columns": null,
      "grid_template_rows": null,
      "height": null,
      "justify_content": null,
      "justify_items": null,
      "left": null,
      "margin": null,
      "max_height": null,
      "max_width": null,
      "min_height": null,
      "min_width": null,
      "object_fit": null,
      "object_position": null,
      "order": null,
      "overflow": null,
      "overflow_x": null,
      "overflow_y": null,
      "padding": null,
      "right": null,
      "top": null,
      "visibility": null,
      "width": null
     }
    },
    "e4ef2a9010a14aeeaca17a15e6bbdd9d": {
     "model_module": "@jupyter-widgets/base",
     "model_module_version": "1.2.0",
     "model_name": "LayoutModel",
     "state": {
      "_model_module": "@jupyter-widgets/base",
      "_model_module_version": "1.2.0",
      "_model_name": "LayoutModel",
      "_view_count": null,
      "_view_module": "@jupyter-widgets/base",
      "_view_module_version": "1.2.0",
      "_view_name": "LayoutView",
      "align_content": null,
      "align_items": null,
      "align_self": null,
      "border": null,
      "bottom": null,
      "display": null,
      "flex": null,
      "flex_flow": null,
      "grid_area": null,
      "grid_auto_columns": null,
      "grid_auto_flow": null,
      "grid_auto_rows": null,
      "grid_column": null,
      "grid_gap": null,
      "grid_row": null,
      "grid_template_areas": null,
      "grid_template_columns": null,
      "grid_template_rows": null,
      "height": null,
      "justify_content": null,
      "justify_items": null,
      "left": null,
      "margin": null,
      "max_height": null,
      "max_width": null,
      "min_height": null,
      "min_width": null,
      "object_fit": null,
      "object_position": null,
      "order": null,
      "overflow": null,
      "overflow_x": null,
      "overflow_y": null,
      "padding": null,
      "right": null,
      "top": null,
      "visibility": null,
      "width": null
     }
    },
    "e9ad9ac0379343f28769ab3bcc002a47": {
     "model_module": "@jupyter-widgets/controls",
     "model_module_version": "1.5.0",
     "model_name": "DescriptionStyleModel",
     "state": {
      "_model_module": "@jupyter-widgets/controls",
      "_model_module_version": "1.5.0",
      "_model_name": "DescriptionStyleModel",
      "_view_count": null,
      "_view_module": "@jupyter-widgets/base",
      "_view_module_version": "1.2.0",
      "_view_name": "StyleView",
      "description_width": ""
     }
    },
    "e9d0dbcccc764dd697948d61c21afd46": {
     "model_module": "@jupyter-widgets/controls",
     "model_module_version": "1.5.0",
     "model_name": "FloatProgressModel",
     "state": {
      "_dom_classes": [],
      "_model_module": "@jupyter-widgets/controls",
      "_model_module_version": "1.5.0",
      "_model_name": "FloatProgressModel",
      "_view_count": null,
      "_view_module": "@jupyter-widgets/controls",
      "_view_module_version": "1.5.0",
      "_view_name": "ProgressView",
      "bar_style": "",
      "description": "",
      "description_tooltip": null,
      "layout": "IPY_MODEL_569261fe42c14e3ba4120ce83adb118f",
      "max": 500,
      "min": 0,
      "orientation": "horizontal",
      "style": "IPY_MODEL_cd00c2dc184d442b9d7fddeac4a966ad",
      "value": 500
     }
    },
    "eba9db3df4d7406f99b4064148416d51": {
     "model_module": "@jupyter-widgets/controls",
     "model_module_version": "1.5.0",
     "model_name": "HTMLModel",
     "state": {
      "_dom_classes": [],
      "_model_module": "@jupyter-widgets/controls",
      "_model_module_version": "1.5.0",
      "_model_name": "HTMLModel",
      "_view_count": null,
      "_view_module": "@jupyter-widgets/controls",
      "_view_module_version": "1.5.0",
      "_view_name": "HTMLView",
      "description": "",
      "description_tooltip": null,
      "layout": "IPY_MODEL_a41f59594a6b47d5863cf6185842330d",
      "placeholder": "​",
      "style": "IPY_MODEL_d3aae986e47d4e61b6fdace001b849bc",
      "value": " 499/500 [00:00&lt;00:00, 1087.14it/s]"
     }
    },
    "ec6d6cbaf20a4aecb61e124c9e9ff859": {
     "model_module": "@jupyter-widgets/base",
     "model_module_version": "1.2.0",
     "model_name": "LayoutModel",
     "state": {
      "_model_module": "@jupyter-widgets/base",
      "_model_module_version": "1.2.0",
      "_model_name": "LayoutModel",
      "_view_count": null,
      "_view_module": "@jupyter-widgets/base",
      "_view_module_version": "1.2.0",
      "_view_name": "LayoutView",
      "align_content": null,
      "align_items": null,
      "align_self": null,
      "border": null,
      "bottom": null,
      "display": null,
      "flex": null,
      "flex_flow": null,
      "grid_area": null,
      "grid_auto_columns": null,
      "grid_auto_flow": null,
      "grid_auto_rows": null,
      "grid_column": null,
      "grid_gap": null,
      "grid_row": null,
      "grid_template_areas": null,
      "grid_template_columns": null,
      "grid_template_rows": null,
      "height": null,
      "justify_content": null,
      "justify_items": null,
      "left": null,
      "margin": null,
      "max_height": null,
      "max_width": null,
      "min_height": null,
      "min_width": null,
      "object_fit": null,
      "object_position": null,
      "order": null,
      "overflow": null,
      "overflow_x": null,
      "overflow_y": null,
      "padding": null,
      "right": null,
      "top": null,
      "visibility": null,
      "width": null
     }
    },
    "f1079f95ccb049b79777747f414d8a75": {
     "model_module": "@jupyter-widgets/controls",
     "model_module_version": "1.5.0",
     "model_name": "DescriptionStyleModel",
     "state": {
      "_model_module": "@jupyter-widgets/controls",
      "_model_module_version": "1.5.0",
      "_model_name": "DescriptionStyleModel",
      "_view_count": null,
      "_view_module": "@jupyter-widgets/base",
      "_view_module_version": "1.2.0",
      "_view_name": "StyleView",
      "description_width": ""
     }
    },
    "f376437e7d814206abfa911c62a19189": {
     "model_module": "@jupyter-widgets/base",
     "model_module_version": "1.2.0",
     "model_name": "LayoutModel",
     "state": {
      "_model_module": "@jupyter-widgets/base",
      "_model_module_version": "1.2.0",
      "_model_name": "LayoutModel",
      "_view_count": null,
      "_view_module": "@jupyter-widgets/base",
      "_view_module_version": "1.2.0",
      "_view_name": "LayoutView",
      "align_content": null,
      "align_items": null,
      "align_self": null,
      "border": null,
      "bottom": null,
      "display": null,
      "flex": null,
      "flex_flow": null,
      "grid_area": null,
      "grid_auto_columns": null,
      "grid_auto_flow": null,
      "grid_auto_rows": null,
      "grid_column": null,
      "grid_gap": null,
      "grid_row": null,
      "grid_template_areas": null,
      "grid_template_columns": null,
      "grid_template_rows": null,
      "height": null,
      "justify_content": null,
      "justify_items": null,
      "left": null,
      "margin": null,
      "max_height": null,
      "max_width": null,
      "min_height": null,
      "min_width": null,
      "object_fit": null,
      "object_position": null,
      "order": null,
      "overflow": null,
      "overflow_x": null,
      "overflow_y": null,
      "padding": null,
      "right": null,
      "top": null,
      "visibility": null,
      "width": null
     }
    }
   }
  }
 },
 "nbformat": 4,
 "nbformat_minor": 1
}
