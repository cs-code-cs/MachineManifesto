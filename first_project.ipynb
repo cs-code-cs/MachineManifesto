{
 "cells": [
  {
   "cell_type": "markdown",
   "metadata": {
    "id": "tMR2in3Elmb0"
   },
   "source": [
    "# Project 1: Language Modeling and Fake Review Classification"
   ]
  },
  {
   "cell_type": "markdown",
   "metadata": {},
   "source": [
    "I have modified my project to capture the power usage of the NLP assignments made for class. We were directed to use and learn Google colab file structure and implement everything on a cloud based system. This unfortunately obfuscates any attempt to determine the power usage. "
   ]
  },
  {
   "cell_type": "markdown",
   "metadata": {
    "id": "t-ArOW3FXbdT"
   },
   "source": [
    "Names: Randy Tang, Cameron Stine\n",
    "\n",
    "Netids:rt378, crs338\n"
   ]
  },
  {
   "cell_type": "markdown",
   "metadata": {
    "id": "Nw061uMf-vyu"
   },
   "source": [
    "**After you make your own copy, please rename this notebook by clicking on it's name in the upper left corner.** It should be named: CS4740_FA21_p1_netid1_netid2\n",
    "\n",
    "Don't forget to share your newly copied notebook with your partner!"
   ]
  },
  {
   "cell_type": "markdown",
   "metadata": {
    "id": "9e1Dnqk6GmdH"
   },
   "source": [
    "**Reminder: both of you can't work in this notebook at the same time from different computers/browser windows because of sync issues. We even suggest to close the tab with this notebook when you are not working on it so your partner doesn't get sync issues.**\n",
    "\n",
    "---\n",
    "\n"
   ]
  },
  {
   "cell_type": "markdown",
   "metadata": {
    "id": "yVNUIk8d-oBn"
   },
   "source": [
    "## Introduction\n",
    "In this project we will build an **n-gram-based language model** for deceptive review classification. We will also investigate a feature-based **Naive Bayes model**. The task we are faced with is to **decide whether a hotel review is deceptive or truthful**. This is a relavent problem as websites that contain consumer reviews are a target of opinion spam. Typically, these deceptive opinions are neither easily ignored nor even identifiable by a human reader so we'd like to assist in flagging reviews. The dataset we are investigating looks at *deceptive opinion spam*, that is decetive opinions that have been purposely written to sound genuine ([Ott et al](https://arxiv.org/pdf/1107.4557.pdf)).\n",
    "\n",
    "To help us approach this problem, we will use NLP techniques covered thus far to frame this as a (supervised) binary classification task, where each opinion will have a label $y \\in \\{0,1\\}$, where *0 indicates a truthful review* and *1 indicates a deceptive one*. You will train and validate your two different models and then run them on a test data set with hidden $y$ labels. You will then submit the results on the test data set to Kaggle to participate in our class-wide competition!\n",
    "\n",
    "The project is divided into six parts:\n",
    "1. Dataset loading and preprocessing\n",
    "2. Unsmoothed n-gram language model (LM): build the unsmoothed n-gram language model using our Fake Review corpus. \n",
    "3. Smoothed n-gram language model: build a smoothed version of the model from part 2.\n",
    "4. Perplexity: compute perplexity for both the unsmoothed and smoothed model\n",
    "5. Putting everything together and submitting the first model to Kaggle\n",
    "6. Naive Bayes: build a feature-based Naive Bayes model to perform the same classification task. Compare the LM with Naive Bayes and identify the pros and cons of each."
   ]
  },
  {
   "cell_type": "markdown",
   "metadata": {
    "id": "8YxRcxlf1rqT"
   },
   "source": []
  },
  {
   "cell_type": "markdown",
   "metadata": {
    "id": "n5dUybGbhQXQ"
   },
   "source": [
    "## Logistics (IMPORTANT!)\n",
    "- You should work in **groups of 2 students**. Students in the same group will get the same grade. Thus, you should make sure that everyone in your group contributes to the project. \n",
    "- **Remember to form groups on BOTH CMS and Gradescope** or not all group members will receive grades. You can use make a post on EdStem to find a partner for this project.\n",
    "- Please complete the written questions of this notebook in a clear and informative way. We have created a template document for you to answer the written questions. This document can be found [here](https://docs.google.com/document/d/11GX5vG8TeHk1F2eakOgbTFaqYl3lfvZf9fYoMUTVGMs/edit?usp=sharing). Please make a copy of this document for yourself and add your names and netids in the header and answer the written questions on it. You will need to submit this document to gradescope as well (do not forget to do this please!).\n",
    "- At the end: please make sure to submit the following 3 items:\n",
    "  1. PDF version of Colab notebook on Gradescope (instructions for converting to PDF are at the end).\n",
    "  2. PDF version of Google Doc with written answers on Gradescope.\n",
    "  3. .ipynb version of your colab notebook on CMS.\n",
    "\n",
    "**Advice:** The written questions is where you get to show us that you understand not only what you are doing but also why and how you are doing it. So be clear, organized and concise; avoid vagueness and excess verbiage. Spend time doing error analysis for the models. This is how you understand the advantages and drawbacks of the systems you build. It's also useful to think about how the theory of n-grams/Naive Bayes bridges with the real world application we are building. Think about what you expect from these models based on your current understanding, and then see if your expectation aligns with empirical results that you'll get. "
   ]
  },
  {
   "cell_type": "markdown",
   "metadata": {
    "id": "HwgqdDbTPVeA"
   },
   "source": [
    "## General Guidelines\n",
    "In this project, we provide a few code snippets or starter points in case you need them. You DO NOT need to follow the structure. \n",
    "\n",
    "If you think you have a better idea, go for it. You can ADD, MODIFY, or DELETE any code snippets given to you.\n",
    "\n",
    "You are expected to use functions or classes to organize your code. A portion of the grade is regarding code cleanliness / readability and applying these models in the real world means we need to collaborate with others (ie. other people should be able to read your code and run it)!\n",
    "\n",
    "To help with debugging and testing, you should use this example from class [09-02 Thurs - lec3: N-gram models](https://edstem.org/us/courses/12801/resources) as your training corpus:\n",
    "\n",
    "```\n",
    "<s> I see what I eat and I eat what I see.\n",
    "```\n",
    "\n",
    "The test sentence you can use also comes from class:\n",
    "```\n",
    "I see what\n",
    "```\n",
    "\n",
    "**Let's do this** 🚀"
   ]
  },
  {
   "cell_type": "markdown",
   "metadata": {
    "id": "LLmJ-2h5pr6n"
   },
   "source": [
    "### Dataset\n",
    "\n",
    "You are given a **Review Corpus** on CMS, which consists of roughly the same amount of real and fake reviews.\n",
    "\n",
    "Real review example:\n",
    "```\n",
    "Stayed with a group for a bachelorette party, and was disappointed. The hotel is beautiful, the staff was all rather friendly. The main problem was the room/sleeping situation. We had booked rooms with 2 queen beds several weeks before, but received an email a few days before our visit stating they were sold out (how that happens I don't know!!) so they \"upgraded\" us to two \"suites\" with a king and a pull out. First, this meant our party was split up and on different floors. Second, that meant two of us were stuck on a pull out couch. :( I'm not a picky, unreasonable person, but that was the WORST \"bed\" I've ever slept on! It was sunken in the middle so we literally rolled into each other unless we balanced ourselves on the very edge of the bed. Then there were the springs poking into our backs ALL night! Just awful! For the amount of money we spent I expected to be comfortable! I would not stay here again after this experience.\n",
    "```\n",
    "\n",
    "Fake review example:\n",
    "```\n",
    "I truly enjoyed my stay at the Omni Chicago Hotel. We stayed in a suite, which was clean and extremely nice, at a very reasonable rate. My husband and I spent quite a bit of time in the indoor pool, but personally I preferred laying out on the sundeck. Service was excellent; they were friendly and all of our needs were met promptly. I would definitely recommend this hotel to anyone looking to have a great experience in the downtown Chicago area.\n",
    "```\n",
    "\n",
    "In the dataset folder you should find 2 files, training and validation splits for both real and fake reviews.\n",
    "\n",
    "The project will proceed generally as follows in terms of code development:\n",
    "1. Write code to train unsmoothed unigram and bigram language models for an arbitrary corpus\n",
    "2. Implement smoothing and unknown word handling. \n",
    "3. Implement the Perplexity calculation. \n",
    "4. Using 1, 2 and 3, together with the provided training and validation sets, develop a language-model-based approach for Fake Review Classification.\n",
    "5. Apply your best language-model-based review classifier (from 4) to the\n",
    "provided test set. Submit the results to the online Kaggle competition. \n",
    "6. Use any existing implementation of Naive Bayes (and the provided training and validation sets) to create an additional Naive Bayes fake review classifier. Apply your best NB classifier to the provided test set. Submit the results to the separate Kaggle competition (for NB classifiers). \n",
    "\n",
    "We will progress towards these tasks throughout this notebook."
   ]
  },
  {
   "cell_type": "markdown",
   "metadata": {
    "id": "b2O1icKLpIdF"
   },
   "source": [
    "# Part 1: Preprocessing the Dataset\n",
    "In this part, you are going to do a few things:\n",
    "* Connect to the google drive where the data set is stored\n",
    "* Load and read files\n",
    "* Preprocess the text\n",
    "\n",
    "------\n",
    "**Please upload the dataset to each partner's individual Google Drive now.** We suggest using the same folder structure within Google Drive because the notebook is shared among you, so the code to load the data would have to be changed every time if folder structures are different. One folder structure might be: Google Drive/CS 4740/Project 1/Dataset/ or whatever works for you. See our code below for an example of how we load the data from Google Drive."
   ]
  },
  {
   "cell_type": "markdown",
   "metadata": {
    "id": "zqJXHkfirHCX"
   },
   "source": [
    "## 1.1 Connect to google drive"
   ]
  },
  {
   "cell_type": "markdown",
   "metadata": {},
   "source": []
  },
  {
   "cell_type": "code",
   "execution_count": null,
   "metadata": {
    "colab": {
     "base_uri": "https://localhost:8080/"
    },
    "id": "og--UAtbrP4-",
    "outputId": "b6289cad-8778-4e74-9dc4-9895ff4dcb3c"
   },
   "outputs": [],
   "source": [
    "from google.colab import drive\n",
    "drive.mount('/content/drive', force_remount=True)"
   ]
  },
  {
   "cell_type": "markdown",
   "metadata": {
    "id": "yspKotLCr8kj"
   },
   "source": [
    "## 1.2 Load and read files\n",
    "First, let's install [NLTK](https://www.nltk.org/), a very widely package for NLP preprocessing (and other tasks) for Python."
   ]
  },
  {
   "cell_type": "markdown",
   "metadata": {
    "id": "UNdLcCH9hpYX"
   },
   "source": [
    "Then we read and load data."
   ]
  },
  {
   "cell_type": "code",
   "execution_count": 2,
   "metadata": {},
   "outputs": [],
   "source": [
    "import pyRAPL\n",
    "\n",
    "pyRAPL.setup()\n",
    "measure = pyRAPL.Measurement('bar')\n",
    "measure.begin()"
   ]
  },
  {
   "cell_type": "code",
   "execution_count": 3,
   "metadata": {
    "colab": {
     "base_uri": "https://localhost:8080/",
     "height": 51,
     "referenced_widgets": [
      "bde331aa983c43c3a0c79cad108668e0",
      "082728dc9df046d4af410d62f7916c2a",
      "87dbf60d0ee64e26abdfa6fa608d7677",
      "ab03a1b409da405e8adfaf9eb2f87e6f",
      "13ec369918be42cda2f6a8f18fc0278e",
      "c8b0f26feb8a4b88beb13eb5912adeb9",
      "8aef0e1b92a2496d80d072720faa6561",
      "a704a0344e7f4dacbc9aac2aab34571e",
      "84c6ba6d884d4e368a7c4914b5ef4f87",
      "b0601c84e6534a73896abe1af60b1d95",
      "5914e4f51ec8467384af297228c6acb4",
      "1b7b1f35826f47c5a2d44031f885a651",
      "65f72bef1395451a819eac329c6b9e27",
      "9e5528c9f15b40e0b8722e38201d08a7",
      "6912f3a8407a4f268f18a4d91322b04f",
      "ea000c1511f94d4daa9e37caac4305d9",
      "0765380ccb9a4f8e953cbf3621fbdb2d",
      "57e41341e41f40cab6beb61263352d89",
      "22abd5d91a364a67a8d42a7e492f9108",
      "31a00cc8eec24781ab64e20400d38b28",
      "7e1bc277eb3f40fc8a6a05b5bedc5f8d",
      "51b0809a21df43d0ba272ce2cd269fc5",
      "e72a0025c1c345fd815238a5483992d8",
      "ffc44a303fda4ba680d6715703099fbb",
      "74ad165042d64fbeb1b3492daa1f8f86",
      "c8ab96f012394692a34e775ea4f8d575",
      "88f59b351c4e4eca8aaa39a17974652f",
      "54595a60911c42cea6ae7aa87e71dfaf",
      "99ca915e7e4f4a43a5afbad36398b295",
      "b07dc11eeab9481586926466e83d3c2d",
      "dc0e9b827c774112b802448933136e6c",
      "1ef1b109b6284631ab4b637ab30806b9",
      "0a9ecaebd3be4e43aa322577045018e6",
      "e1a1aacc360d45468788e2da8c54b0a5",
      "69cf84d420d64dbdacf4b54a1019190b",
      "5cfe620306244ffa8b1531d44f8a9893",
      "c46fe72d5f5c4dedac436951aa4177dc",
      "611d350009de4e68be1585ed07ac9c8c",
      "f841c74b17a1454ca83306405be95fb8",
      "629a436fd34847f9a40ebab80bc199c3",
      "9963f4045e4c4c66bbdf948d4f17f35a",
      "bc38bf5839864d14a7676d575a70613a",
      "98f8436c2a614d81b6fa8de0ce236e9a",
      "34d799d7dbbf4f08852cf59c9090bdfc"
     ]
    },
    "id": "CDIzMEQ0sMqK",
    "outputId": "9d5f9669-a712-4573-a0c8-6db48d6eb5a4"
   },
   "outputs": [
    {
     "data": {
      "application/vnd.jupyter.widget-view+json": {
       "model_id": "844c4eade53549b99766bb02b8ab002e",
       "version_major": 2,
       "version_minor": 0
      },
      "text/plain": [
       "  0%|          | 0/642 [00:00<?, ?it/s]"
      ]
     },
     "metadata": {},
     "output_type": "display_data"
    },
    {
     "data": {
      "application/vnd.jupyter.widget-view+json": {
       "model_id": "cb4f75688bb84545a26688a066a5744e",
       "version_major": 2,
       "version_minor": 0
      },
      "text/plain": [
       "  0%|          | 0/638 [00:00<?, ?it/s]"
      ]
     },
     "metadata": {},
     "output_type": "display_data"
    },
    {
     "data": {
      "application/vnd.jupyter.widget-view+json": {
       "model_id": "dd6a800907884d7a8f408263301b5873",
       "version_major": 2,
       "version_minor": 0
      },
      "text/plain": [
       "  0%|          | 0/80 [00:00<?, ?it/s]"
      ]
     },
     "metadata": {},
     "output_type": "display_data"
    },
    {
     "data": {
      "application/vnd.jupyter.widget-view+json": {
       "model_id": "8e24e7fa07784f03aff15384f1eccf58",
       "version_major": 2,
       "version_minor": 0
      },
      "text/plain": [
       "  0%|          | 0/80 [00:00<?, ?it/s]"
      ]
     },
     "metadata": {},
     "output_type": "display_data"
    }
   ],
   "source": [
    "import os\n",
    "import csv\n",
    "import io\n",
    "from nltk import word_tokenize, sent_tokenize\n",
    "import nltk\n",
    "from tqdm.notebook import tqdm\n",
    "\n",
    "\"\"\"nltk.download('punkt')\n",
    "\n",
    "root_path = os.path.join(os.getcwd(), \"drive\", \"MyDrive/Colab Notebooks\") #os.path.join(os.getcwd(), \"drive\", \"My Drive/Colab Notebooks\") # replace based on your Google drive organization\n",
    "dataset_path = os.path.join(root_path, \"4740_p1_dataset\")# os.path.join(root_path, \"4740_p1_dataset\") # same here\n",
    "\"\"\"\n",
    "\n",
    "real_review_train = []\n",
    "real_review_validation = []\n",
    "fake_review_train = []\n",
    "fake_review_validation = []\n",
    "\n",
    "def load_real_fake_dataset( filename):\n",
    "    real = []\n",
    "    fake = []\n",
    "    with open( filename) as fp:\n",
    "        csvreader = csv.reader(fp, delimiter=\"|\")\n",
    "        for txt, label in csvreader:\n",
    "            label = int(label)\n",
    "            if label:\n",
    "                fake.append(txt)\n",
    "            else:\n",
    "                real.append(txt)\n",
    "    \n",
    "    return real, fake\n",
    "\n",
    "\n",
    "real_review_train, fake_review_train = load_real_fake_dataset(\"P1_real_fake_review_train.txt\")\n",
    "\n",
    "real_review_validation, fake_review_validation = load_real_fake_dataset(\"P1_real_fake_review_val.txt\")\n",
    "\n",
    "\n",
    "def tokenize_reviews(reviews):\n",
    "    return [\n",
    "        [\n",
    "            word.lower() for sent in sent_tokenize(review)\n",
    "            for word in word_tokenize(sent)\n",
    "        ]\n",
    "        for review in tqdm(reviews, leave=False)\n",
    "    ]\n",
    "\n",
    "\n",
    "tokenized_real_review_training = tokenize_reviews(real_review_train)\n",
    "tokenized_fake_review_training = tokenize_reviews(fake_review_train)\n",
    "tokenized_real_review_validation = tokenize_reviews(real_review_validation)\n",
    "tokenized_fake_review_validation = tokenize_reviews(fake_review_validation)"
   ]
  },
  {
   "cell_type": "code",
   "execution_count": 4,
   "metadata": {
    "colab": {
     "base_uri": "https://localhost:8080/",
     "height": 17,
     "referenced_widgets": [
      "f4cbb5773d3e4fcfa946cfd716cd16ba",
      "46bf4603fd364f918671b15ec8d11d6f",
      "5f23749c3a804fd689b4a08746452b07",
      "b575381a262249b7a17d9b4cb728688f",
      "0b48d530d0a5458eb7ae8e4e52a59bbc",
      "d9cf785918c9499a8c976265a85e7f03",
      "b8cf6ab9c2934d7fa8574ebd6694e30e",
      "279eedd2744f4e7691ed7cbc901fab19",
      "e9e6a865ddad4695b00ad819cb5970fc",
      "1bbdbafb79d04e4bbf1d3f02f2a17bb4",
      "7b1b5fe555cd4520b9c06879af0d71f5"
     ]
    },
    "id": "2cIZyfKh8c6x",
    "outputId": "95880aab-e495-48af-a86e-a002401494e2"
   },
   "outputs": [
    {
     "data": {
      "application/vnd.jupyter.widget-view+json": {
       "model_id": "b8e28b3666464cf68a0034d0065a5f32",
       "version_major": 2,
       "version_minor": 0
      },
      "text/plain": [
       "  0%|          | 0/160 [00:00<?, ?it/s]"
      ]
     },
     "metadata": {},
     "output_type": "display_data"
    }
   ],
   "source": [
    "def load_test_dataset(filename):\n",
    "    reviews = []\n",
    "    with open( filename) as fp:\n",
    "        contents = fp.readlines()\n",
    "        #take off beginning until \", take off last character (\")\n",
    "        rowNum = 0\n",
    "        for review in contents:\n",
    "            if rowNum == 0:\n",
    "              rowNum = rowNum+1\n",
    "              continue\n",
    "            \n",
    "            idx = 0\n",
    "            while review[idx] != \"\\\"\":\n",
    "              idx = idx +1\n",
    "            review = review[idx+1:len(review)-2]\n",
    "\n",
    "            reviews.append(review)\n",
    "            rowNum = rowNum+1\n",
    "    \n",
    "    return reviews\n",
    "\n",
    "reviews_test = load_test_dataset( \"P1_real_fake_review_test.txt\")\n",
    "tokenized_reviews_test = tokenize_reviews(reviews_test)"
   ]
  },
  {
   "cell_type": "markdown",
   "metadata": {
    "id": "miP2sevQbPbs"
   },
   "source": [
    "Sanity checks for our real and fake training sets"
   ]
  },
  {
   "cell_type": "markdown",
   "metadata": {
    "id": "ok_0NzjkDrde"
   },
   "source": [
    "## 1.3 Data Preprocessing & Preparation\n",
    "\n",
    "There's a well-known parable in machine learning that 80% of the work is all about data preparation, 10% is supporting infrastructure and 10% is actual modeling. If your \"raw\" dataset is not preprocessed and prepared in a way to maximize its value, then your model will be more like this: https://xkcd.com/1838/. For this project, modeling is the star of the show for learning purposes, but we still want you to pay attention to the preprocessing stage.\n",
    "\n",
    "*We've already tokenized and lowercased* the raw data for you. We have not added a start of sentence token but feel free to do so (it is not neccessary). Here are a few extra things you might want to do:\n",
    "\n",
    "- Think about edge cases. For example, you don't want to accidentally append a period to the last word of a sentence. \n",
    "- Watch out for apostrophes and other tricky things like quotations, they cause lots of edge cases. For example, \"they're\" can be all one token, or two tokens (\"they\", \"'re\") or even three tokens (\"they\", \" ' \", \"re\"). \n",
    "\n",
    "Why did we lowercase all tokens? Because the computer will otherwise consider \"The\" and \"the\" as two separate words and this will cause problems.\n",
    "\n",
    "Note that you may use existing\n",
    "tools just for the purpose of preprocessing. \n",
    "\n",
    "Advice: don't get bugged down in the dozens of preprocessing packages and suggestions that you can find on Towards Data Science or Stack Overflow. Start with this [NLTK tutorial](https://lost-contact.mit.edu/afs/cs.pitt.edu/projects/nltk/docs/tutorial/introduction/nochunks.html#:~:text=The%20Natural%20Language%20Toolkit%20(NLTK,tokenization%2C%20tagging%2C%20and%20parsing.) and that should be plenty."
   ]
  },
  {
   "cell_type": "code",
   "execution_count": 7,
   "metadata": {
    "id": "Pf2phKs8bvaB"
   },
   "outputs": [],
   "source": [
    "# TODO: preprocessing\n",
    "#edge cases: \"\" marks, dates (2/17), contractions (\"n't\"? remove or keep or turn into \"not\"), ...\n",
    "#, some periods not correctly preprocessed (no space in between, ex. \"like.he\")\n",
    "#add start tokens after periods. \"<s>\", remove plurals (words -> word)\n",
    "#ignore periods/punctuation? maybe\n",
    "# TODO: preprocessing\n",
    "import numpy as np\n",
    "\n",
    "def add_start(text):\n",
    "  #function adds start tokens to begining of sentences and to the start of the review\n",
    "  numpyset=np.array(text,dtype='object')\n",
    "  filler=[]\n",
    "  start_token=np.array(filler)\n",
    "  for index in range(len(numpyset)):\n",
    "    review=numpyset[index]\n",
    "    empty=[]\n",
    "    #parsing the review for start locations. \n",
    "    for wordind in range(len(review)):\n",
    "      word=review[wordind]\n",
    "      if wordind ==0:\n",
    "        empty.append('<s>')\n",
    "        empty.append(word)\n",
    "\n",
    "      if word=='.' or word=='!' or word=='?':\n",
    "        empty.append(word)\n",
    "        \n",
    "        empty.append('<s>')\n",
    "      else:\n",
    "        empty.append(word)\n",
    "      \n",
    "    filler.append(empty)\n",
    "  return filler\n",
    "\n",
    "def concat_poss(text):\n",
    "  #function concatenates possessives into one token\n",
    "  numpyset=np.array(text,dtype='object')\n",
    "  filler=[]\n",
    "  spark=np.array(filler)\n",
    "  for index in range(len(numpyset)):\n",
    "    review=numpyset[index]\n",
    "    empty=[] \n",
    "    for wordind in range(len(review)):\n",
    "      word=review[wordind]\n",
    "      if word =='\\'s':\n",
    "        temp=review[wordind-1]+word\n",
    "        \n",
    "        empty.pop()\n",
    "\n",
    "        empty.append(temp)\n",
    "      else:\n",
    "        empty.append(word)\n",
    "      \n",
    "    filler.append(empty)\n",
    "  return filler\n",
    "def replace_not(text):\n",
    "  #function replaces the token n't with not\n",
    "  numpyset=np.array(text,dtype='object')\n",
    "  filler=[]\n",
    "  spark=np.array(filler)\n",
    "  for index in range(len(numpyset)):\n",
    "    review=numpyset[index]\n",
    "    empty=[]\n",
    "    for wordind in range(len(review)):\n",
    "      word=review[wordind]\n",
    "      if word=='can\\'t':\n",
    "        empty.append('cannot')\n",
    "        \n",
    "      if word =='n\\'t':\n",
    "        temp='not'\n",
    "        if review[wordind-1] =='can':\n",
    "          temp='cannot'\n",
    "          empty.pop()\n",
    "          empty.append(temp)\n",
    "          \n",
    "        else:\n",
    "          empty.append(temp)\n",
    "          \n",
    "      else:\n",
    "        empty.append(word)\n",
    "      \n",
    "    filler.append(empty)\n",
    "  return filler\n",
    "import re\n",
    "def concat_conju(text):\n",
    "  #function adds together conjunctions\n",
    "  numpyset=np.array(text,dtype='object')\n",
    "  filler=[]\n",
    "  spark=np.array(filler)\n",
    "  for index in range(len(numpyset)):\n",
    "    review=numpyset[index]\n",
    "    empty=[]\n",
    "    for wordind in range(len(review)):\n",
    "      word=review[wordind]\n",
    "      if re.match(r'^\\'\\d',word):\n",
    "        empty.append(word)\n",
    "      elif re.match(r'^\\'\\w+',word) and len(word)<=3:\n",
    "        prevword=review[wordind-1]\n",
    "        if word[0]==\"\\'\" and wordind!=0 and word[1]!=\"\\'\" and re.match(r'\\w+',prevword):\n",
    "          temp=review[wordind-1]+word\n",
    "          \n",
    "          empty.pop()\n",
    "          empty.append(temp)\n",
    "      else:\n",
    "        empty.append(word)\n",
    "      \n",
    "    filler.append(empty)\n",
    "  return filler\n",
    "\n",
    "def split_periods(text):\n",
    "  #function adds start tokens to begining of sentences and to the start of the review\n",
    "  numpyset=np.array(text,dtype='object')\n",
    "  filler=[]\n",
    "  start_token=np.array(filler)\n",
    "  for index in range(len(numpyset)):\n",
    "    review=numpyset[index]\n",
    "    empty=[]\n",
    "    #parsing the review for start locations. \n",
    "    for wordind in range(len(review)):\n",
    "      word=review[wordind]\n",
    "      for it in range(len(word)):\n",
    "        char=word[it]\n",
    "        #most of the words were under 4 characters in length that included periods, this also prevented words like tv\n",
    "        if not re.match(r'[.]',word) and len(word) >4 and not re.findall(r'.com',word) and not re.findall(r'\\d',word):\n",
    "          if re.match(r'[.]',char) and len(word)>1:\n",
    "            \n",
    "            empty.append(word[0:it])\n",
    "            empty.append(word[it])\n",
    "            empty.append(word[it+1:])\n",
    "      else:\n",
    "        empty.append(word)\n",
    "      \n",
    "    filler.append(empty)\n",
    "  return filler      "
   ]
  },
  {
   "cell_type": "code",
   "execution_count": 8,
   "metadata": {
    "id": "eWNC5eZ31aVC"
   },
   "outputs": [],
   "source": [
    "tokenized_reviews_test=concat_poss(replace_not(concat_conju(add_start(split_periods(tokenized_reviews_test)))))"
   ]
  },
  {
   "cell_type": "code",
   "execution_count": 9,
   "metadata": {
    "colab": {
     "base_uri": "https://localhost:8080/"
    },
    "id": "kUqFp7mDtKFv",
    "outputId": "dddba91b-29d3-4da2-a711-48483f93e714"
   },
   "outputs": [],
   "source": [
    "tokenized_fake_review_training=concat_poss(replace_not(concat_conju(add_start(split_periods(tokenized_fake_review_training)))))"
   ]
  },
  {
   "cell_type": "code",
   "execution_count": 10,
   "metadata": {
    "colab": {
     "base_uri": "https://localhost:8080/"
    },
    "id": "Kx0NvCngz8cb",
    "outputId": "a7fa4ee9-6546-4eef-cde1-cd39087faff4"
   },
   "outputs": [],
   "source": [
    "tokenized_fake_review_validation=concat_poss(replace_not(concat_conju(add_start(split_periods(tokenized_fake_review_validation)))))"
   ]
  },
  {
   "cell_type": "code",
   "execution_count": 11,
   "metadata": {
    "colab": {
     "base_uri": "https://localhost:8080/"
    },
    "id": "UwSn2XoWtIup",
    "outputId": "88e7be27-ca21-49b8-fdd6-3b29426466b2"
   },
   "outputs": [],
   "source": [
    "tokenized_real_review_training=concat_poss(replace_not(concat_conju(add_start(split_periods(tokenized_real_review_training)))))"
   ]
  },
  {
   "cell_type": "code",
   "execution_count": 12,
   "metadata": {
    "colab": {
     "base_uri": "https://localhost:8080/"
    },
    "id": "roWQDTIy0Ca6",
    "outputId": "8dc63234-7800-43af-881a-7d650bef10c3"
   },
   "outputs": [],
   "source": [
    "tokenized_real_review_validation=concat_poss(replace_not(concat_conju(add_start(split_periods(tokenized_real_review_validation)))))"
   ]
  },
  {
   "cell_type": "markdown",
   "metadata": {
    "id": "IEab9h6xpuhx"
   },
   "source": [
    "**Q1.1: Show some observations or statistics from the dataset** (should be quantitative – i.e. most frequent words, most frequent bigram, etc.) You may do the computations for your graphs/statistics on the colab notebook, however, please mmake sure you transfer all your work (statistics, graphs, snapshots of thh code if needed) to the Google Doc!\n",
    "\n",
    "Please answer on your writeup doc!"
   ]
  },
  {
   "cell_type": "code",
   "execution_count": 15,
   "metadata": {
    "colab": {
     "base_uri": "https://localhost:8080/"
    },
    "id": "9MQq0uNnqWmR",
    "outputId": "214bc60a-7484-4337-a256-719bb973cd0e"
   },
   "outputs": [
    {
     "data": {
      "text/plain": [
       "[('<s>', 7248.5),\n",
       " ('the', 6556.5),\n",
       " ('.', 5849.5),\n",
       " (',', 3610.5),\n",
       " ('and', 3193.5),\n",
       " ('a', 2790.5),\n",
       " ('to', 2588.5),\n",
       " ('was', 2309.5),\n",
       " ('i', 2113.5),\n",
       " ('in', 1550.5)]"
      ]
     },
     "execution_count": 15,
     "metadata": {},
     "output_type": "execute_result"
    }
   ],
   "source": [
    "#I used routines from courses.cit.cornell.edu/info3950_2021sp/lec16_sty.ipynb\n",
    "from collections import Counter, defaultdict\n",
    "\n",
    "real_review_vocab = defaultdict(lambda: .5)\n",
    "for review in tokenized_real_review_training:\n",
    "  for word in review:\n",
    "    real_review_vocab[word] += 1\n",
    "Counter(real_review_vocab).most_common(10)"
   ]
  },
  {
   "cell_type": "code",
   "execution_count": 16,
   "metadata": {
    "colab": {
     "base_uri": "https://localhost:8080/"
    },
    "id": "r3QHrupdtL_f",
    "outputId": "ff349650-5b3b-4423-c052-f1e3e4302ca0"
   },
   "outputs": [
    {
     "data": {
      "text/plain": [
       "[('<s>', 6511.5),\n",
       " ('the', 6390.5),\n",
       " ('.', 5189.5),\n",
       " (',', 3375.5),\n",
       " ('i', 3251.5),\n",
       " ('and', 3126.5),\n",
       " ('to', 2814.5),\n",
       " ('was', 2538.5),\n",
       " ('a', 2420.5),\n",
       " ('in', 1588.5)]"
      ]
     },
     "execution_count": 16,
     "metadata": {},
     "output_type": "execute_result"
    }
   ],
   "source": [
    "fake_review_vocab = defaultdict(lambda: .5)\n",
    "for review in tokenized_fake_review_training:\n",
    "  for word in review:\n",
    "    fake_review_vocab[word] += 1\n",
    "Counter(fake_review_vocab).most_common(10)"
   ]
  },
  {
   "cell_type": "code",
   "execution_count": 17,
   "metadata": {
    "id": "_fGPNkCytO9g"
   },
   "outputs": [],
   "source": [
    "corpus=[]\n",
    "real_features=[]\n",
    "for review in tokenized_fake_review_training:\n",
    "  corpus.append(review)\n",
    "for review in tokenized_real_review_training:\n",
    "  corpus.append(review)"
   ]
  },
  {
   "cell_type": "code",
   "execution_count": 18,
   "metadata": {
    "id": "J-YF32petUU3"
   },
   "outputs": [],
   "source": [
    "review_vocab = defaultdict(lambda: .5)\n",
    "for review in tokenized_real_review_training :\n",
    "  for word in review:\n",
    "    review_vocab[word] += 1\n",
    "for review in tokenized_real_review_training:\n",
    "  for word in review:\n",
    "    review_vocab[word] += 1"
   ]
  },
  {
   "cell_type": "code",
   "execution_count": 19,
   "metadata": {
    "id": "w8Dk0GVgtY-H"
   },
   "outputs": [],
   "source": [
    "unigram_graph=Counter(review_vocab).most_common(50)"
   ]
  },
  {
   "cell_type": "code",
   "execution_count": 20,
   "metadata": {
    "id": "LDkeOEUmteSt"
   },
   "outputs": [],
   "source": [
    "top_50=[]\n",
    "for i in range(len(unigram_graph)):\n",
    "  top_50.append(unigram_graph[i][0])"
   ]
  },
  {
   "cell_type": "code",
   "execution_count": 22,
   "metadata": {
    "id": "R-pSj7M6tfk1"
   },
   "outputs": [],
   "source": [
    "#courses.cit.cornell.edu/info3950_2021sp/lec16_sty.ipynb\n",
    "unigram_graph_real=[]\n",
    "for review in tokenized_real_review_training:\n",
    "  review_count =Counter(review)\n",
    "  unigram_graph_real.append([review_count[word] for word in top_50])\n",
    "unigram_graph_real = np.array(unigram_graph_real).astype(np.float64)"
   ]
  },
  {
   "cell_type": "code",
   "execution_count": 24,
   "metadata": {
    "id": "EyAra3XQthru"
   },
   "outputs": [],
   "source": [
    "#courses.cit.cornell.edu/info3950_2021sp/lec16_sty.ipynb\n",
    "unigram_graph_fake=[]\n",
    "for review in tokenized_fake_review_training:\n",
    "  review_count =Counter(review)\n",
    "  unigram_graph_fake.append([review_count[word] for word in top_50])\n",
    "unigram_graph_fake = np.array(unigram_graph_fake).astype(np.float64)"
   ]
  },
  {
   "cell_type": "code",
   "execution_count": 30,
   "metadata": {
    "id": "ZBS81b8HtlHd"
   },
   "outputs": [],
   "source": [
    "import matplotlib.pyplot as plt"
   ]
  },
  {
   "cell_type": "code",
   "execution_count": 31,
   "metadata": {
    "colab": {
     "base_uri": "https://localhost:8080/",
     "height": 299
    },
    "id": "rdOc4aCltoUH",
    "outputId": "06143226-9f65-4681-a265-a672e77a6070"
   },
   "outputs": [
    {
     "data": {
      "image/png": "[encoded data removed]",
      "text/plain": [
       "<Figure size 864x648 with 1 Axes>"
      ]
     },
     "metadata": {
      "needs_background": "light"
     },
     "output_type": "display_data"
    }
   ],
   "source": [
    "plt.figure(figsize=(12,9))\n",
    "plt.subplot(212)\n",
    "plt.plot(unigram_graph_real.mean(0), '.-', label='Real') #real blocks in blue\n",
    "plt.plot(unigram_graph_fake.mean(0), '.-', label='Fake')\n",
    "plt.xticks(range(50), top_50, rotation=270)\n",
    "plt.legend()\n",
    "plt.show()"
   ]
  },
  {
   "cell_type": "code",
   "execution_count": 32,
   "metadata": {
    "id": "HV0au8G0tv0U"
   },
   "outputs": [],
   "source": [
    "# Bigram creator implemented below in order to show quantative results of data. \n",
    "def review_bigram_count(lst):\n",
    "  bigrams = {}\n",
    "  for i in range(len(lst)-1):\n",
    "    bigram = (lst[i],lst[i+1])\n",
    "    if bigram in bigrams:\n",
    "      count = bigrams[bigram]\n",
    "      bigrams[bigram] = count+1\n",
    "    else:\n",
    "      bigrams[bigram] = 1\n",
    "  return bigrams\n",
    "\n",
    "def corpus_bigram_count(corpus):\n",
    "  bigrams = {}\n",
    "  for lst in corpus:\n",
    "    for i in range(len(lst)-1):\n",
    "      bigram = (lst[i],lst[i+1])\n",
    "      if bigram in bigrams:\n",
    "        count = bigrams[bigram]\n",
    "        bigrams[bigram] = count+1\n",
    "      else:\n",
    "        bigrams[bigram] = 1\n",
    "  return bigrams"
   ]
  },
  {
   "cell_type": "code",
   "execution_count": 34,
   "metadata": {
    "colab": {
     "base_uri": "https://localhost:8080/"
    },
    "id": "MgHfiwu1t9bT",
    "outputId": "f1f7160b-25fd-4e1b-dacb-d80977e7987c"
   },
   "outputs": [
    {
     "data": {
      "text/plain": [
       "[(('.', '<s>'), 5849),\n",
       " (('<s>', 'the'), 1225),\n",
       " (('<s>', 'i'), 810),\n",
       " (('!', '<s>'), 627),\n",
       " (('<s>', 'we'), 544),\n",
       " (('in', 'the'), 502),\n",
       " (('the', 'hotel'), 482),\n",
       " ((',', 'and'), 441),\n",
       " (('of', 'the'), 422),\n",
       " (('at', 'the'), 385)]"
      ]
     },
     "execution_count": 34,
     "metadata": {},
     "output_type": "execute_result"
    }
   ],
   "source": [
    "Counter(corpus_bigram_count(tokenized_real_review_training)).most_common(10)"
   ]
  },
  {
   "cell_type": "code",
   "execution_count": 35,
   "metadata": {
    "colab": {
     "base_uri": "https://localhost:8080/"
    },
    "id": "zJ3WrqpYt270",
    "outputId": "d1e3065d-6776-4702-e59f-80e0bbf9ea41"
   },
   "outputs": [
    {
     "data": {
      "text/plain": [
       "[(('.', '<s>'), 5189),\n",
       " (('<s>', 'the'), 1183),\n",
       " (('<s>', 'i'), 1073),\n",
       " (('!', '<s>'), 630),\n",
       " (('at', 'the'), 516),\n",
       " ((',', 'and'), 497),\n",
       " (('in', 'the'), 468),\n",
       " (('of', 'the'), 444),\n",
       " (('the', 'hotel'), 438),\n",
       " (('i', 'was'), 434)]"
      ]
     },
     "execution_count": 35,
     "metadata": {},
     "output_type": "execute_result"
    }
   ],
   "source": [
    "Counter(corpus_bigram_count(tokenized_fake_review_training)).most_common(10)"
   ]
  },
  {
   "cell_type": "code",
   "execution_count": 37,
   "metadata": {
    "id": "R97UShtluBtq"
   },
   "outputs": [],
   "source": [
    "corpus=[]\n",
    "for review in tokenized_fake_review_training:\n",
    "  corpus.append(review)\n",
    "for review in tokenized_real_review_training:\n",
    "  corpus.append(review)\n",
    "top_50_bigram=Counter(corpus_bigram_count(corpus)).most_common(50)"
   ]
  },
  {
   "cell_type": "code",
   "execution_count": 38,
   "metadata": {
    "id": "QbHjdg7fuCZk"
   },
   "outputs": [],
   "source": [
    "bigrams=[]\n",
    "for entry in top_50_bigram:\n",
    "  \n",
    "  bigrams.append(entry[0])"
   ]
  },
  {
   "cell_type": "code",
   "execution_count": 40,
   "metadata": {
    "id": "x8GtZZjiuKep"
   },
   "outputs": [],
   "source": [
    "bigram_graph_real=[]\n",
    "for review in tokenized_real_review_training:\n",
    "\n",
    "  review_count =Counter(review)\n",
    "  real=review_bigram_count(review)\n",
    "  temp=np.zeros(50)\n",
    "  for i in range(len(bigrams)):\n",
    "    for key in list (real.keys()):\n",
    "      if key == bigrams[i]:\n",
    "        temp[i] +=real[key]\n",
    "    \n",
    "  bigram_graph_real.append(temp)\n",
    "    \n",
    "\n",
    "bigram_graph_real = np.array(bigram_graph_real).astype(np.float64)"
   ]
  },
  {
   "cell_type": "code",
   "execution_count": 42,
   "metadata": {
    "id": "_oUswixsuOgJ"
   },
   "outputs": [],
   "source": [
    "bigram_graph_fake=[]\n",
    "for review in tokenized_fake_review_training:\n",
    "\n",
    "  review_count =Counter(review)\n",
    "  fake=review_bigram_count(review)\n",
    "  temp=np.zeros(50)\n",
    "  for i in range(len(bigrams)):\n",
    "    for key in list (fake.keys()):\n",
    "      if key == bigrams[i]:\n",
    "        temp[i] =+ fake[key]\n",
    "    \n",
    "  bigram_graph_fake.append(temp)\n",
    "    \n",
    "\n",
    "bigram_graph_fake = np.array(bigram_graph_fake).astype(np.float64)"
   ]
  },
  {
   "cell_type": "code",
   "execution_count": 43,
   "metadata": {
    "colab": {
     "base_uri": "https://localhost:8080/",
     "height": 69
    },
    "id": "Jb8VDN02uR9B",
    "outputId": "de0c4be5-dbe1-422d-c373-4b0ec4c83a6b"
   },
   "outputs": [
    {
     "data": {
      "text/plain": [
       "\"plt.figure(figsize=(12,9))\\nplt.subplot(212)\\nplt.plot(bigram_graph_real.T, '.-', label='Real') #real blocks in blue\\nplt.plot(bigram_graph_fake.T, '.-', label='Fake')\\nplt.xticks(range(50), bigrams, rotation=270)\\nplt.legend()\\n#plt.show()\""
      ]
     },
     "execution_count": 43,
     "metadata": {},
     "output_type": "execute_result"
    }
   ],
   "source": [
    "#courses.cit.cornell.edu/info3950_2021sp/lec16_sty.ipynb\n",
    "\"\"\"plt.figure(figsize=(12,9))\n",
    "plt.subplot(212)\n",
    "plt.plot(bigram_graph_real.T, '.-', label='Real') #real blocks in blue\n",
    "plt.plot(bigram_graph_fake.T, '.-', label='Fake')\n",
    "plt.xticks(range(50), bigrams, rotation=270)\n",
    "plt.legend()\n",
    "#plt.show()\"\"\""
   ]
  },
  {
   "cell_type": "markdown",
   "metadata": {
    "id": "rcw8M5nesOQD"
   },
   "source": [
    "**Please answer the following question**:\n",
    "\n",
    "**Q1.2: What did you do in your preprocessing part?**\n",
    "\n",
    "Example answer format:\n",
    "\n",
    "A: We tokenized and lowercased all the words."
   ]
  },
  {
   "cell_type": "markdown",
   "metadata": {
    "id": "zQVi0l76MBcs"
   },
   "source": [
    "Please answer on your writeup doc!"
   ]
  },
  {
   "cell_type": "markdown",
   "metadata": {
    "id": "d8oo9zHrsYBD"
   },
   "source": [
    "# Part 2: Compute Unsmoothed Language Models.\n",
    "\n",
    "To start, you will write a program that computes unsmoothed unigram and bigram probabilities. You should consider real and deceptive reviews as separate corpora and\n",
    "generate a separate language model for each set of reviews.\n",
    "We have already loaded the data and (partially) preprocessed it and you probably did some of your own preprocessing. \n",
    "\n",
    "Note that you were allowed to use existing\n",
    "tools for the purpose of preprocessing, but you must write the code for gathering n-gram counts and computing n-gram probabilities yourself. \n",
    "\n",
    "For example, consider the\n",
    "simple corpus consisting of the sole sentence:\n",
    "\n",
    "\n",
    "> the students liked the class\n",
    "\n",
    "Part of what your program would compute for a unigram and bigram model, for example,\n",
    "would be the following:\n",
    "\n",
    "\n",
    "> $P(\"the\") = 0.4; P(\"liked\") = 0.2; P(\"the\"|\"liked\") = 1.0; P(\"students\"|\"the\") = 0.5$\n",
    "\n",
    "Remember to add a symbol to mark the beginning of sentence. See Sept. 2nd lecture, p25-28 for an example.\n",
    "\n",
    "\n"
   ]
  },
  {
   "cell_type": "markdown",
   "metadata": {
    "id": "IgdpbCKw8B0r"
   },
   "source": [
    "**Advice**: jupyter notebooks (including colab) can be a double-edged sword. It's amazing and liberating to just start writing code and run it by simply running a cell. However, it gets messy very quickly. So, once you're done prototyping, you should be using functions (classes may be unnecessary but go for it if you want) to make things cleaner and easier to debug."
   ]
  },
  {
   "cell_type": "markdown",
   "metadata": {
    "id": "MqkMkZIkst8i"
   },
   "source": [
    "## 2.1 Unsmoothed Uni-gram Model.\n",
    "\n",
    "In this part of the project, you are trying to compute the probabilities for a unigram model. You might want to take in a list of words, and return the probabilities for each\n",
    "occurence. Think of an efficient data structure to use here given what ratio of reads and puts you expect.\n",
    "\n",
    "Please look at the example above and consider how we get the probabilities.\n",
    "\n",
    "Below is a starter point you can go from, but you DO NOT need to stick it. Feel free to use your own design."
   ]
  },
  {
   "cell_type": "code",
   "execution_count": 44,
   "metadata": {
    "id": "aSpCXMDUs3Xs"
   },
   "outputs": [],
   "source": [
    "\"\"\"\n",
    "Reference code for start. You do not need to follow this.\n",
    "Function [unsmoothed_unigram] computes the probabilities for a unigram model\n",
    "lst: a list of words in a sentence\n",
    "Return: [data structure of your choice] that stores the result\n",
    "\"\"\"\n",
    "#stores number of occurences of each unigram (not probability) for consistency \n",
    "#reasons. can compute probabilities later.\n",
    "#divide uni count by sum of counts in dictionary to get prob.\n",
    "def review_unigram_count(lst):\n",
    "  # TODO\n",
    "  unigrams = {}\n",
    "  for word in lst:\n",
    "    if word in unigrams:\n",
    "      count = unigrams[word]\n",
    "      unigrams[word] = count+1\n",
    "    else:\n",
    "      unigrams[word] = 1\n",
    "  return unigrams\n",
    "\n",
    "def corpus_unigram_count(corpus):\n",
    "  unigrams = {}\n",
    "  for review in corpus:\n",
    "    for word in review:\n",
    "      if word in unigrams:\n",
    "        count = unigrams[word]\n",
    "        unigrams[word] = count+1\n",
    "      else:\n",
    "        unigrams[word] = 1\n",
    "  return unigrams"
   ]
  },
  {
   "cell_type": "code",
   "execution_count": 45,
   "metadata": {
    "id": "Mh7kmffCDIh5"
   },
   "outputs": [],
   "source": [
    "#review_unigram_count(tokenized_fake_review_training[0])"
   ]
  },
  {
   "cell_type": "code",
   "execution_count": 46,
   "metadata": {
    "id": "vsA1F_k7nwgZ"
   },
   "outputs": [],
   "source": [
    "#corpus_unigram_count(tokenized_fake_review_training)"
   ]
  },
  {
   "cell_type": "markdown",
   "metadata": {
    "id": "cuyn_xPjs4TR"
   },
   "source": [
    "## 2.2 Unsmoothed Bi-gram Model.\n",
    "\n",
    "In this part of the project, you are trying to compute the probabilities for a bigram model. You can approach this with similar methods as above.\n",
    "\n",
    "Remember the definition:\n",
    "$p(w_n\\mid w_{n-1})=\\frac{C(w_{n-1}w_n)}{C(w_{n-1})}$ this means you might want to store two things (count of $w_{n-1}$ and count of $w_{n-1}w_n$)."
   ]
  },
  {
   "cell_type": "code",
   "execution_count": 47,
   "metadata": {
    "id": "j7opVGtks_kY"
   },
   "outputs": [],
   "source": [
    "# TODO: Add code for bigram probability calculation. \n",
    "#bigram counts only. can combine with unigram count prev for probability calculation\n",
    "#not adding unseen bigrams. deal with later when evaluating\n",
    "def review_bigram_count(lst):\n",
    "  bigrams = {}\n",
    "  for i in range(len(lst)-1):\n",
    "    bigram = (lst[i],lst[i+1])\n",
    "    if bigram in bigrams:\n",
    "      count = bigrams[bigram]\n",
    "      bigrams[bigram] = count+1\n",
    "    else:\n",
    "      bigrams[bigram] = 1\n",
    "  return bigrams\n",
    "\n",
    "def corpus_bigram_count(corpus):\n",
    "  bigrams = {}\n",
    "  for lst in corpus:\n",
    "    for i in range(len(lst)-1):\n",
    "      bigram = (lst[i],lst[i+1])\n",
    "      if bigram in bigrams:\n",
    "        count = bigrams[bigram]\n",
    "        bigrams[bigram] = count+1\n",
    "      else:\n",
    "        bigrams[bigram] = 1\n",
    "  return bigrams"
   ]
  },
  {
   "cell_type": "code",
   "execution_count": 48,
   "metadata": {
    "id": "MC6jQiACI3Tl"
   },
   "outputs": [],
   "source": [
    "#review_bigram_count(tokenized_fake_review_training[0])"
   ]
  },
  {
   "cell_type": "code",
   "execution_count": 49,
   "metadata": {
    "id": "3Ax1M7vXoIDZ"
   },
   "outputs": [],
   "source": [
    "#corpus_bigram_count(tokenized_fake_review_training)"
   ]
  },
  {
   "cell_type": "markdown",
   "metadata": {
    "id": "ejmIJWSVwRJG"
   },
   "source": [
    "**Please answer the following question**:\n",
    "\n",
    "**Q2: What data structure are you using to store probabilities for unigrams and bigrams? Why did you select this data structure?**\n",
    "\n",
    "Please answer on your writeup doc!"
   ]
  },
  {
   "cell_type": "markdown",
   "metadata": {
    "id": "miWWgYxZtAZu"
   },
   "source": [
    "# Part 3: Smoothed Language Model\n",
    "In this part, you will need to implement **at least one** smoothing method and **at least one** method to handle unknown words in the test data. You can choose any method(s) that you want for each. You should make clear\n",
    "**what method(s)** were selected and **why**, providing a description for any non-standard approach (e.g., an approach that was not covered in class or in the readings). \n",
    "\n",
    "You should use the\n",
    "provided validation sets to experiment with different smoothing/unknown word handling\n",
    "methods if you wish to see which one is more effective for this task. (We will cover this in Part 4)."
   ]
  },
  {
   "cell_type": "markdown",
   "metadata": {
    "id": "SfiAOKfEuMGy"
   },
   "source": [
    "## 3.1 Unknown Words Handling\n",
    "\n",
    "**Please answer the following questions:**\n",
    "\n",
    "**Q3.1: How are you going to handle unknown words? What parameters might be needed? Do you need a method to determine the value?**\n",
    "\n",
    "Please answer on your writeup doc!\n"
   ]
  },
  {
   "cell_type": "code",
   "execution_count": 50,
   "metadata": {
    "id": "OF8ktPAouR_F"
   },
   "outputs": [],
   "source": [
    "# TODO: Add your unknown word handling code \n",
    "# naive unks in bigrams: ignore in numerator (assume count 0 or smoothing)\n",
    "# if unk in denominator of bigram, top is also unk -> approximate prob of bigram as k/(k*V)\n",
    "# conclude: ignore unks for bigrams/deal with them \n",
    "\n",
    "#process: training set -> tokenize/preprocess -> dictionary of unigram counts(raw)\n",
    "# -> add unk key into dictionary -> then smooth counts\n",
    "\n",
    "#or: ignore unks, if encounter unk handle with smoothing (p(unk) = k/(#tokens + k*V))\n",
    "#issue: this doesn't preserve probability mass(??)\n",
    "import random\n",
    "\n",
    "#method 1: keep k most common words in vocab, all else are <UNK>\n",
    "def unkify_k_most(unigram_dict, k):\n",
    "  unk_dict = {}\n",
    "  unk_dict[\"<UNK>\"] = 0\n",
    "  common_tokens = sorted(unigram_dict, key=unigram_dict.get, reverse=True)\n",
    "  wordsAdded = 0\n",
    "  for token in common_tokens:\n",
    "    if wordsAdded < k:\n",
    "      unk_dict[token] = unigram_dict[token]\n",
    "    else:\n",
    "      unk_dict[\"<UNK>\"] = unk_dict[\"<UNK>\"] + unigram_dict[token]\n",
    "    wordsAdded = wordsAdded+1\n",
    "  return unk_dict\n",
    "\n",
    "#method 2: replace some proportion k of words with <unk>\n",
    "def unkify_k_portion(unigram_dict, k):\n",
    "  unk_dict = {}\n",
    "  unk_dict[\"<UNK>\"] = 0\n",
    "  for key in unigram_dict:\n",
    "    count = unigram_dict[key]\n",
    "    #subtract 1 count from key and add to <UNK>, with probability k\n",
    "    if random.random() <= k:\n",
    "      if count > 1:\n",
    "        unk_dict[key] = count - 1\n",
    "        unk_dict[\"<UNK>\"] = unk_dict[\"<UNK>\"]+1\n",
    "      else: #if new key count = 0, dont bother putting it in new dictionary\n",
    "        unk_dict[\"<UNK>\"] = unk_dict[\"<UNK>\"]+1\n",
    "    else:\n",
    "      unk_dict[key] = count\n",
    "  \n",
    "  return unk_dict\n"
   ]
  },
  {
   "cell_type": "code",
   "execution_count": 51,
   "metadata": {
    "id": "6OisTiw0b4cH"
   },
   "outputs": [],
   "source": [
    "test_dict = review_unigram_count(tokenized_fake_review_training[0])\n",
    "#sorted(test_dict, key=test_dict.get, reverse=True)"
   ]
  },
  {
   "cell_type": "code",
   "execution_count": 52,
   "metadata": {
    "colab": {
     "base_uri": "https://localhost:8080/"
    },
    "id": "olT4R96zdHVl",
    "outputId": "205e1c88-d0a5-4523-a5de-fd9939869e1d"
   },
   "outputs": [
    {
     "name": "stdout",
     "output_type": "stream",
     "text": [
      "{'<UNK>': 8, '<s>': 17, 'the': 22, 'talbott': 1, 'hotel': 5, 'claims': 2, 'to': 17, 'be': 1, \"chicago's\": 1, 'premiere': 1, 'small': 2, 'luxury': 1, '.': 15, 'after': 2, 'staying': 1, 'there': 2, 'and': 11, 'experiencing': 1, 'service': 2, ',': 11, 'environment': 1, 'in': 5, 'i': 11, 'can': 1, 'say': 1, 'with': 3, 'confidence': 1, 'that': 2, 'this': 2, 'just': 1, 'not': 5, 'true': 1, 'arrived': 3, 'rather': 1, 'high': 1, 'expectations': 1, 'due': 1, 'made': 1, 'by': 1, 'some': 2, 'of': 4, 'reviews': 1, 'posted': 1, 'on': 1, 'their': 1, 'website': 1, 'was': 10, 'immediately': 1, 'disappointed': 2, 'no': 1, 'one': 1, 'came': 2, 'my': 7, 'car': 1, 'collect': 1, 'bags': 2, 'forced': 2, 'lug': 1, 'them': 2, 'inside': 2, 'myself': 1, 'doorman': 1, 'polite': 1, 'but': 1, 'failed': 1, 'open': 1, 'door': 1, 'for': 3, 'me': 3, 'leaving': 2, 'while': 2, 'trying': 1, 'carry': 1, 'once': 2, 'atmosphere': 1, 'what': 1, 'expected': 1, 'lighting': 1, 'poor': 1, 'lobby': 1, 'dark': 1, 'it': 4, 'looked': 2, 'like': 1, 'a': 3, 'dingy': 1, 'setting': 1, 'glossy': 1, 'veneer': 1, 'an': 1, 'attempt': 1, 'hide': 1, 'degenerate': 1, 'state': 1, 'building': 1, 'carpet': 1, 'dirty': 1, 'as': 1, 'if': 1, 'had': 2, 'been': 1, 'vacuumed': 1, 'or': 1, 'washed': 1, 'quite': 1, 'time': 1, 'up': 2, 'corners': 1, 'where': 1, 'walls': 1, 'met': 1, 'ceilings': 1, 'visible': 1, 'water': 2, 'damage': 1, 'when': 2, 'at': 1, 'front': 1, 'desk': 1, 'wait': 1, 'over': 1, 'five': 1, 'minutes': 3, 'until': 1, 'someone': 1, 'out': 1, 'help': 1, 'checking': 1, 'went': 1, 'room': 3, 'again': 1, 'bed': 1, 'very': 2, 'uncomfortable': 1, 'ran': 1, 'shower': 1, 'without': 1, 'ever': 1, 'receiving': 1, 'any': 2, 'hot': 1, 'night': 1, 'ordered': 1, 'food': 1, 'took': 1, '45': 1, 'finally': 1, 'cold': 1, 'fitness': 1, 'center': 1, 'selection': 1, 'machines': 1, 'which': 1, 'caused': 1, 'long': 1, 'lines': 1, 'waiting': 1, 'use': 1, 'would': 1, 'certainly': 1, 'recommend': 1, 'friends': 1, 'probably': 1, 'enemies': 1, 'either': 1, 'stay': 1, 'away': 1, '!': 1}\n"
     ]
    }
   ],
   "source": [
    "test_dict\n",
    "unk_dict_uni = unkify_k_portion(test_dict,0.05)\n",
    "print(unk_dict_uni)"
   ]
  },
  {
   "cell_type": "code",
   "execution_count": 53,
   "metadata": {
    "id": "c2UyawBVfBEj"
   },
   "outputs": [],
   "source": [
    "#unkify_k_most(test_dict,150)"
   ]
  },
  {
   "cell_type": "markdown",
   "metadata": {
    "id": "aRGK0_x_t46P"
   },
   "source": [
    "## 3.2 Smoothing\n",
    "\n",
    "In this part of project, we are going to compute the probabilities for unigram and bigram models after smoothing.\n",
    "There are several smoothing methods you can start with:\n",
    "* add-k\n",
    "* Kneser-Ney\n",
    "* Good-Turing\n",
    "* ...\n",
    "\n",
    "You need to compute for both unigram and bigram models.\n",
    "\n",
    "Below is a starter point using add-k smoothing. As always, you DO NOT need to follow it; you do need to implement add-k smoothing however feel free to implement any other smoothing methods you'd like and use those for later parts of the assignment!"
   ]
  },
  {
   "cell_type": "code",
   "execution_count": 54,
   "metadata": {
    "id": "nmW8G3mqt-5z"
   },
   "outputs": [],
   "source": [
    "\"\"\"\n",
    "Reference code for add-k smoothing on unigram model.\n",
    "dic: a dictionary of your unigrams. key: words, val: occurence\n",
    "k: parameter k for smoothing\n",
    "Return: a dictionary of results after smoothing\n",
    "\"\"\"\n",
    "#return probabilities, not counts\n",
    "def add_k_unigram(dic, k):\n",
    "  # TODO\n",
    "  counts = dic.values()\n",
    "  totalTokens = sum(counts)\n",
    "  V = len(dic)\n",
    "\n",
    "  probDict = {}\n",
    "  for key in dic:\n",
    "    probDict[key] = (dic[key]+k)/(totalTokens + k*V)\n",
    "  \n",
    "  return probDict\n"
   ]
  },
  {
   "cell_type": "code",
   "execution_count": 55,
   "metadata": {
    "id": "Szs3zqwSFDEY"
   },
   "outputs": [],
   "source": [
    "\"\"\"\n",
    "Reference code for add-k smoothing on bigram model.\n",
    "uni_dic: a dictionary of your unigrams.\n",
    "bi_dic: a dictionary of your bigrams.\n",
    "k: parameter k for smoothing\n",
    "Return: a dictionary of results after smoothing\n",
    "\"\"\"\n",
    "#only stores seen bigrams, assume unk/unseen bigrams have smoothed prob k/(#unk+k*V) (?? not sure)\n",
    "def add_k_bigram(uni_dic, bi_dic, k):\n",
    "  # TODO\n",
    "  V = len(uni_dic)\n",
    "  probDict = {}\n",
    "  for key in bi_dic:\n",
    "    probDict[key] = (bi_dic[key]+k)/(uni_dic[key[0]] + k*V)\n",
    "  return probDict"
   ]
  },
  {
   "cell_type": "code",
   "execution_count": 56,
   "metadata": {
    "id": "M86AbjATln3k"
   },
   "outputs": [],
   "source": [
    "test_dict_uni = review_unigram_count(tokenized_fake_review_training[0])\n",
    "test_dict_bi = review_bigram_count(tokenized_fake_review_training[0])\n",
    "\n",
    "#add_k_unigram(unk_dict_uni,0)"
   ]
  },
  {
   "cell_type": "code",
   "execution_count": 57,
   "metadata": {
    "id": "Tr2f7HdimtrM"
   },
   "outputs": [],
   "source": [
    "#add_k_bigram(test_dict_uni,test_dict_bi,0.1)"
   ]
  },
  {
   "cell_type": "markdown",
   "metadata": {
    "id": "AbHkdI7-t_7D"
   },
   "source": [
    "**Please answer the following question:**\n",
    "\n",
    "**Q3.2: Which smoothing method did you choose? Are there any parameters, if so how are you planning to pick the value? If you choose to implement more than 1 method (not a requirement), please state each of them. Providing a description for any non-standard approach, e.g., an approach that was not covered in class or in the readings**\n",
    "\n",
    "Please answer on your writeup doc!"
   ]
  },
  {
   "cell_type": "markdown",
   "metadata": {
    "id": "ML03appeuSm3"
   },
   "source": [
    "# Part 4: Perplexity\n",
    "At this point, we have developed several language models: unigram vs bigram, unsmoothed vs smoothed. We now want to compare all the models. \n",
    "\n",
    "Implement code to compute the perplexity of a **“development set.”** (“Development set”\n",
    "is just another way to refer to the validation set—part of a dataset that is distinct from\n",
    "the training portion and the test portion.) Compute and report the perplexity of each\n",
    "of the language models (one trained on true reviews and fake reviews) on\n",
    "the development corpora. Compute perplexity as follows:\n",
    "\\begin{align*}\n",
    "PP &= \\left(\\prod_i^N\\frac{1}{P\\left(W_i\\mid W_{i-1}, ...W_{i-n+1}\\right)}\\right)^{\\frac{1}{N}}\\\\\n",
    "&=\\exp \\frac{1}{N}\\sum_{i}^N-\\log P\\left(W_i\\mid W_{i-1}, ...W_{i-n+1}\\right)\n",
    "\\end{align*}\n",
    "where $N$ is the total number of tokens in the test corpus and $P\\left(W_i\\mid W_{i-1}, ...W_{i-n+1}\\right)$\n",
    "is the n-gram probability of your model. Under the second definition above, perplexity\n",
    "is a function of the average (per-word) log probability: use this to avoid numerical\n",
    "computation errors.\n",
    "\n",
    "Please complete the following tasks and report what you have observed. Remember, lower perplexity means better model."
   ]
  },
  {
   "cell_type": "markdown",
   "metadata": {
    "id": "aT1IRyohJw7e"
   },
   "source": [
    "## Task 1: Compute perplexity for smoothed unigram and smoothed bigram. \n",
    "*Note: If you choose more than one smoothing method, pick one of them to compute. If you need to try different values of parameters, you can try them out here.*\n"
   ]
  },
  {
   "cell_type": "code",
   "execution_count": 58,
   "metadata": {
    "id": "WFFj7XqDKXfX"
   },
   "outputs": [],
   "source": [
    "# TODO: compute perplexity for one smoothing method on unigram, and one smoothing method on bigram.\n",
    "import math\n",
    "def logprob_uni(uni_count,uni_probs):\n",
    "  sum_logs = 0\n",
    "  #uni_count is a dictionary with unigram counts\n",
    "  for key in uni_count:\n",
    "    if key in uni_probs:\n",
    "      sum_logs = sum_logs - uni_count[key]*math.log(uni_probs[key])\n",
    "    else:\n",
    "      sum_logs = sum_logs - uni_count[key]*math.log(uni_probs[\"<UNK>\"])\n",
    "  return sum_logs\n",
    "\n",
    "def uni_perplexity(uni_count,uni_probs):\n",
    "  counts = uni_count.values()\n",
    "  N = sum(counts)\n",
    "  return math.exp(1/N*logprob_uni(uni_count,uni_probs))\n",
    "\n",
    "#for any unseen/unknown bigrams, assume same probability as lowest seen probability\n",
    "#try highest seen probability\n",
    "def logprob_bi(bi_count,bi_probs):\n",
    "  key_min = min(bi_probs.keys(), key=(lambda k: bi_probs[k]))\n",
    "  min_prob = bi_probs[key_min]\n",
    "  key_max = max(bi_probs.keys(), key=(lambda k: bi_probs[k]))\n",
    "  max_prob = bi_probs[key_max]\n",
    "  sum_logs = 0\n",
    "  for key in bi_count:\n",
    "    if key in bi_probs:\n",
    "      sum_logs = sum_logs - bi_count[key]*math.log(bi_probs[key])\n",
    "    else:\n",
    "      sum_logs = sum_logs - bi_count[key]*math.log(min_prob)\n",
    "      #sum_logs = sum_logs - bi_count[key]*math.log(max_prob)\n",
    "  return sum_logs\n",
    "\n",
    "def bi_perplexity(bi_count,bi_probs):\n",
    "  counts = bi_count.values()\n",
    "  N = sum(counts)\n",
    "  return math.exp(1/N*logprob_bi(bi_count,bi_probs))\n"
   ]
  },
  {
   "cell_type": "code",
   "execution_count": 59,
   "metadata": {
    "colab": {
     "base_uri": "https://localhost:8080/"
    },
    "id": "IW9juPkFpXHF",
    "outputId": "47ec5212-efc7-43b4-df1d-961203e76cc9"
   },
   "outputs": [
    {
     "data": {
      "text/plain": [
       "757.4084640942478"
      ]
     },
     "execution_count": 59,
     "metadata": {},
     "output_type": "execute_result"
    }
   ],
   "source": [
    "fake_uni_count = corpus_unigram_count(tokenized_fake_review_training)\n",
    "fake_uni_count_unk005 = unkify_k_portion(fake_uni_count, 0.05)\n",
    "fake_uni_probs_add1_unk005 = add_k_unigram(fake_uni_count_unk005, 1)\n",
    "#print(fake_uni_probs_add1_unk005)\n",
    "real_uni_count = corpus_unigram_count(tokenized_real_review_training)\n",
    "real_uni_count_unk005 = unkify_k_portion(real_uni_count, 0.05)\n",
    "real_uni_probs_add1_unk005 = add_k_unigram(real_uni_count_unk005, 1)\n",
    "\n",
    "review_1_count = review_unigram_count(tokenized_fake_review_validation[0])\n",
    "review_2_count = review_unigram_count(tokenized_fake_review_validation[5])\n",
    "logprob_uni(review_1_count,fake_uni_probs_add1_unk005)\n",
    "logprob_uni(review_2_count,fake_uni_probs_add1_unk005)\n"
   ]
  },
  {
   "cell_type": "code",
   "execution_count": 60,
   "metadata": {
    "colab": {
     "base_uri": "https://localhost:8080/"
    },
    "id": "ZxgYM67tr0WZ",
    "outputId": "36eb6bf9-044c-4792-fa52-7e2d6ce34663"
   },
   "outputs": [
    {
     "name": "stdout",
     "output_type": "stream",
     "text": [
      "369.8838760167496\n",
      "347.5294943939175\n"
     ]
    }
   ],
   "source": [
    "fake_bi_count = corpus_bigram_count(tokenized_fake_review_training)\n",
    "#IGNORE UNKS IN BIGRAMS\n",
    "#fake_bi_count_unk005 = unkify_k_portion(fake_bi_count, 0.05)\n",
    "#print(fake_bi_count_unk005)\n",
    "fake_bi_probs_add1 = add_k_bigram(fake_uni_count,fake_bi_count, 0.1)\n",
    "\n",
    "real_bi_count = corpus_bigram_count(tokenized_real_review_training)\n",
    "real_bi_probs_add1 = add_k_bigram(real_uni_count,real_bi_count, 0.1)\n",
    "\n",
    "review_1_bicount = review_bigram_count(tokenized_real_review_validation[2])\n",
    "#print(logprob_bi(review_1_bicount,fake_bi_probs_add1))\n",
    "print(bi_perplexity(review_1_bicount,fake_bi_probs_add1))\n",
    "print(bi_perplexity(review_1_bicount,real_bi_probs_add1))"
   ]
  },
  {
   "cell_type": "code",
   "execution_count": 61,
   "metadata": {
    "colab": {
     "base_uri": "https://localhost:8080/"
    },
    "id": "KzgawCybtBzt",
    "outputId": "8ed27467-37ea-4811-cf7f-e06e762ba02a"
   },
   "outputs": [
    {
     "name": "stdout",
     "output_type": "stream",
     "text": [
      "perplexity of fake reviews using unigram model trained on fake reviews: 316.0893459178535\n",
      "perplexity of fake reviews using unigram model trained on real reviews: 341.9992668679473\n",
      "perplexity of real reviews using unigram model trained on fake reviews: 345.2524492260692\n",
      "perplexity of real reviews using unigram model trained on real reviews: 347.24328623350226\n"
     ]
    }
   ],
   "source": [
    "fake_uni_count_validation = corpus_unigram_count(tokenized_fake_review_validation)\n",
    "real_uni_count_validation = corpus_unigram_count(tokenized_real_review_validation)\n",
    "fake_bi_count_validation = corpus_bigram_count(tokenized_fake_review_validation)\n",
    "real_bi_count_validation = corpus_bigram_count(tokenized_real_review_validation)\n",
    "\n",
    "#perplexity of fake validation reviews using fake unigram modelprint(\"perplexity of fake reviews using unigram model trained on fake reviews: \" + str(uni_perplexity(fake_uni_count_validation,fake_uni_probs_add1_unk005)))\n",
    "print(\"perplexity of fake reviews using unigram model trained on fake reviews: \" + str(uni_perplexity(fake_uni_count_validation,fake_uni_probs_add1_unk005)))\n",
    "print(\"perplexity of fake reviews using unigram model trained on real reviews: \" + str(uni_perplexity(fake_uni_count_validation,real_uni_probs_add1_unk005)))\n",
    "\n",
    "print(\"perplexity of real reviews using unigram model trained on fake reviews: \" + str(uni_perplexity(real_uni_count_validation,fake_uni_probs_add1_unk005)))\n",
    "print(\"perplexity of real reviews using unigram model trained on real reviews: \" + str(uni_perplexity(real_uni_count_validation,real_uni_probs_add1_unk005)))\n"
   ]
  },
  {
   "cell_type": "code",
   "execution_count": 62,
   "metadata": {
    "colab": {
     "base_uri": "https://localhost:8080/"
    },
    "id": "_SjPeWf_2Oyn",
    "outputId": "3879c260-bba2-467d-ee20-9c5e252a69db"
   },
   "outputs": [
    {
     "name": "stdout",
     "output_type": "stream",
     "text": [
      "perplexity of fake reviews using bigram model trained on fake reviews: 226.2641451890388\n",
      "perplexity of fake reviews using bigram model trained on real reviews: 284.7861308152909\n",
      "perplexity of real reviews using bigram model trained on fake reviews: 323.4005157218555\n",
      "perplexity of real reviews using bigram model trained on real reviews: 295.0701719041445\n"
     ]
    }
   ],
   "source": [
    "print(\"perplexity of fake reviews using bigram model trained on fake reviews: \" + str(bi_perplexity(fake_bi_count_validation,fake_bi_probs_add1)))\n",
    "print(\"perplexity of fake reviews using bigram model trained on real reviews: \" + str(bi_perplexity(fake_bi_count_validation,real_bi_probs_add1)))\n",
    "\n",
    "print(\"perplexity of real reviews using bigram model trained on fake reviews: \" + str(bi_perplexity(real_bi_count_validation,fake_bi_probs_add1)))\n",
    "print(\"perplexity of real reviews using bigram model trained on real reviews: \" + str(bi_perplexity(real_bi_count_validation,real_bi_probs_add1)))"
   ]
  },
  {
   "cell_type": "markdown",
   "metadata": {
    "id": "QbxTiHHh7Lwc"
   },
   "source": [
    "**Q4.1: Why do we need to compute perplexity after smoothing?**\n",
    "\n",
    "Please answer on your writeup doc!\n",
    "\n",
    "**Q4.2: Did you choose any values for parameters?**\n",
    "\n",
    "Please answer on your writeup doc!"
   ]
  },
  {
   "cell_type": "markdown",
   "metadata": {
    "id": "RQxfllB0KfKf"
   },
   "source": [
    "## Task 2: Compute perplexity for other smoothing methods (BONUS 🎉). \n",
    "*Note: If you only pick one smoothing method, you can omit this task. If you need to try different values of parameters, you can try them out here.*"
   ]
  },
  {
   "cell_type": "code",
   "execution_count": 63,
   "metadata": {
    "id": "5fU-sCOYK_xI"
   },
   "outputs": [],
   "source": [
    "# TODO: compute perplexity for your rest of smoothing method."
   ]
  },
  {
   "cell_type": "markdown",
   "metadata": {
    "id": "VaALsOnk7FZJ"
   },
   "source": [
    "**Q4.3: If your smoothing method needs to pick a parameter, what is the value of your parameter?**\n",
    "\n",
    "Please answer on your writeup doc!\n",
    "\n",
    "**Q4.4: Which smoothing method is the best among your choices?**\n",
    "\n",
    "Please answer on your writeup doc!"
   ]
  },
  {
   "cell_type": "markdown",
   "metadata": {
    "id": "JKH7JpZWvdP5"
   },
   "source": [
    "# Part 5: Putting Everything Together and Submitting to Kaggle\n",
    "Combining all the previous parts together, we have developed a bunch of language models. Before we proceed to the next step, let's check a few things (no need to answer):\n",
    "* Did you train your model only on training set?\n",
    "* Did you validate your model only on validation/development set?\n",
    "* Did you determine all your parameters?\n",
    "\n",
    "Finally, please answer:\n",
    "\n",
    "**Q5: What is your choice of language model, and why?** (Hint: How do we usually choose language models? What is our selection criteria? _Look at the Sept. 9th lecture_)\n",
    "\n",
    "Please answer on your writeup doc!\n",
    "\n"
   ]
  },
  {
   "cell_type": "code",
   "execution_count": 64,
   "metadata": {
    "id": "Owi5Xvt_6crY"
   },
   "outputs": [],
   "source": [
    "#functions to get models (returns probability dictionary)\n",
    "#takes parameters for unk handling, smoothing\n",
    "def get_uni_model(corpus, unk_prob, smooth_k):\n",
    "  uni_count = corpus_unigram_count(corpus)\n",
    "  uni_count_unk = unkify_k_portion(uni_count, unk_prob)\n",
    "  return add_k_unigram(uni_count_unk, smooth_k)\n",
    "\n",
    "def get_bi_model(corpus, smooth_k):\n",
    "  uni_count = corpus_unigram_count(corpus)\n",
    "  bi_count = corpus_bigram_count(corpus)\n",
    "  return add_k_bigram(uni_count,bi_count, smooth_k)"
   ]
  },
  {
   "cell_type": "code",
   "execution_count": 65,
   "metadata": {
    "id": "ukEVlpFow6mz"
   },
   "outputs": [],
   "source": [
    "# TODO: anything that helps you answer/check the above points.\n",
    "\n",
    "#classifying functions\n",
    "#0 if true, 1 if fake\n",
    "def classify_review_uni(review,fake_uni_probs,real_uni_probs):\n",
    "  review_count = review_unigram_count(review)\n",
    "  pp_fake = uni_perplexity(review_count,fake_uni_probs)\n",
    "  pp_real = uni_perplexity(review_count,real_uni_probs)\n",
    "  if pp_real < pp_fake:\n",
    "    return 0\n",
    "  else:\n",
    "    return 1\n",
    "\n",
    "def classify_review_bi(review,fake_bi_probs,real_bi_probs):\n",
    "  review_count = review_bigram_count(review)\n",
    "  pp_fake = bi_perplexity(review_count,fake_bi_probs)\n",
    "  pp_real = bi_perplexity(review_count,real_bi_probs)\n",
    "  if pp_real <= pp_fake:\n",
    "    return 0\n",
    "  else:\n",
    "    return 1\n"
   ]
  },
  {
   "cell_type": "code",
   "execution_count": 66,
   "metadata": {
    "id": "0nbVEzTz47xN"
   },
   "outputs": [],
   "source": [
    "#training models\n",
    "real_uni_probs = get_uni_model(tokenized_real_review_training,0.001,0.15)\n",
    "fake_uni_probs = get_uni_model(tokenized_fake_review_training,0.001,0.15)\n",
    "real_bi_probs = get_bi_model(tokenized_real_review_training,0.1)\n",
    "fake_bi_probs = get_bi_model(tokenized_fake_review_training,0.1)\n",
    "\n",
    "#testing on validation set\n",
    "#real reviews, outputs should be 1\n",
    "uni_real_outputs = []\n",
    "bi_real_outputs = []\n",
    "for review in tokenized_real_review_validation:\n",
    "  uni_real_outputs.append(classify_review_uni(review,fake_uni_probs,real_uni_probs))\n",
    "  bi_real_outputs.append(classify_review_bi(review,fake_bi_probs,real_bi_probs))\n",
    "\n",
    "#fake reviews, outputs should be 0\n",
    "uni_fake_outputs = []\n",
    "bi_fake_outputs = []\n",
    "for review in tokenized_fake_review_validation:\n",
    "  uni_fake_outputs.append(classify_review_uni(review,fake_uni_probs,real_uni_probs))\n",
    "  bi_fake_outputs.append(classify_review_bi(review,fake_bi_probs,real_bi_probs))"
   ]
  },
  {
   "cell_type": "code",
   "execution_count": 67,
   "metadata": {
    "colab": {
     "base_uri": "https://localhost:8080/"
    },
    "id": "ywo7RhwH9_OU",
    "outputId": "d9894042-6e18-4f16-c6d6-d57bfd7302af"
   },
   "outputs": [
    {
     "name": "stdout",
     "output_type": "stream",
     "text": [
      "0.6625\n",
      "0.9375\n",
      "0.8\n",
      "0.7125\n",
      "0.9625\n",
      "0.8375\n"
     ]
    }
   ],
   "source": [
    "uni_real_accuracy = 1 - sum(uni_real_outputs)/len(uni_real_outputs)\n",
    "uni_fake_accuracy = sum(uni_fake_outputs)/len(uni_fake_outputs)\n",
    "uni_total_accuracy = (uni_real_accuracy*len(uni_real_outputs) + uni_fake_accuracy*len(uni_fake_outputs))/(len(uni_real_outputs)+len(uni_fake_outputs))\n",
    "\n",
    "bi_real_accuracy = 1 - sum(bi_real_outputs)/len(bi_real_outputs)\n",
    "bi_fake_accuracy = sum(bi_fake_outputs)/len(bi_fake_outputs)\n",
    "bi_total_accuracy = (bi_real_accuracy*len(bi_real_outputs) + bi_fake_accuracy*len(bi_fake_outputs))/(len(bi_real_outputs)+len(bi_fake_outputs))\n",
    "\n",
    "print(uni_real_accuracy)\n",
    "print(uni_fake_accuracy)\n",
    "print(uni_total_accuracy)\n",
    "\n",
    "print(bi_real_accuracy)\n",
    "print(bi_fake_accuracy)\n",
    "print(bi_total_accuracy)"
   ]
  },
  {
   "cell_type": "code",
   "execution_count": 68,
   "metadata": {
    "id": "VbDPZVLXwkOA"
   },
   "outputs": [],
   "source": [
    "def get_accuracies(fake_uni_probs,real_uni_probs,fake_bi_probs,real_bi_probs,corpus_fake, corpus_real):\n",
    "  #testing on validation set\n",
    "  #real reviews, outputs should be 1\n",
    "  uni_real_outputs = []\n",
    "  bi_real_outputs = []\n",
    "  for review in corpus_real:\n",
    "    uni_real_outputs.append(classify_review_uni(review,fake_uni_probs,real_uni_probs))\n",
    "    bi_real_outputs.append(classify_review_bi(review,fake_bi_probs,real_bi_probs))\n",
    "\n",
    "  #fake reviews, outputs should be 0\n",
    "  uni_fake_outputs = []\n",
    "  bi_fake_outputs = []\n",
    "  for review in corpus_fake:\n",
    "    uni_fake_outputs.append(classify_review_uni(review,fake_uni_probs,real_uni_probs))\n",
    "    bi_fake_outputs.append(classify_review_bi(review,fake_bi_probs,real_bi_probs))\n",
    "\n",
    "  uni_real_accuracy = 1 - sum(uni_real_outputs)/len(uni_real_outputs)\n",
    "  uni_fake_accuracy = sum(uni_fake_outputs)/len(uni_fake_outputs)\n",
    "  uni_total_accuracy = (uni_real_accuracy*len(uni_real_outputs) + uni_fake_accuracy*len(uni_fake_outputs))/(len(uni_real_outputs)+len(uni_fake_outputs))\n",
    "\n",
    "  bi_real_accuracy = 1 - sum(bi_real_outputs)/len(bi_real_outputs)\n",
    "  bi_fake_accuracy = sum(bi_fake_outputs)/len(bi_fake_outputs)\n",
    "  bi_total_accuracy = (bi_real_accuracy*len(bi_real_outputs) + bi_fake_accuracy*len(bi_fake_outputs))/(len(bi_real_outputs)+len(bi_fake_outputs))\n",
    "\n",
    "  return [uni_real_accuracy, uni_fake_accuracy, uni_total_accuracy], [bi_real_accuracy, bi_fake_accuracy, bi_total_accuracy]\n"
   ]
  },
  {
   "cell_type": "code",
   "execution_count": 69,
   "metadata": {
    "id": "yMIljaflt2WE"
   },
   "outputs": [],
   "source": [
    "#choosing parameters\n",
    "import numpy as np\n",
    "num_unk_params = 5\n",
    "num_smooth_params = 5\n",
    "\n",
    "unk_params = np.linspace(0.001, 0.011, num=num_unk_params)\n",
    "smooth_params = np.linspace(0,0.2, num=num_smooth_params)\n",
    "\n",
    "uni_accs_total = np.zeros((num_unk_params,num_smooth_params))\n",
    "bi_accs_total = np.zeros((num_unk_params,num_smooth_params))\n",
    "\n",
    "for j in range(len(unk_params)):\n",
    "  for k in range(len(smooth_params)):\n",
    "    real_uni_probs = get_uni_model(tokenized_real_review_training,unk_params[j],smooth_params[k])\n",
    "    fake_uni_probs = get_uni_model(tokenized_fake_review_training,unk_params[j],smooth_params[k])\n",
    "    real_bi_probs = get_bi_model(tokenized_real_review_training,smooth_params[k])\n",
    "    fake_bi_probs = get_bi_model(tokenized_fake_review_training,smooth_params[k])\n",
    "\n",
    "    #returns real, fake, total\n",
    "    uni_accuracies, bi_accuracies = get_accuracies(fake_uni_probs, real_uni_probs, fake_bi_probs, real_bi_probs, tokenized_fake_review_validation, tokenized_real_review_validation)\n",
    "    uni_accs_total[j][k] = uni_accuracies[2]\n",
    "    bi_accs_total[j][k] = bi_accuracies[2]\n"
   ]
  },
  {
   "cell_type": "code",
   "execution_count": 70,
   "metadata": {
    "id": "-kiPjXvO1FZq"
   },
   "outputs": [
    {
     "name": "stdout",
     "output_type": "stream",
     "text": [
      "[[0.85625 0.8625  0.84375 0.85625 0.85625]\n",
      " [0.84375 0.79375 0.8     0.81875 0.825  ]\n",
      " [0.7875  0.78125 0.79375 0.7875  0.775  ]\n",
      " [0.775   0.75625 0.75625 0.7625  0.7625 ]\n",
      " [0.74375 0.75    0.75625 0.75625 0.7625 ]]\n",
      "[[0.8375  0.85625 0.8375  0.83125 0.8125 ]\n",
      " [0.8375  0.85625 0.8375  0.83125 0.8125 ]\n",
      " [0.8375  0.85625 0.8375  0.83125 0.8125 ]\n",
      " [0.8375  0.85625 0.8375  0.83125 0.8125 ]\n",
      " [0.8375  0.85625 0.8375  0.83125 0.8125 ]]\n"
     ]
    }
   ],
   "source": [
    "print(uni_accs_total)\n",
    "print(bi_accs_total)"
   ]
  },
  {
   "cell_type": "markdown",
   "metadata": {
    "id": "E7bWKZQjv2Ht"
   },
   "source": [
    "## Part 5.1: First Model Submission to Kaggle\n",
    "\n",
    "Now we need to apply our model to testing data. What you need to do:\n",
    "* Takes the test data as input, and generates an output of your prediction based on your chosen language model\n",
    "* Your output file should be ONLY your predictions\n",
    "* Submit to Kaggle\n",
    "\n",
    "You should use your trained model to predict labels for all the reviews in `TestData.txt`. Output your predictions to a **csv** file and submit it to kaggle. Each line should contain the id of the test review and its corresponding prediction (in total 160 lines). In other words, your output should look like (**including the header**):\n",
    "```\n",
    "Id,Prediction\n",
    "0,0\n",
    "1,0\n",
    "2,1\n",
    "3,0\n",
    "...\n",
    "160,1\n",
    "```\n",
    "Note that you should add the header `Id,Prediction` and there is no space in the output. The Id starts from 0 (not 1).\n",
    "\n",
    "Use this kaggle [link](https://www.kaggle.com/t/eb382e53c0cc448d9da21b3527d) to submit your output. Your team name should be the concatenation of your netids, **exactly in the same order as this notebook is named**. For example, if notebook is 4740_FA21_p1_mb2363_ssc255, then Kaggle group should be mb2363_ssc255.\n",
    "\n",
    "You have 10 submissions **per day** so do not wait until the last minute! There is additionally a baseline score on Kaggle for you to benchmark against.\n"
   ]
  },
  {
   "cell_type": "code",
   "execution_count": 71,
   "metadata": {
    "id": "3wTUkQq3Dp2D"
   },
   "outputs": [],
   "source": [
    "#training models\n",
    "real_uni_probs = get_uni_model(tokenized_real_review_training,0.001,0.15)\n",
    "fake_uni_probs = get_uni_model(tokenized_fake_review_training,0.001,0.15)\n",
    "real_bi_probs = get_bi_model(tokenized_real_review_training,0.1)\n",
    "fake_bi_probs = get_bi_model(tokenized_fake_review_training,0.1)"
   ]
  },
  {
   "cell_type": "code",
   "execution_count": 72,
   "metadata": {
    "id": "wqECbQs7wDFr"
   },
   "outputs": [],
   "source": [
    "# TODO: Add code to generate the Kaggle output file and submit the output file to Kaggle\n",
    "uni_preds = []\n",
    "bi_preds = []\n",
    "for review in tokenized_reviews_test:\n",
    "  uni_preds.append(classify_review_uni(review,fake_uni_probs,real_uni_probs))\n",
    "  bi_preds.append(classify_review_bi(review,fake_bi_probs,real_bi_probs))"
   ]
  },
  {
   "cell_type": "code",
   "execution_count": 73,
   "metadata": {
    "id": "OMvGccs3GMwR"
   },
   "outputs": [
    {
     "name": "stdout",
     "output_type": "stream",
     "text": [
      "[1, 1, 1, 1, 0, 1, 1, 1, 1, 1, 0, 1, 1, 0, 1, 1, 1, 0, 1, 0, 0, 0, 1, 1, 1, 0, 0, 0, 1, 1, 1, 0, 0, 1, 0, 1, 1, 1, 1, 1, 1, 1, 0, 1, 1, 1, 0, 0, 1, 1, 1, 0, 1, 1, 1, 0, 0, 1, 0, 0, 0, 1, 1, 0, 1, 1, 1, 1, 0, 0, 1, 1, 0, 1, 1, 0, 1, 1, 0, 0, 0, 0, 0, 0, 0, 1, 0, 0, 1, 0, 1, 0, 1, 0, 1, 0, 1, 1, 1, 0, 0, 1, 1, 1, 1, 1, 0, 0, 0, 1, 1, 1, 1, 0, 1, 1, 1, 1, 0, 1, 1, 1, 0, 1, 1, 1, 1, 0, 1, 1, 1, 0, 0, 0, 1, 1, 1, 0, 0, 0, 1, 0, 0, 1, 0, 1, 1, 1, 1, 1, 0, 0, 1, 0, 0, 0, 0, 0, 1, 1]\n",
      "[1, 1, 1, 1, 0, 1, 0, 1, 1, 1, 0, 1, 1, 0, 1, 1, 1, 0, 1, 1, 0, 0, 1, 1, 1, 0, 0, 0, 1, 1, 1, 1, 0, 1, 0, 1, 1, 1, 1, 1, 1, 1, 0, 1, 1, 1, 1, 0, 1, 1, 1, 0, 1, 1, 1, 1, 1, 1, 0, 0, 0, 0, 1, 0, 1, 1, 1, 1, 0, 1, 1, 1, 1, 1, 1, 0, 1, 1, 0, 0, 0, 0, 0, 0, 0, 1, 0, 0, 0, 1, 1, 0, 1, 0, 1, 0, 1, 1, 1, 0, 0, 1, 1, 1, 1, 1, 1, 0, 1, 1, 1, 1, 1, 0, 1, 1, 1, 0, 0, 1, 1, 1, 1, 1, 1, 1, 1, 0, 1, 1, 1, 0, 0, 0, 1, 1, 1, 0, 1, 1, 1, 0, 0, 1, 1, 1, 1, 1, 1, 0, 0, 1, 1, 0, 1, 0, 0, 0, 0, 1]\n",
      "160\n"
     ]
    }
   ],
   "source": [
    "print(uni_preds)\n",
    "print(bi_preds)\n",
    "print(len(bi_preds))"
   ]
  },
  {
   "cell_type": "code",
   "execution_count": null,
   "metadata": {
    "id": "mkrtlhQpHlPs"
   },
   "outputs": [],
   "source": [
    "import csv\n",
    "with open('/content/drive/MyDrive/Colab Notebooks/4740_p1_dataset/uni_preds.csv', 'w', newline='') as f:\n",
    "    writer = csv.writer(f)\n",
    "    row = ['id','prediction']\n",
    "    writer.writerow(row)\n",
    "    for i in range(len(uni_preds)):\n",
    "      row = [i,uni_preds[i]]\n",
    "      writer.writerow(row)"
   ]
  },
  {
   "cell_type": "code",
   "execution_count": null,
   "metadata": {
    "id": "HHoDaFjYJx5q"
   },
   "outputs": [],
   "source": [
    "with open('/content/drive/MyDrive/Colab Notebooks/4740_p1_dataset/bi_preds.csv', 'w', newline='') as f:\n",
    "    writer = csv.writer(f)\n",
    "    row = ['id','prediction']\n",
    "    writer.writerow(row)\n",
    "    for i in range(len(bi_preds)):\n",
    "      row = [i,bi_preds[i]]\n",
    "      writer.writerow(row)"
   ]
  },
  {
   "cell_type": "markdown",
   "metadata": {
    "id": "uBtISMsewD4e"
   },
   "source": [
    "# Part 6: Naive Bayes\n",
    "\n",
    "The Naive Bayes classification method is based on Bayes Rule. Suppose we have a review *d* and its label *c* (either 0 or 1).\n",
    "\\begin{align*}\n",
    "P(c|d)=\\frac{P(d|c)P(c)}{P(d)}\n",
    "\\end{align*}\n",
    "Likelihood: $P(d|c)$. In real/deception corpus, how likely *d* would appear.\n",
    "\n",
    "Prior: $P(c)$. The probability of real/deceptive reviews in general.\n",
    "\n",
    "Posterior: $P(c|d)$. Given *d*, how likely is it that it is real/deceptive.\n",
    "\n",
    "Goal: $\\underset{c\\in \\{0,1\\}}{\\operatorname{argmax}} P(c|d)$, which is equivalent to $\\underset{c\\in \\{0,1\\}}{\\operatorname{argmax}} P(d|c)P(c)$.\n",
    "\n",
    "The equivalence holds because $P(d)$ is the same for any $c$. Thus the denominator can be dropped.\n",
    "\n",
    "Denote $d=\\{x_1, x_2, ..., x_n\\}$ where $x_i$'s are words in the reviews *d* (sometimes called features). Unlike n-gram language modelling, we make the multinomial Naive Bayes independence assumption here, where we assume positions of words do not matter. Formally, \n",
    "\\begin{align*}\n",
    "&\\underset{c\\in \\{0,1\\}}{\\operatorname{argmax}} P(d|c)P(c)\\\\\n",
    "=&\\underset{c\\in \\{0,1\\}}{\\operatorname{argmax}} P(x_1, ..., x_n|c)P(c)\\\\\n",
    "=&\\underset{c\\in \\{0,1\\}}{\\operatorname{argmax}} P(x_1|c)P(x_2|c)...P(x_n|c)\n",
    "\\end{align*}\n",
    "\n",
    "Now we only need to collect the occurences of each word for the classification. This is often called a **bag of words** feature. \n",
    "\n",
    "For instance, in the sentence `All for one and one for all .`, the bag of words feature would be `{\"all\": 2, \"for\": 2, \"one\": 2, \"and\": 1, \".\": 1}`. Essentially, the bag of words feature is a dictionary which maps the word to its occurences. We can see that the order is not considered here.\n",
    "\n",
    "Now, your goal is to implement the Multinomial Naive Bayes. You can use existing codes or Python packages, and adapt them to our reviews classification task.\n",
    "\n",
    "You might find the following packages/functions useful:\n",
    "\n",
    "* nltk.word_tokenize(), nltk.word_tokenize()\n",
    "* nltk.classify.naivebayes()\n",
    "* sklearn.feature_extraction.text\n",
    "* sklearn.naive_bayes.MultinomialNB()"
   ]
  },
  {
   "cell_type": "markdown",
   "metadata": {
    "id": "ZtQpd3ciodGZ"
   },
   "source": [
    "**Please answer the following question(s).**\n",
    "\n",
    "**Q6: Comparing Multinomial Naive Bayes with the unigram language model, which one do you expect to perform better? Why?**\n",
    "\n",
    "Please answer on your writeup doc!"
   ]
  },
  {
   "cell_type": "markdown",
   "metadata": {
    "id": "ZaZTryrewV4I"
   },
   "source": [
    "## 6.1 Implementation"
   ]
  },
  {
   "cell_type": "code",
   "execution_count": null,
   "metadata": {
    "id": "BmaInFPSwY9G"
   },
   "outputs": [],
   "source": [
    "\n"
   ]
  },
  {
   "cell_type": "code",
   "execution_count": 74,
   "metadata": {
    "id": "n3TU4vx2vf2q"
   },
   "outputs": [],
   "source": [
    "from sklearn.feature_extraction.text import *\n",
    "from sklearn.naive_bayes import MultinomialNB\n",
    "\n",
    "#https://scikit-learn.org/stable/modules/generated/sklearn.feature_extraction.text.CountVectorizer.html#sklearn.feature_extraction.text.CountVectorizer\n",
    "#routine found using above as reference\n",
    "vectorizer=CountVectorizer()\n",
    "corpus=[]\n",
    "real_features=[]\n",
    "for review in fake_review_train:\n",
    "  corpus.append(review)\n",
    "for review in real_review_train:\n",
    "  corpus.append(review)\n",
    "features=vectorizer.fit_transform(corpus)\n",
    "\n",
    "clf = MultinomialNB(alpha=.65)\n",
    "y_1=len(fake_review_train)\n",
    "y_2=len(real_review_train)\n",
    "#1s mean fake review 0s mean real\n",
    "Y_train_brain=np.ones(y_1)\n",
    "Y_train=np.append(Y_train_brain, np.zeros(y_2))\n",
    "x_train=features.toarray()\n",
    "\n",
    "rvocab=vectorizer.vocabulary_"
   ]
  },
  {
   "cell_type": "code",
   "execution_count": 75,
   "metadata": {
    "id": "uSzTeOlLvld7"
   },
   "outputs": [
    {
     "data": {
      "text/html": [
       "<style>#sk-container-id-1 {color: black;background-color: white;}#sk-container-id-1 pre{padding: 0;}#sk-container-id-1 div.sk-toggleable {background-color: white;}#sk-container-id-1 label.sk-toggleable__label {cursor: pointer;display: block;width: 100%;margin-bottom: 0;padding: 0.3em;box-sizing: border-box;text-align: center;}#sk-container-id-1 label.sk-toggleable__label-arrow:before {content: \"▸\";float: left;margin-right: 0.25em;color: #696969;}#sk-container-id-1 label.sk-toggleable__label-arrow:hover:before {color: black;}#sk-container-id-1 div.sk-estimator:hover label.sk-toggleable__label-arrow:before {color: black;}#sk-container-id-1 div.sk-toggleable__content {max-height: 0;max-width: 0;overflow: hidden;text-align: left;background-color: #f0f8ff;}#sk-container-id-1 div.sk-toggleable__content pre {margin: 0.2em;color: black;border-radius: 0.25em;background-color: #f0f8ff;}#sk-container-id-1 input.sk-toggleable__control:checked~div.sk-toggleable__content {max-height: 200px;max-width: 100%;overflow: auto;}#sk-container-id-1 input.sk-toggleable__control:checked~label.sk-toggleable__label-arrow:before {content: \"▾\";}#sk-container-id-1 div.sk-estimator input.sk-toggleable__control:checked~label.sk-toggleable__label {background-color: #d4ebff;}#sk-container-id-1 div.sk-label input.sk-toggleable__control:checked~label.sk-toggleable__label {background-color: #d4ebff;}#sk-container-id-1 input.sk-hidden--visually {border: 0;clip: rect(1px 1px 1px 1px);clip: rect(1px, 1px, 1px, 1px);height: 1px;margin: -1px;overflow: hidden;padding: 0;position: absolute;width: 1px;}#sk-container-id-1 div.sk-estimator {font-family: monospace;background-color: #f0f8ff;border: 1px dotted black;border-radius: 0.25em;box-sizing: border-box;margin-bottom: 0.5em;}#sk-container-id-1 div.sk-estimator:hover {background-color: #d4ebff;}#sk-container-id-1 div.sk-parallel-item::after {content: \"\";width: 100%;border-bottom: 1px solid gray;flex-grow: 1;}#sk-container-id-1 div.sk-label:hover label.sk-toggleable__label {background-color: #d4ebff;}#sk-container-id-1 div.sk-serial::before {content: \"\";position: absolute;border-left: 1px solid gray;box-sizing: border-box;top: 0;bottom: 0;left: 50%;z-index: 0;}#sk-container-id-1 div.sk-serial {display: flex;flex-direction: column;align-items: center;background-color: white;padding-right: 0.2em;padding-left: 0.2em;position: relative;}#sk-container-id-1 div.sk-item {position: relative;z-index: 1;}#sk-container-id-1 div.sk-parallel {display: flex;align-items: stretch;justify-content: center;background-color: white;position: relative;}#sk-container-id-1 div.sk-item::before, #sk-container-id-1 div.sk-parallel-item::before {content: \"\";position: absolute;border-left: 1px solid gray;box-sizing: border-box;top: 0;bottom: 0;left: 50%;z-index: -1;}#sk-container-id-1 div.sk-parallel-item {display: flex;flex-direction: column;z-index: 1;position: relative;background-color: white;}#sk-container-id-1 div.sk-parallel-item:first-child::after {align-self: flex-end;width: 50%;}#sk-container-id-1 div.sk-parallel-item:last-child::after {align-self: flex-start;width: 50%;}#sk-container-id-1 div.sk-parallel-item:only-child::after {width: 0;}#sk-container-id-1 div.sk-dashed-wrapped {border: 1px dashed gray;margin: 0 0.4em 0.5em 0.4em;box-sizing: border-box;padding-bottom: 0.4em;background-color: white;}#sk-container-id-1 div.sk-label label {font-family: monospace;font-weight: bold;display: inline-block;line-height: 1.2em;}#sk-container-id-1 div.sk-label-container {text-align: center;}#sk-container-id-1 div.sk-container {/* jupyter's `normalize.less` sets `[hidden] { display: none; }` but bootstrap.min.css set `[hidden] { display: none !important; }` so we also need the `!important` here to be able to override the default hidden behavior on the sphinx rendered scikit-learn.org. See: https://github.com/scikit-learn/scikit-learn/issues/21755 */display: inline-block !important;position: relative;}#sk-container-id-1 div.sk-text-repr-fallback {display: none;}</style><div id=\"sk-container-id-1\" class=\"sk-top-container\"><div class=\"sk-text-repr-fallback\"><pre>MultinomialNB(alpha=0.65)</pre><b>In a Jupyter environment, please rerun this cell to show the HTML representation or trust the notebook. <br />On GitHub, the HTML representation is unable to render, please try loading this page with nbviewer.org.</b></div><div class=\"sk-container\" hidden><div class=\"sk-item\"><div class=\"sk-estimator sk-toggleable\"><input class=\"sk-toggleable__control sk-hidden--visually\" id=\"sk-estimator-id-1\" type=\"checkbox\" checked><label for=\"sk-estimator-id-1\" class=\"sk-toggleable__label sk-toggleable__label-arrow\">MultinomialNB</label><div class=\"sk-toggleable__content\"><pre>MultinomialNB(alpha=0.65)</pre></div></div></div></div></div>"
      ],
      "text/plain": [
       "MultinomialNB(alpha=0.65)"
      ]
     },
     "execution_count": 75,
     "metadata": {},
     "output_type": "execute_result"
    }
   ],
   "source": [
    "clf.fit(x_train,Y_train)"
   ]
  },
  {
   "cell_type": "code",
   "execution_count": 76,
   "metadata": {
    "id": "Zyi1ankSvqUJ"
   },
   "outputs": [
    {
     "data": {
      "text/plain": [
       "0.9"
      ]
     },
     "execution_count": 76,
     "metadata": {},
     "output_type": "execute_result"
    }
   ],
   "source": [
    "y_real_test=np.zeros(len(real_review_validation))\n",
    "vectorizer2=CountVectorizer(vocabulary=rvocab)\n",
    "features=vectorizer2.fit_transform(real_review_validation)\n",
    "x_real_test=features.toarray()\n",
    "clf.score(x_real_test,y_real_test)"
   ]
  },
  {
   "cell_type": "code",
   "execution_count": 77,
   "metadata": {
    "id": "ils4HfRCvsz6"
   },
   "outputs": [
    {
     "data": {
      "text/plain": [
       "0.9125"
      ]
     },
     "execution_count": 77,
     "metadata": {},
     "output_type": "execute_result"
    }
   ],
   "source": [
    "y_fake_test=np.ones(len(fake_review_validation))\n",
    "features=vectorizer2.fit_transform(fake_review_validation)\n",
    "x_fake_test=features.toarray()\n",
    "clf.score(x_fake_test,y_fake_test)"
   ]
  },
  {
   "cell_type": "markdown",
   "metadata": {
    "id": "NWurBZeiwZmT"
   },
   "source": [
    "## 6.2 Putting Everything Together and Submitting to Kaggle\n",
    "\n",
    "You should use your trained model to predict labels for all the reviews in `P1_real_fake_review_test.txt`. Output your predictions to a **csv** file and submit it to kaggle. The format should follow Part 6 as well.\n",
    "\n",
    "Use the previous kaggle link to submit your output! (You are allowed multiple submissions!)"
   ]
  },
  {
   "cell_type": "code",
   "execution_count": 78,
   "metadata": {
    "id": "fpBvQplNwgAO"
   },
   "outputs": [],
   "source": [
    "features=vectorizer2.fit_transform(reviews_test)\n",
    "x_test=features.toarray()"
   ]
  },
  {
   "cell_type": "code",
   "execution_count": 79,
   "metadata": {
    "id": "NL-952wuwiVF"
   },
   "outputs": [],
   "source": [
    "nb_predictions=clf.predict(x_test)"
   ]
  },
  {
   "cell_type": "code",
   "execution_count": 109,
   "metadata": {},
   "outputs": [],
   "source": [
    "measure.end()"
   ]
  },
  {
   "cell_type": "code",
   "execution_count": 110,
   "metadata": {},
   "outputs": [],
   "source": [
    "usage=measure.result.pkg[0]"
   ]
  },
  {
   "cell_type": "code",
   "execution_count": 115,
   "metadata": {},
   "outputs": [
    {
     "data": {
      "text/plain": [
       "68446.166208"
      ]
     },
     "execution_count": 115,
     "metadata": {},
     "output_type": "execute_result"
    }
   ],
   "source": [
    "usage_joule"
   ]
  },
  {
   "cell_type": "code",
   "execution_count": 111,
   "metadata": {},
   "outputs": [],
   "source": [
    "usage_joule=usage/1000000"
   ]
  },
  {
   "cell_type": "code",
   "execution_count": 112,
   "metadata": {},
   "outputs": [],
   "source": [
    "usage_total_joule=usage_joule*100*102"
   ]
  },
  {
   "cell_type": "code",
   "execution_count": 113,
   "metadata": {
    "id": "HiwCIuTrwJfP"
   },
   "outputs": [
    {
     "data": {
      "text/plain": [
       "698.1508953215999"
      ]
     },
     "execution_count": 113,
     "metadata": {},
     "output_type": "execute_result"
    }
   ],
   "source": [
    "\n",
    "usage_total_joule/1000000"
   ]
  }
 ],
 "metadata": {
  "colab": {
   "collapsed_sections": [
    "9MVtIIyEzSS2",
    "ddOznZ7P2nlI",
    "HvET3mDvxL2j"
   ],
   "name": "CS4740_FA21_p1_crs338_rt378.ipynb",
   "provenance": []
  },
  "kernelspec": {
   "display_name": "Python 3 (ipykernel)",
   "language": "python",
   "name": "python3"
  },
  "language_info": {
   "codemirror_mode": {
    "name": "ipython",
    "version": 3
   },
   "file_extension": ".py",
   "mimetype": "text/x-python",
   "name": "python",
   "nbconvert_exporter": "python",
   "pygments_lexer": "ipython3",
   "version": "3.10.5"
  },
  "widgets": {
   "application/vnd.jupyter.widget-state+json": {
    "0765380ccb9a4f8e953cbf3621fbdb2d": {
     "model_module": "@jupyter-widgets/controls",
     "model_module_version": "1.5.0",
     "model_name": "DescriptionStyleModel",
     "state": {
      "_model_module": "@jupyter-widgets/controls",
      "_model_module_version": "1.5.0",
      "_model_name": "DescriptionStyleModel",
      "_view_count": null,
      "_view_module": "@jupyter-widgets/base",
      "_view_module_version": "1.2.0",
      "_view_name": "StyleView",
      "description_width": ""
     }
    },
    "082728dc9df046d4af410d62f7916c2a": {
     "model_module": "@jupyter-widgets/base",
     "model_module_version": "1.2.0",
     "model_name": "LayoutModel",
     "state": {
      "_model_module": "@jupyter-widgets/base",
      "_model_module_version": "1.2.0",
      "_model_name": "LayoutModel",
      "_view_count": null,
      "_view_module": "@jupyter-widgets/base",
      "_view_module_version": "1.2.0",
      "_view_name": "LayoutView",
      "align_content": null,
      "align_items": null,
      "align_self": null,
      "border": null,
      "bottom": null,
      "display": null,
      "flex": null,
      "flex_flow": null,
      "grid_area": null,
      "grid_auto_columns": null,
      "grid_auto_flow": null,
      "grid_auto_rows": null,
      "grid_column": null,
      "grid_gap": null,
      "grid_row": null,
      "grid_template_areas": null,
      "grid_template_columns": null,
      "grid_template_rows": null,
      "height": null,
      "justify_content": null,
      "justify_items": null,
      "left": null,
      "margin": null,
      "max_height": null,
      "max_width": null,
      "min_height": null,
      "min_width": null,
      "object_fit": null,
      "object_position": null,
      "order": null,
      "overflow": null,
      "overflow_x": null,
      "overflow_y": null,
      "padding": null,
      "right": null,
      "top": null,
      "visibility": null,
      "width": null
     }
    },
    "0a9ecaebd3be4e43aa322577045018e6": {
     "model_module": "@jupyter-widgets/base",
     "model_module_version": "1.2.0",
     "model_name": "LayoutModel",
     "state": {
      "_model_module": "@jupyter-widgets/base",
      "_model_module_version": "1.2.0",
      "_model_name": "LayoutModel",
      "_view_count": null,
      "_view_module": "@jupyter-widgets/base",
      "_view_module_version": "1.2.0",
      "_view_name": "LayoutView",
      "align_content": null,
      "align_items": null,
      "align_self": null,
      "border": null,
      "bottom": null,
      "display": null,
      "flex": null,
      "flex_flow": null,
      "grid_area": null,
      "grid_auto_columns": null,
      "grid_auto_flow": null,
      "grid_auto_rows": null,
      "grid_column": null,
      "grid_gap": null,
      "grid_row": null,
      "grid_template_areas": null,
      "grid_template_columns": null,
      "grid_template_rows": null,
      "height": null,
      "justify_content": null,
      "justify_items": null,
      "left": null,
      "margin": null,
      "max_height": null,
      "max_width": null,
      "min_height": null,
      "min_width": null,
      "object_fit": null,
      "object_position": null,
      "order": null,
      "overflow": null,
      "overflow_x": null,
      "overflow_y": null,
      "padding": null,
      "right": null,
      "top": null,
      "visibility": null,
      "width": null
     }
    },
    "0b48d530d0a5458eb7ae8e4e52a59bbc": {
     "model_module": "@jupyter-widgets/controls",
     "model_module_version": "1.5.0",
     "model_name": "HTMLModel",
     "state": {
      "_dom_classes": [],
      "_model_module": "@jupyter-widgets/controls",
      "_model_module_version": "1.5.0",
      "_model_name": "HTMLModel",
      "_view_count": null,
      "_view_module": "@jupyter-widgets/controls",
      "_view_module_version": "1.5.0",
      "_view_name": "HTMLView",
      "description": "",
      "description_tooltip": null,
      "layout": "IPY_MODEL_7b1b5fe555cd4520b9c06879af0d71f5",
      "placeholder": "​",
      "style": "IPY_MODEL_1bbdbafb79d04e4bbf1d3f02f2a17bb4",
      "value": " 115/160 [00:00&lt;00:00, 326.96it/s]"
     }
    },
    "13ec369918be42cda2f6a8f18fc0278e": {
     "model_module": "@jupyter-widgets/controls",
     "model_module_version": "1.5.0",
     "model_name": "HTMLModel",
     "state": {
      "_dom_classes": [],
      "_model_module": "@jupyter-widgets/controls",
      "_model_module_version": "1.5.0",
      "_model_name": "HTMLModel",
      "_view_count": null,
      "_view_module": "@jupyter-widgets/controls",
      "_view_module_version": "1.5.0",
      "_view_name": "HTMLView",
      "description": "",
      "description_tooltip": null,
      "layout": "IPY_MODEL_5914e4f51ec8467384af297228c6acb4",
      "placeholder": "​",
      "style": "IPY_MODEL_b0601c84e6534a73896abe1af60b1d95",
      "value": " 604/642 [00:01&lt;00:00, 487.03it/s]"
     }
    },
    "1b7b1f35826f47c5a2d44031f885a651": {
     "model_module": "@jupyter-widgets/controls",
     "model_module_version": "1.5.0",
     "model_name": "HBoxModel",
     "state": {
      "_dom_classes": [],
      "_model_module": "@jupyter-widgets/controls",
      "_model_module_version": "1.5.0",
      "_model_name": "HBoxModel",
      "_view_count": null,
      "_view_module": "@jupyter-widgets/controls",
      "_view_module_version": "1.5.0",
      "_view_name": "HBoxView",
      "box_style": "",
      "children": [
       "IPY_MODEL_9e5528c9f15b40e0b8722e38201d08a7",
       "IPY_MODEL_6912f3a8407a4f268f18a4d91322b04f",
       "IPY_MODEL_ea000c1511f94d4daa9e37caac4305d9"
      ],
      "layout": "IPY_MODEL_65f72bef1395451a819eac329c6b9e27"
     }
    },
    "1bbdbafb79d04e4bbf1d3f02f2a17bb4": {
     "model_module": "@jupyter-widgets/controls",
     "model_module_version": "1.5.0",
     "model_name": "DescriptionStyleModel",
     "state": {
      "_model_module": "@jupyter-widgets/controls",
      "_model_module_version": "1.5.0",
      "_model_name": "DescriptionStyleModel",
      "_view_count": null,
      "_view_module": "@jupyter-widgets/base",
      "_view_module_version": "1.2.0",
      "_view_name": "StyleView",
      "description_width": ""
     }
    },
    "1ef1b109b6284631ab4b637ab30806b9": {
     "model_module": "@jupyter-widgets/controls",
     "model_module_version": "1.5.0",
     "model_name": "DescriptionStyleModel",
     "state": {
      "_model_module": "@jupyter-widgets/controls",
      "_model_module_version": "1.5.0",
      "_model_name": "DescriptionStyleModel",
      "_view_count": null,
      "_view_module": "@jupyter-widgets/base",
      "_view_module_version": "1.2.0",
      "_view_name": "StyleView",
      "description_width": ""
     }
    },
    "22abd5d91a364a67a8d42a7e492f9108": {
     "model_module": "@jupyter-widgets/controls",
     "model_module_version": "1.5.0",
     "model_name": "ProgressStyleModel",
     "state": {
      "_model_module": "@jupyter-widgets/controls",
      "_model_module_version": "1.5.0",
      "_model_name": "ProgressStyleModel",
      "_view_count": null,
      "_view_module": "@jupyter-widgets/base",
      "_view_module_version": "1.2.0",
      "_view_name": "StyleView",
      "bar_color": null,
      "description_width": ""
     }
    },
    "279eedd2744f4e7691ed7cbc901fab19": {
     "model_module": "@jupyter-widgets/controls",
     "model_module_version": "1.5.0",
     "model_name": "ProgressStyleModel",
     "state": {
      "_model_module": "@jupyter-widgets/controls",
      "_model_module_version": "1.5.0",
      "_model_name": "ProgressStyleModel",
      "_view_count": null,
      "_view_module": "@jupyter-widgets/base",
      "_view_module_version": "1.2.0",
      "_view_name": "StyleView",
      "bar_color": null,
      "description_width": ""
     }
    },
    "31a00cc8eec24781ab64e20400d38b28": {
     "model_module": "@jupyter-widgets/base",
     "model_module_version": "1.2.0",
     "model_name": "LayoutModel",
     "state": {
      "_model_module": "@jupyter-widgets/base",
      "_model_module_version": "1.2.0",
      "_model_name": "LayoutModel",
      "_view_count": null,
      "_view_module": "@jupyter-widgets/base",
      "_view_module_version": "1.2.0",
      "_view_name": "LayoutView",
      "align_content": null,
      "align_items": null,
      "align_self": null,
      "border": null,
      "bottom": null,
      "display": null,
      "flex": null,
      "flex_flow": null,
      "grid_area": null,
      "grid_auto_columns": null,
      "grid_auto_flow": null,
      "grid_auto_rows": null,
      "grid_column": null,
      "grid_gap": null,
      "grid_row": null,
      "grid_template_areas": null,
      "grid_template_columns": null,
      "grid_template_rows": null,
      "height": null,
      "justify_content": null,
      "justify_items": null,
      "left": null,
      "margin": null,
      "max_height": null,
      "max_width": null,
      "min_height": null,
      "min_width": null,
      "object_fit": null,
      "object_position": null,
      "order": null,
      "overflow": null,
      "overflow_x": null,
      "overflow_y": null,
      "padding": null,
      "right": null,
      "top": null,
      "visibility": null,
      "width": null
     }
    },
    "34d799d7dbbf4f08852cf59c9090bdfc": {
     "model_module": "@jupyter-widgets/base",
     "model_module_version": "1.2.0",
     "model_name": "LayoutModel",
     "state": {
      "_model_module": "@jupyter-widgets/base",
      "_model_module_version": "1.2.0",
      "_model_name": "LayoutModel",
      "_view_count": null,
      "_view_module": "@jupyter-widgets/base",
      "_view_module_version": "1.2.0",
      "_view_name": "LayoutView",
      "align_content": null,
      "align_items": null,
      "align_self": null,
      "border": null,
      "bottom": null,
      "display": null,
      "flex": null,
      "flex_flow": null,
      "grid_area": null,
      "grid_auto_columns": null,
      "grid_auto_flow": null,
      "grid_auto_rows": null,
      "grid_column": null,
      "grid_gap": null,
      "grid_row": null,
      "grid_template_areas": null,
      "grid_template_columns": null,
      "grid_template_rows": null,
      "height": null,
      "justify_content": null,
      "justify_items": null,
      "left": null,
      "margin": null,
      "max_height": null,
      "max_width": null,
      "min_height": null,
      "min_width": null,
      "object_fit": null,
      "object_position": null,
      "order": null,
      "overflow": null,
      "overflow_x": null,
      "overflow_y": null,
      "padding": null,
      "right": null,
      "top": null,
      "visibility": null,
      "width": null
     }
    },
    "46bf4603fd364f918671b15ec8d11d6f": {
     "model_module": "@jupyter-widgets/base",
     "model_module_version": "1.2.0",
     "model_name": "LayoutModel",
     "state": {
      "_model_module": "@jupyter-widgets/base",
      "_model_module_version": "1.2.0",
      "_model_name": "LayoutModel",
      "_view_count": null,
      "_view_module": "@jupyter-widgets/base",
      "_view_module_version": "1.2.0",
      "_view_name": "LayoutView",
      "align_content": null,
      "align_items": null,
      "align_self": null,
      "border": null,
      "bottom": null,
      "display": null,
      "flex": null,
      "flex_flow": null,
      "grid_area": null,
      "grid_auto_columns": null,
      "grid_auto_flow": null,
      "grid_auto_rows": null,
      "grid_column": null,
      "grid_gap": null,
      "grid_row": null,
      "grid_template_areas": null,
      "grid_template_columns": null,
      "grid_template_rows": null,
      "height": null,
      "justify_content": null,
      "justify_items": null,
      "left": null,
      "margin": null,
      "max_height": null,
      "max_width": null,
      "min_height": null,
      "min_width": null,
      "object_fit": null,
      "object_position": null,
      "order": null,
      "overflow": null,
      "overflow_x": null,
      "overflow_y": null,
      "padding": null,
      "right": null,
      "top": null,
      "visibility": null,
      "width": null
     }
    },
    "51b0809a21df43d0ba272ce2cd269fc5": {
     "model_module": "@jupyter-widgets/base",
     "model_module_version": "1.2.0",
     "model_name": "LayoutModel",
     "state": {
      "_model_module": "@jupyter-widgets/base",
      "_model_module_version": "1.2.0",
      "_model_name": "LayoutModel",
      "_view_count": null,
      "_view_module": "@jupyter-widgets/base",
      "_view_module_version": "1.2.0",
      "_view_name": "LayoutView",
      "align_content": null,
      "align_items": null,
      "align_self": null,
      "border": null,
      "bottom": null,
      "display": null,
      "flex": null,
      "flex_flow": null,
      "grid_area": null,
      "grid_auto_columns": null,
      "grid_auto_flow": null,
      "grid_auto_rows": null,
      "grid_column": null,
      "grid_gap": null,
      "grid_row": null,
      "grid_template_areas": null,
      "grid_template_columns": null,
      "grid_template_rows": null,
      "height": null,
      "justify_content": null,
      "justify_items": null,
      "left": null,
      "margin": null,
      "max_height": null,
      "max_width": null,
      "min_height": null,
      "min_width": null,
      "object_fit": null,
      "object_position": null,
      "order": null,
      "overflow": null,
      "overflow_x": null,
      "overflow_y": null,
      "padding": null,
      "right": null,
      "top": null,
      "visibility": null,
      "width": null
     }
    },
    "54595a60911c42cea6ae7aa87e71dfaf": {
     "model_module": "@jupyter-widgets/controls",
     "model_module_version": "1.5.0",
     "model_name": "DescriptionStyleModel",
     "state": {
      "_model_module": "@jupyter-widgets/controls",
      "_model_module_version": "1.5.0",
      "_model_name": "DescriptionStyleModel",
      "_view_count": null,
      "_view_module": "@jupyter-widgets/base",
      "_view_module_version": "1.2.0",
      "_view_name": "StyleView",
      "description_width": ""
     }
    },
    "57e41341e41f40cab6beb61263352d89": {
     "model_module": "@jupyter-widgets/base",
     "model_module_version": "1.2.0",
     "model_name": "LayoutModel",
     "state": {
      "_model_module": "@jupyter-widgets/base",
      "_model_module_version": "1.2.0",
      "_model_name": "LayoutModel",
      "_view_count": null,
      "_view_module": "@jupyter-widgets/base",
      "_view_module_version": "1.2.0",
      "_view_name": "LayoutView",
      "align_content": null,
      "align_items": null,
      "align_self": null,
      "border": null,
      "bottom": null,
      "display": null,
      "flex": null,
      "flex_flow": null,
      "grid_area": null,
      "grid_auto_columns": null,
      "grid_auto_flow": null,
      "grid_auto_rows": null,
      "grid_column": null,
      "grid_gap": null,
      "grid_row": null,
      "grid_template_areas": null,
      "grid_template_columns": null,
      "grid_template_rows": null,
      "height": null,
      "justify_content": null,
      "justify_items": null,
      "left": null,
      "margin": null,
      "max_height": null,
      "max_width": null,
      "min_height": null,
      "min_width": null,
      "object_fit": null,
      "object_position": null,
      "order": null,
      "overflow": null,
      "overflow_x": null,
      "overflow_y": null,
      "padding": null,
      "right": null,
      "top": null,
      "visibility": null,
      "width": null
     }
    },
    "5914e4f51ec8467384af297228c6acb4": {
     "model_module": "@jupyter-widgets/base",
     "model_module_version": "1.2.0",
     "model_name": "LayoutModel",
     "state": {
      "_model_module": "@jupyter-widgets/base",
      "_model_module_version": "1.2.0",
      "_model_name": "LayoutModel",
      "_view_count": null,
      "_view_module": "@jupyter-widgets/base",
      "_view_module_version": "1.2.0",
      "_view_name": "LayoutView",
      "align_content": null,
      "align_items": null,
      "align_self": null,
      "border": null,
      "bottom": null,
      "display": null,
      "flex": null,
      "flex_flow": null,
      "grid_area": null,
      "grid_auto_columns": null,
      "grid_auto_flow": null,
      "grid_auto_rows": null,
      "grid_column": null,
      "grid_gap": null,
      "grid_row": null,
      "grid_template_areas": null,
      "grid_template_columns": null,
      "grid_template_rows": null,
      "height": null,
      "justify_content": null,
      "justify_items": null,
      "left": null,
      "margin": null,
      "max_height": null,
      "max_width": null,
      "min_height": null,
      "min_width": null,
      "object_fit": null,
      "object_position": null,
      "order": null,
      "overflow": null,
      "overflow_x": null,
      "overflow_y": null,
      "padding": null,
      "right": null,
      "top": null,
      "visibility": null,
      "width": null
     }
    },
    "5cfe620306244ffa8b1531d44f8a9893": {
     "model_module": "@jupyter-widgets/controls",
     "model_module_version": "1.5.0",
     "model_name": "HTMLModel",
     "state": {
      "_dom_classes": [],
      "_model_module": "@jupyter-widgets/controls",
      "_model_module_version": "1.5.0",
      "_model_name": "HTMLModel",
      "_view_count": null,
      "_view_module": "@jupyter-widgets/controls",
      "_view_module_version": "1.5.0",
      "_view_name": "HTMLView",
      "description": "",
      "description_tooltip": null,
      "layout": "IPY_MODEL_629a436fd34847f9a40ebab80bc199c3",
      "placeholder": "​",
      "style": "IPY_MODEL_f841c74b17a1454ca83306405be95fb8",
      "value": " 86%"
     }
    },
    "5f23749c3a804fd689b4a08746452b07": {
     "model_module": "@jupyter-widgets/controls",
     "model_module_version": "1.5.0",
     "model_name": "HTMLModel",
     "state": {
      "_dom_classes": [],
      "_model_module": "@jupyter-widgets/controls",
      "_model_module_version": "1.5.0",
      "_model_name": "HTMLModel",
      "_view_count": null,
      "_view_module": "@jupyter-widgets/controls",
      "_view_module_version": "1.5.0",
      "_view_name": "HTMLView",
      "description": "",
      "description_tooltip": null,
      "layout": "IPY_MODEL_b8cf6ab9c2934d7fa8574ebd6694e30e",
      "placeholder": "​",
      "style": "IPY_MODEL_d9cf785918c9499a8c976265a85e7f03",
      "value": " 72%"
     }
    },
    "611d350009de4e68be1585ed07ac9c8c": {
     "model_module": "@jupyter-widgets/controls",
     "model_module_version": "1.5.0",
     "model_name": "HTMLModel",
     "state": {
      "_dom_classes": [],
      "_model_module": "@jupyter-widgets/controls",
      "_model_module_version": "1.5.0",
      "_model_name": "HTMLModel",
      "_view_count": null,
      "_view_module": "@jupyter-widgets/controls",
      "_view_module_version": "1.5.0",
      "_view_name": "HTMLView",
      "description": "",
      "description_tooltip": null,
      "layout": "IPY_MODEL_34d799d7dbbf4f08852cf59c9090bdfc",
      "placeholder": "​",
      "style": "IPY_MODEL_98f8436c2a614d81b6fa8de0ce236e9a",
      "value": " 69/80 [00:00&lt;00:00, 370.04it/s]"
     }
    },
    "629a436fd34847f9a40ebab80bc199c3": {
     "model_module": "@jupyter-widgets/base",
     "model_module_version": "1.2.0",
     "model_name": "LayoutModel",
     "state": {
      "_model_module": "@jupyter-widgets/base",
      "_model_module_version": "1.2.0",
      "_model_name": "LayoutModel",
      "_view_count": null,
      "_view_module": "@jupyter-widgets/base",
      "_view_module_version": "1.2.0",
      "_view_name": "LayoutView",
      "align_content": null,
      "align_items": null,
      "align_self": null,
      "border": null,
      "bottom": null,
      "display": null,
      "flex": null,
      "flex_flow": null,
      "grid_area": null,
      "grid_auto_columns": null,
      "grid_auto_flow": null,
      "grid_auto_rows": null,
      "grid_column": null,
      "grid_gap": null,
      "grid_row": null,
      "grid_template_areas": null,
      "grid_template_columns": null,
      "grid_template_rows": null,
      "height": null,
      "justify_content": null,
      "justify_items": null,
      "left": null,
      "margin": null,
      "max_height": null,
      "max_width": null,
      "min_height": null,
      "min_width": null,
      "object_fit": null,
      "object_position": null,
      "order": null,
      "overflow": null,
      "overflow_x": null,
      "overflow_y": null,
      "padding": null,
      "right": null,
      "top": null,
      "visibility": null,
      "width": null
     }
    },
    "65f72bef1395451a819eac329c6b9e27": {
     "model_module": "@jupyter-widgets/base",
     "model_module_version": "1.2.0",
     "model_name": "LayoutModel",
     "state": {
      "_model_module": "@jupyter-widgets/base",
      "_model_module_version": "1.2.0",
      "_model_name": "LayoutModel",
      "_view_count": null,
      "_view_module": "@jupyter-widgets/base",
      "_view_module_version": "1.2.0",
      "_view_name": "LayoutView",
      "align_content": null,
      "align_items": null,
      "align_self": null,
      "border": null,
      "bottom": null,
      "display": null,
      "flex": null,
      "flex_flow": null,
      "grid_area": null,
      "grid_auto_columns": null,
      "grid_auto_flow": null,
      "grid_auto_rows": null,
      "grid_column": null,
      "grid_gap": null,
      "grid_row": null,
      "grid_template_areas": null,
      "grid_template_columns": null,
      "grid_template_rows": null,
      "height": null,
      "justify_content": null,
      "justify_items": null,
      "left": null,
      "margin": null,
      "max_height": null,
      "max_width": null,
      "min_height": null,
      "min_width": null,
      "object_fit": null,
      "object_position": null,
      "order": null,
      "overflow": null,
      "overflow_x": null,
      "overflow_y": null,
      "padding": null,
      "right": null,
      "top": null,
      "visibility": null,
      "width": null
     }
    },
    "6912f3a8407a4f268f18a4d91322b04f": {
     "model_module": "@jupyter-widgets/controls",
     "model_module_version": "1.5.0",
     "model_name": "FloatProgressModel",
     "state": {
      "_dom_classes": [],
      "_model_module": "@jupyter-widgets/controls",
      "_model_module_version": "1.5.0",
      "_model_name": "FloatProgressModel",
      "_view_count": null,
      "_view_module": "@jupyter-widgets/controls",
      "_view_module_version": "1.5.0",
      "_view_name": "ProgressView",
      "bar_style": "",
      "description": "",
      "description_tooltip": null,
      "layout": "IPY_MODEL_31a00cc8eec24781ab64e20400d38b28",
      "max": 638,
      "min": 0,
      "orientation": "horizontal",
      "style": "IPY_MODEL_22abd5d91a364a67a8d42a7e492f9108",
      "value": 638
     }
    },
    "69cf84d420d64dbdacf4b54a1019190b": {
     "model_module": "@jupyter-widgets/base",
     "model_module_version": "1.2.0",
     "model_name": "LayoutModel",
     "state": {
      "_model_module": "@jupyter-widgets/base",
      "_model_module_version": "1.2.0",
      "_model_name": "LayoutModel",
      "_view_count": null,
      "_view_module": "@jupyter-widgets/base",
      "_view_module_version": "1.2.0",
      "_view_name": "LayoutView",
      "align_content": null,
      "align_items": null,
      "align_self": null,
      "border": null,
      "bottom": null,
      "display": null,
      "flex": null,
      "flex_flow": null,
      "grid_area": null,
      "grid_auto_columns": null,
      "grid_auto_flow": null,
      "grid_auto_rows": null,
      "grid_column": null,
      "grid_gap": null,
      "grid_row": null,
      "grid_template_areas": null,
      "grid_template_columns": null,
      "grid_template_rows": null,
      "height": null,
      "justify_content": null,
      "justify_items": null,
      "left": null,
      "margin": null,
      "max_height": null,
      "max_width": null,
      "min_height": null,
      "min_width": null,
      "object_fit": null,
      "object_position": null,
      "order": null,
      "overflow": null,
      "overflow_x": null,
      "overflow_y": null,
      "padding": null,
      "right": null,
      "top": null,
      "visibility": null,
      "width": null
     }
    },
    "74ad165042d64fbeb1b3492daa1f8f86": {
     "model_module": "@jupyter-widgets/controls",
     "model_module_version": "1.5.0",
     "model_name": "HTMLModel",
     "state": {
      "_dom_classes": [],
      "_model_module": "@jupyter-widgets/controls",
      "_model_module_version": "1.5.0",
      "_model_name": "HTMLModel",
      "_view_count": null,
      "_view_module": "@jupyter-widgets/controls",
      "_view_module_version": "1.5.0",
      "_view_name": "HTMLView",
      "description": "",
      "description_tooltip": null,
      "layout": "IPY_MODEL_99ca915e7e4f4a43a5afbad36398b295",
      "placeholder": "​",
      "style": "IPY_MODEL_54595a60911c42cea6ae7aa87e71dfaf",
      "value": " 65%"
     }
    },
    "7b1b5fe555cd4520b9c06879af0d71f5": {
     "model_module": "@jupyter-widgets/base",
     "model_module_version": "1.2.0",
     "model_name": "LayoutModel",
     "state": {
      "_model_module": "@jupyter-widgets/base",
      "_model_module_version": "1.2.0",
      "_model_name": "LayoutModel",
      "_view_count": null,
      "_view_module": "@jupyter-widgets/base",
      "_view_module_version": "1.2.0",
      "_view_name": "LayoutView",
      "align_content": null,
      "align_items": null,
      "align_self": null,
      "border": null,
      "bottom": null,
      "display": null,
      "flex": null,
      "flex_flow": null,
      "grid_area": null,
      "grid_auto_columns": null,
      "grid_auto_flow": null,
      "grid_auto_rows": null,
      "grid_column": null,
      "grid_gap": null,
      "grid_row": null,
      "grid_template_areas": null,
      "grid_template_columns": null,
      "grid_template_rows": null,
      "height": null,
      "justify_content": null,
      "justify_items": null,
      "left": null,
      "margin": null,
      "max_height": null,
      "max_width": null,
      "min_height": null,
      "min_width": null,
      "object_fit": null,
      "object_position": null,
      "order": null,
      "overflow": null,
      "overflow_x": null,
      "overflow_y": null,
      "padding": null,
      "right": null,
      "top": null,
      "visibility": null,
      "width": null
     }
    },
    "7e1bc277eb3f40fc8a6a05b5bedc5f8d": {
     "model_module": "@jupyter-widgets/controls",
     "model_module_version": "1.5.0",
     "model_name": "DescriptionStyleModel",
     "state": {
      "_model_module": "@jupyter-widgets/controls",
      "_model_module_version": "1.5.0",
      "_model_name": "DescriptionStyleModel",
      "_view_count": null,
      "_view_module": "@jupyter-widgets/base",
      "_view_module_version": "1.2.0",
      "_view_name": "StyleView",
      "description_width": ""
     }
    },
    "84c6ba6d884d4e368a7c4914b5ef4f87": {
     "model_module": "@jupyter-widgets/base",
     "model_module_version": "1.2.0",
     "model_name": "LayoutModel",
     "state": {
      "_model_module": "@jupyter-widgets/base",
      "_model_module_version": "1.2.0",
      "_model_name": "LayoutModel",
      "_view_count": null,
      "_view_module": "@jupyter-widgets/base",
      "_view_module_version": "1.2.0",
      "_view_name": "LayoutView",
      "align_content": null,
      "align_items": null,
      "align_self": null,
      "border": null,
      "bottom": null,
      "display": null,
      "flex": null,
      "flex_flow": null,
      "grid_area": null,
      "grid_auto_columns": null,
      "grid_auto_flow": null,
      "grid_auto_rows": null,
      "grid_column": null,
      "grid_gap": null,
      "grid_row": null,
      "grid_template_areas": null,
      "grid_template_columns": null,
      "grid_template_rows": null,
      "height": null,
      "justify_content": null,
      "justify_items": null,
      "left": null,
      "margin": null,
      "max_height": null,
      "max_width": null,
      "min_height": null,
      "min_width": null,
      "object_fit": null,
      "object_position": null,
      "order": null,
      "overflow": null,
      "overflow_x": null,
      "overflow_y": null,
      "padding": null,
      "right": null,
      "top": null,
      "visibility": null,
      "width": null
     }
    },
    "87dbf60d0ee64e26abdfa6fa608d7677": {
     "model_module": "@jupyter-widgets/controls",
     "model_module_version": "1.5.0",
     "model_name": "HTMLModel",
     "state": {
      "_dom_classes": [],
      "_model_module": "@jupyter-widgets/controls",
      "_model_module_version": "1.5.0",
      "_model_name": "HTMLModel",
      "_view_count": null,
      "_view_module": "@jupyter-widgets/controls",
      "_view_module_version": "1.5.0",
      "_view_name": "HTMLView",
      "description": "",
      "description_tooltip": null,
      "layout": "IPY_MODEL_8aef0e1b92a2496d80d072720faa6561",
      "placeholder": "​",
      "style": "IPY_MODEL_c8b0f26feb8a4b88beb13eb5912adeb9",
      "value": " 94%"
     }
    },
    "88f59b351c4e4eca8aaa39a17974652f": {
     "model_module": "@jupyter-widgets/controls",
     "model_module_version": "1.5.0",
     "model_name": "HTMLModel",
     "state": {
      "_dom_classes": [],
      "_model_module": "@jupyter-widgets/controls",
      "_model_module_version": "1.5.0",
      "_model_name": "HTMLModel",
      "_view_count": null,
      "_view_module": "@jupyter-widgets/controls",
      "_view_module_version": "1.5.0",
      "_view_name": "HTMLView",
      "description": "",
      "description_tooltip": null,
      "layout": "IPY_MODEL_0a9ecaebd3be4e43aa322577045018e6",
      "placeholder": "​",
      "style": "IPY_MODEL_1ef1b109b6284631ab4b637ab30806b9",
      "value": " 52/80 [00:00&lt;00:00, 274.96it/s]"
     }
    },
    "8aef0e1b92a2496d80d072720faa6561": {
     "model_module": "@jupyter-widgets/base",
     "model_module_version": "1.2.0",
     "model_name": "LayoutModel",
     "state": {
      "_model_module": "@jupyter-widgets/base",
      "_model_module_version": "1.2.0",
      "_model_name": "LayoutModel",
      "_view_count": null,
      "_view_module": "@jupyter-widgets/base",
      "_view_module_version": "1.2.0",
      "_view_name": "LayoutView",
      "align_content": null,
      "align_items": null,
      "align_self": null,
      "border": null,
      "bottom": null,
      "display": null,
      "flex": null,
      "flex_flow": null,
      "grid_area": null,
      "grid_auto_columns": null,
      "grid_auto_flow": null,
      "grid_auto_rows": null,
      "grid_column": null,
      "grid_gap": null,
      "grid_row": null,
      "grid_template_areas": null,
      "grid_template_columns": null,
      "grid_template_rows": null,
      "height": null,
      "justify_content": null,
      "justify_items": null,
      "left": null,
      "margin": null,
      "max_height": null,
      "max_width": null,
      "min_height": null,
      "min_width": null,
      "object_fit": null,
      "object_position": null,
      "order": null,
      "overflow": null,
      "overflow_x": null,
      "overflow_y": null,
      "padding": null,
      "right": null,
      "top": null,
      "visibility": null,
      "width": null
     }
    },
    "98f8436c2a614d81b6fa8de0ce236e9a": {
     "model_module": "@jupyter-widgets/controls",
     "model_module_version": "1.5.0",
     "model_name": "DescriptionStyleModel",
     "state": {
      "_model_module": "@jupyter-widgets/controls",
      "_model_module_version": "1.5.0",
      "_model_name": "DescriptionStyleModel",
      "_view_count": null,
      "_view_module": "@jupyter-widgets/base",
      "_view_module_version": "1.2.0",
      "_view_name": "StyleView",
      "description_width": ""
     }
    },
    "9963f4045e4c4c66bbdf948d4f17f35a": {
     "model_module": "@jupyter-widgets/controls",
     "model_module_version": "1.5.0",
     "model_name": "ProgressStyleModel",
     "state": {
      "_model_module": "@jupyter-widgets/controls",
      "_model_module_version": "1.5.0",
      "_model_name": "ProgressStyleModel",
      "_view_count": null,
      "_view_module": "@jupyter-widgets/base",
      "_view_module_version": "1.2.0",
      "_view_name": "StyleView",
      "bar_color": null,
      "description_width": ""
     }
    },
    "99ca915e7e4f4a43a5afbad36398b295": {
     "model_module": "@jupyter-widgets/base",
     "model_module_version": "1.2.0",
     "model_name": "LayoutModel",
     "state": {
      "_model_module": "@jupyter-widgets/base",
      "_model_module_version": "1.2.0",
      "_model_name": "LayoutModel",
      "_view_count": null,
      "_view_module": "@jupyter-widgets/base",
      "_view_module_version": "1.2.0",
      "_view_name": "LayoutView",
      "align_content": null,
      "align_items": null,
      "align_self": null,
      "border": null,
      "bottom": null,
      "display": null,
      "flex": null,
      "flex_flow": null,
      "grid_area": null,
      "grid_auto_columns": null,
      "grid_auto_flow": null,
      "grid_auto_rows": null,
      "grid_column": null,
      "grid_gap": null,
      "grid_row": null,
      "grid_template_areas": null,
      "grid_template_columns": null,
      "grid_template_rows": null,
      "height": null,
      "justify_content": null,
      "justify_items": null,
      "left": null,
      "margin": null,
      "max_height": null,
      "max_width": null,
      "min_height": null,
      "min_width": null,
      "object_fit": null,
      "object_position": null,
      "order": null,
      "overflow": null,
      "overflow_x": null,
      "overflow_y": null,
      "padding": null,
      "right": null,
      "top": null,
      "visibility": null,
      "width": null
     }
    },
    "9e5528c9f15b40e0b8722e38201d08a7": {
     "model_module": "@jupyter-widgets/controls",
     "model_module_version": "1.5.0",
     "model_name": "HTMLModel",
     "state": {
      "_dom_classes": [],
      "_model_module": "@jupyter-widgets/controls",
      "_model_module_version": "1.5.0",
      "_model_name": "HTMLModel",
      "_view_count": null,
      "_view_module": "@jupyter-widgets/controls",
      "_view_module_version": "1.5.0",
      "_view_name": "HTMLView",
      "description": "",
      "description_tooltip": null,
      "layout": "IPY_MODEL_57e41341e41f40cab6beb61263352d89",
      "placeholder": "​",
      "style": "IPY_MODEL_0765380ccb9a4f8e953cbf3621fbdb2d",
      "value": " 93%"
     }
    },
    "a704a0344e7f4dacbc9aac2aab34571e": {
     "model_module": "@jupyter-widgets/controls",
     "model_module_version": "1.5.0",
     "model_name": "ProgressStyleModel",
     "state": {
      "_model_module": "@jupyter-widgets/controls",
      "_model_module_version": "1.5.0",
      "_model_name": "ProgressStyleModel",
      "_view_count": null,
      "_view_module": "@jupyter-widgets/base",
      "_view_module_version": "1.2.0",
      "_view_name": "StyleView",
      "bar_color": null,
      "description_width": ""
     }
    },
    "ab03a1b409da405e8adfaf9eb2f87e6f": {
     "model_module": "@jupyter-widgets/controls",
     "model_module_version": "1.5.0",
     "model_name": "FloatProgressModel",
     "state": {
      "_dom_classes": [],
      "_model_module": "@jupyter-widgets/controls",
      "_model_module_version": "1.5.0",
      "_model_name": "FloatProgressModel",
      "_view_count": null,
      "_view_module": "@jupyter-widgets/controls",
      "_view_module_version": "1.5.0",
      "_view_name": "ProgressView",
      "bar_style": "",
      "description": "",
      "description_tooltip": null,
      "layout": "IPY_MODEL_84c6ba6d884d4e368a7c4914b5ef4f87",
      "max": 642,
      "min": 0,
      "orientation": "horizontal",
      "style": "IPY_MODEL_a704a0344e7f4dacbc9aac2aab34571e",
      "value": 642
     }
    },
    "b0601c84e6534a73896abe1af60b1d95": {
     "model_module": "@jupyter-widgets/controls",
     "model_module_version": "1.5.0",
     "model_name": "DescriptionStyleModel",
     "state": {
      "_model_module": "@jupyter-widgets/controls",
      "_model_module_version": "1.5.0",
      "_model_name": "DescriptionStyleModel",
      "_view_count": null,
      "_view_module": "@jupyter-widgets/base",
      "_view_module_version": "1.2.0",
      "_view_name": "StyleView",
      "description_width": ""
     }
    },
    "b07dc11eeab9481586926466e83d3c2d": {
     "model_module": "@jupyter-widgets/controls",
     "model_module_version": "1.5.0",
     "model_name": "ProgressStyleModel",
     "state": {
      "_model_module": "@jupyter-widgets/controls",
      "_model_module_version": "1.5.0",
      "_model_name": "ProgressStyleModel",
      "_view_count": null,
      "_view_module": "@jupyter-widgets/base",
      "_view_module_version": "1.2.0",
      "_view_name": "StyleView",
      "bar_color": null,
      "description_width": ""
     }
    },
    "b575381a262249b7a17d9b4cb728688f": {
     "model_module": "@jupyter-widgets/controls",
     "model_module_version": "1.5.0",
     "model_name": "FloatProgressModel",
     "state": {
      "_dom_classes": [],
      "_model_module": "@jupyter-widgets/controls",
      "_model_module_version": "1.5.0",
      "_model_name": "FloatProgressModel",
      "_view_count": null,
      "_view_module": "@jupyter-widgets/controls",
      "_view_module_version": "1.5.0",
      "_view_name": "ProgressView",
      "bar_style": "",
      "description": "",
      "description_tooltip": null,
      "layout": "IPY_MODEL_e9e6a865ddad4695b00ad819cb5970fc",
      "max": 160,
      "min": 0,
      "orientation": "horizontal",
      "style": "IPY_MODEL_279eedd2744f4e7691ed7cbc901fab19",
      "value": 160
     }
    },
    "b8cf6ab9c2934d7fa8574ebd6694e30e": {
     "model_module": "@jupyter-widgets/base",
     "model_module_version": "1.2.0",
     "model_name": "LayoutModel",
     "state": {
      "_model_module": "@jupyter-widgets/base",
      "_model_module_version": "1.2.0",
      "_model_name": "LayoutModel",
      "_view_count": null,
      "_view_module": "@jupyter-widgets/base",
      "_view_module_version": "1.2.0",
      "_view_name": "LayoutView",
      "align_content": null,
      "align_items": null,
      "align_self": null,
      "border": null,
      "bottom": null,
      "display": null,
      "flex": null,
      "flex_flow": null,
      "grid_area": null,
      "grid_auto_columns": null,
      "grid_auto_flow": null,
      "grid_auto_rows": null,
      "grid_column": null,
      "grid_gap": null,
      "grid_row": null,
      "grid_template_areas": null,
      "grid_template_columns": null,
      "grid_template_rows": null,
      "height": null,
      "justify_content": null,
      "justify_items": null,
      "left": null,
      "margin": null,
      "max_height": null,
      "max_width": null,
      "min_height": null,
      "min_width": null,
      "object_fit": null,
      "object_position": null,
      "order": null,
      "overflow": null,
      "overflow_x": null,
      "overflow_y": null,
      "padding": null,
      "right": null,
      "top": null,
      "visibility": null,
      "width": null
     }
    },
    "bc38bf5839864d14a7676d575a70613a": {
     "model_module": "@jupyter-widgets/base",
     "model_module_version": "1.2.0",
     "model_name": "LayoutModel",
     "state": {
      "_model_module": "@jupyter-widgets/base",
      "_model_module_version": "1.2.0",
      "_model_name": "LayoutModel",
      "_view_count": null,
      "_view_module": "@jupyter-widgets/base",
      "_view_module_version": "1.2.0",
      "_view_name": "LayoutView",
      "align_content": null,
      "align_items": null,
      "align_self": null,
      "border": null,
      "bottom": null,
      "display": null,
      "flex": null,
      "flex_flow": null,
      "grid_area": null,
      "grid_auto_columns": null,
      "grid_auto_flow": null,
      "grid_auto_rows": null,
      "grid_column": null,
      "grid_gap": null,
      "grid_row": null,
      "grid_template_areas": null,
      "grid_template_columns": null,
      "grid_template_rows": null,
      "height": null,
      "justify_content": null,
      "justify_items": null,
      "left": null,
      "margin": null,
      "max_height": null,
      "max_width": null,
      "min_height": null,
      "min_width": null,
      "object_fit": null,
      "object_position": null,
      "order": null,
      "overflow": null,
      "overflow_x": null,
      "overflow_y": null,
      "padding": null,
      "right": null,
      "top": null,
      "visibility": null,
      "width": null
     }
    },
    "bde331aa983c43c3a0c79cad108668e0": {
     "model_module": "@jupyter-widgets/controls",
     "model_module_version": "1.5.0",
     "model_name": "HBoxModel",
     "state": {
      "_dom_classes": [],
      "_model_module": "@jupyter-widgets/controls",
      "_model_module_version": "1.5.0",
      "_model_name": "HBoxModel",
      "_view_count": null,
      "_view_module": "@jupyter-widgets/controls",
      "_view_module_version": "1.5.0",
      "_view_name": "HBoxView",
      "box_style": "",
      "children": [
       "IPY_MODEL_87dbf60d0ee64e26abdfa6fa608d7677",
       "IPY_MODEL_ab03a1b409da405e8adfaf9eb2f87e6f",
       "IPY_MODEL_13ec369918be42cda2f6a8f18fc0278e"
      ],
      "layout": "IPY_MODEL_082728dc9df046d4af410d62f7916c2a"
     }
    },
    "c46fe72d5f5c4dedac436951aa4177dc": {
     "model_module": "@jupyter-widgets/controls",
     "model_module_version": "1.5.0",
     "model_name": "FloatProgressModel",
     "state": {
      "_dom_classes": [],
      "_model_module": "@jupyter-widgets/controls",
      "_model_module_version": "1.5.0",
      "_model_name": "FloatProgressModel",
      "_view_count": null,
      "_view_module": "@jupyter-widgets/controls",
      "_view_module_version": "1.5.0",
      "_view_name": "ProgressView",
      "bar_style": "",
      "description": "",
      "description_tooltip": null,
      "layout": "IPY_MODEL_bc38bf5839864d14a7676d575a70613a",
      "max": 80,
      "min": 0,
      "orientation": "horizontal",
      "style": "IPY_MODEL_9963f4045e4c4c66bbdf948d4f17f35a",
      "value": 80
     }
    },
    "c8ab96f012394692a34e775ea4f8d575": {
     "model_module": "@jupyter-widgets/controls",
     "model_module_version": "1.5.0",
     "model_name": "FloatProgressModel",
     "state": {
      "_dom_classes": [],
      "_model_module": "@jupyter-widgets/controls",
      "_model_module_version": "1.5.0",
      "_model_name": "FloatProgressModel",
      "_view_count": null,
      "_view_module": "@jupyter-widgets/controls",
      "_view_module_version": "1.5.0",
      "_view_name": "ProgressView",
      "bar_style": "",
      "description": "",
      "description_tooltip": null,
      "layout": "IPY_MODEL_dc0e9b827c774112b802448933136e6c",
      "max": 80,
      "min": 0,
      "orientation": "horizontal",
      "style": "IPY_MODEL_b07dc11eeab9481586926466e83d3c2d",
      "value": 80
     }
    },
    "c8b0f26feb8a4b88beb13eb5912adeb9": {
     "model_module": "@jupyter-widgets/controls",
     "model_module_version": "1.5.0",
     "model_name": "DescriptionStyleModel",
     "state": {
      "_model_module": "@jupyter-widgets/controls",
      "_model_module_version": "1.5.0",
      "_model_name": "DescriptionStyleModel",
      "_view_count": null,
      "_view_module": "@jupyter-widgets/base",
      "_view_module_version": "1.2.0",
      "_view_name": "StyleView",
      "description_width": ""
     }
    },
    "d9cf785918c9499a8c976265a85e7f03": {
     "model_module": "@jupyter-widgets/controls",
     "model_module_version": "1.5.0",
     "model_name": "DescriptionStyleModel",
     "state": {
      "_model_module": "@jupyter-widgets/controls",
      "_model_module_version": "1.5.0",
      "_model_name": "DescriptionStyleModel",
      "_view_count": null,
      "_view_module": "@jupyter-widgets/base",
      "_view_module_version": "1.2.0",
      "_view_name": "StyleView",
      "description_width": ""
     }
    },
    "dc0e9b827c774112b802448933136e6c": {
     "model_module": "@jupyter-widgets/base",
     "model_module_version": "1.2.0",
     "model_name": "LayoutModel",
     "state": {
      "_model_module": "@jupyter-widgets/base",
      "_model_module_version": "1.2.0",
      "_model_name": "LayoutModel",
      "_view_count": null,
      "_view_module": "@jupyter-widgets/base",
      "_view_module_version": "1.2.0",
      "_view_name": "LayoutView",
      "align_content": null,
      "align_items": null,
      "align_self": null,
      "border": null,
      "bottom": null,
      "display": null,
      "flex": null,
      "flex_flow": null,
      "grid_area": null,
      "grid_auto_columns": null,
      "grid_auto_flow": null,
      "grid_auto_rows": null,
      "grid_column": null,
      "grid_gap": null,
      "grid_row": null,
      "grid_template_areas": null,
      "grid_template_columns": null,
      "grid_template_rows": null,
      "height": null,
      "justify_content": null,
      "justify_items": null,
      "left": null,
      "margin": null,
      "max_height": null,
      "max_width": null,
      "min_height": null,
      "min_width": null,
      "object_fit": null,
      "object_position": null,
      "order": null,
      "overflow": null,
      "overflow_x": null,
      "overflow_y": null,
      "padding": null,
      "right": null,
      "top": null,
      "visibility": null,
      "width": null
     }
    },
    "e1a1aacc360d45468788e2da8c54b0a5": {
     "model_module": "@jupyter-widgets/controls",
     "model_module_version": "1.5.0",
     "model_name": "HBoxModel",
     "state": {
      "_dom_classes": [],
      "_model_module": "@jupyter-widgets/controls",
      "_model_module_version": "1.5.0",
      "_model_name": "HBoxModel",
      "_view_count": null,
      "_view_module": "@jupyter-widgets/controls",
      "_view_module_version": "1.5.0",
      "_view_name": "HBoxView",
      "box_style": "",
      "children": [
       "IPY_MODEL_5cfe620306244ffa8b1531d44f8a9893",
       "IPY_MODEL_c46fe72d5f5c4dedac436951aa4177dc",
       "IPY_MODEL_611d350009de4e68be1585ed07ac9c8c"
      ],
      "layout": "IPY_MODEL_69cf84d420d64dbdacf4b54a1019190b"
     }
    },
    "e72a0025c1c345fd815238a5483992d8": {
     "model_module": "@jupyter-widgets/controls",
     "model_module_version": "1.5.0",
     "model_name": "HBoxModel",
     "state": {
      "_dom_classes": [],
      "_model_module": "@jupyter-widgets/controls",
      "_model_module_version": "1.5.0",
      "_model_name": "HBoxModel",
      "_view_count": null,
      "_view_module": "@jupyter-widgets/controls",
      "_view_module_version": "1.5.0",
      "_view_name": "HBoxView",
      "box_style": "",
      "children": [
       "IPY_MODEL_74ad165042d64fbeb1b3492daa1f8f86",
       "IPY_MODEL_c8ab96f012394692a34e775ea4f8d575",
       "IPY_MODEL_88f59b351c4e4eca8aaa39a17974652f"
      ],
      "layout": "IPY_MODEL_ffc44a303fda4ba680d6715703099fbb"
     }
    },
    "e9e6a865ddad4695b00ad819cb5970fc": {
     "model_module": "@jupyter-widgets/base",
     "model_module_version": "1.2.0",
     "model_name": "LayoutModel",
     "state": {
      "_model_module": "@jupyter-widgets/base",
      "_model_module_version": "1.2.0",
      "_model_name": "LayoutModel",
      "_view_count": null,
      "_view_module": "@jupyter-widgets/base",
      "_view_module_version": "1.2.0",
      "_view_name": "LayoutView",
      "align_content": null,
      "align_items": null,
      "align_self": null,
      "border": null,
      "bottom": null,
      "display": null,
      "flex": null,
      "flex_flow": null,
      "grid_area": null,
      "grid_auto_columns": null,
      "grid_auto_flow": null,
      "grid_auto_rows": null,
      "grid_column": null,
      "grid_gap": null,
      "grid_row": null,
      "grid_template_areas": null,
      "grid_template_columns": null,
      "grid_template_rows": null,
      "height": null,
      "justify_content": null,
      "justify_items": null,
      "left": null,
      "margin": null,
      "max_height": null,
      "max_width": null,
      "min_height": null,
      "min_width": null,
      "object_fit": null,
      "object_position": null,
      "order": null,
      "overflow": null,
      "overflow_x": null,
      "overflow_y": null,
      "padding": null,
      "right": null,
      "top": null,
      "visibility": null,
      "width": null
     }
    },
    "ea000c1511f94d4daa9e37caac4305d9": {
     "model_module": "@jupyter-widgets/controls",
     "model_module_version": "1.5.0",
     "model_name": "HTMLModel",
     "state": {
      "_dom_classes": [],
      "_model_module": "@jupyter-widgets/controls",
      "_model_module_version": "1.5.0",
      "_model_name": "HTMLModel",
      "_view_count": null,
      "_view_module": "@jupyter-widgets/controls",
      "_view_module_version": "1.5.0",
      "_view_name": "HTMLView",
      "description": "",
      "description_tooltip": null,
      "layout": "IPY_MODEL_51b0809a21df43d0ba272ce2cd269fc5",
      "placeholder": "​",
      "style": "IPY_MODEL_7e1bc277eb3f40fc8a6a05b5bedc5f8d",
      "value": " 591/638 [00:01&lt;00:00, 586.87it/s]"
     }
    },
    "f4cbb5773d3e4fcfa946cfd716cd16ba": {
     "model_module": "@jupyter-widgets/controls",
     "model_module_version": "1.5.0",
     "model_name": "HBoxModel",
     "state": {
      "_dom_classes": [],
      "_model_module": "@jupyter-widgets/controls",
      "_model_module_version": "1.5.0",
      "_model_name": "HBoxModel",
      "_view_count": null,
      "_view_module": "@jupyter-widgets/controls",
      "_view_module_version": "1.5.0",
      "_view_name": "HBoxView",
      "box_style": "",
      "children": [
       "IPY_MODEL_5f23749c3a804fd689b4a08746452b07",
       "IPY_MODEL_b575381a262249b7a17d9b4cb728688f",
       "IPY_MODEL_0b48d530d0a5458eb7ae8e4e52a59bbc"
      ],
      "layout": "IPY_MODEL_46bf4603fd364f918671b15ec8d11d6f"
     }
    },
    "f841c74b17a1454ca83306405be95fb8": {
     "model_module": "@jupyter-widgets/controls",
     "model_module_version": "1.5.0",
     "model_name": "DescriptionStyleModel",
     "state": {
      "_model_module": "@jupyter-widgets/controls",
      "_model_module_version": "1.5.0",
      "_model_name": "DescriptionStyleModel",
      "_view_count": null,
      "_view_module": "@jupyter-widgets/base",
      "_view_module_version": "1.2.0",
      "_view_name": "StyleView",
      "description_width": ""
     }
    },
    "ffc44a303fda4ba680d6715703099fbb": {
     "model_module": "@jupyter-widgets/base",
     "model_module_version": "1.2.0",
     "model_name": "LayoutModel",
     "state": {
      "_model_module": "@jupyter-widgets/base",
      "_model_module_version": "1.2.0",
      "_model_name": "LayoutModel",
      "_view_count": null,
      "_view_module": "@jupyter-widgets/base",
      "_view_module_version": "1.2.0",
      "_view_name": "LayoutView",
      "align_content": null,
      "align_items": null,
      "align_self": null,
      "border": null,
      "bottom": null,
      "display": null,
      "flex": null,
      "flex_flow": null,
      "grid_area": null,
      "grid_auto_columns": null,
      "grid_auto_flow": null,
      "grid_auto_rows": null,
      "grid_column": null,
      "grid_gap": null,
      "grid_row": null,
      "grid_template_areas": null,
      "grid_template_columns": null,
      "grid_template_rows": null,
      "height": null,
      "justify_content": null,
      "justify_items": null,
      "left": null,
      "margin": null,
      "max_height": null,
      "max_width": null,
      "min_height": null,
      "min_width": null,
      "object_fit": null,
      "object_position": null,
      "order": null,
      "overflow": null,
      "overflow_x": null,
      "overflow_y": null,
      "padding": null,
      "right": null,
      "top": null,
      "visibility": null,
      "width": null
     }
    }
   }
  }
 },
 "nbformat": 4,
 "nbformat_minor": 1
}
