{
 "cells": [
  {
   "cell_type": "code",
   "execution_count": 1,
   "id": "1db4f86f",
   "metadata": {},
   "outputs": [],
   "source": [
    "from bs4 import BeautifulSoup"
   ]
  },
  {
   "cell_type": "code",
   "execution_count": 2,
   "id": "b077b182",
   "metadata": {},
   "outputs": [],
   "source": [
    "import pyRAPL\n",
    "\n",
    "pyRAPL.setup()\n",
    "measure = pyRAPL.Measurement('bar')\n",
    "measure.begin()"
   ]
  },
  {
   "cell_type": "code",
   "execution_count": 3,
   "id": "0729f09a",
   "metadata": {},
   "outputs": [],
   "source": [
    "import pyRAPL\n",
    "import pandas as pd\n",
    "import numpy as np\n",
    "from   collections import defaultdict, Counter\n",
    "from   glob import glob\n",
    "import nltk\n",
    "from   nltk import word_tokenize, sent_tokenize\n",
    "import os\n",
    "import string\n"
   ]
  },
  {
   "cell_type": "code",
   "execution_count": 4,
   "id": "9d9586c1",
   "metadata": {},
   "outputs": [],
   "source": [
    "htm=open('manifesto.htm','rb')"
   ]
  },
  {
   "cell_type": "code",
   "execution_count": 5,
   "id": "413245e9",
   "metadata": {},
   "outputs": [
    {
     "data": {
      "text/plain": [
       "<_io.BufferedReader name='manifesto.htm'>"
      ]
     },
     "execution_count": 5,
     "metadata": {},
     "output_type": "execute_result"
    }
   ],
   "source": [
    "htm"
   ]
  },
  {
   "cell_type": "code",
   "execution_count": 6,
   "id": "5091de4d",
   "metadata": {},
   "outputs": [],
   "source": [
    "soup = BeautifulSoup(htm, 'html.parser')"
   ]
  },
  {
   "cell_type": "code",
   "execution_count": null,
   "id": "9e76624b",
   "metadata": {},
   "outputs": [],
   "source": []
  },
  {
   "cell_type": "code",
   "execution_count": 7,
   "id": "9a2c743d",
   "metadata": {},
   "outputs": [],
   "source": [
    "\n",
    "pre_text=soup.get_text()\n",
    "pre_text= pre_text.replace('\\n',' ')\n",
    "pre_parsed = pre_text.replace('\\t',' ')"
   ]
  },
  {
   "cell_type": "code",
   "execution_count": 8,
   "id": "664cfe73",
   "metadata": {
    "scrolled": false
   },
   "outputs": [],
   "source": [
    "parsed=pre_parsed.lower()"
   ]
  },
  {
   "cell_type": "code",
   "execution_count": 9,
   "id": "7c76ae94",
   "metadata": {},
   "outputs": [],
   "source": [
    "import nltk"
   ]
  },
  {
   "cell_type": "code",
   "execution_count": 10,
   "id": "d7a3e8b3",
   "metadata": {},
   "outputs": [],
   "source": [
    "def word_clense (text,work='title of book'):\n",
    "\n",
    "    tokens= word_tokenize(text)\n",
    "    helper_stops=['could','should','might','would','like','must','one','two','three','four','five','six','seven','eight','nine','ten']\n",
    "    helptok = [w for w in tokens if w.lower() not in helper_stops] \n",
    "\n",
    "\n",
    "    #https://www.nltk.org/book/ch02.html\n",
    "    stopwords = nltk.corpus.stopwords.words('english')\n",
    "    content = [w for w in helptok if w.lower() not in stopwords and w.isalpha()] #added here\n",
    "    \n",
    "    count= Counter(content)\n",
    "    print ('Unique types within',work,' post tokenize and counter:',len(count))\n",
    "    return count"
   ]
  },
  {
   "cell_type": "code",
   "execution_count": 11,
   "id": "c09ec388",
   "metadata": {},
   "outputs": [
    {
     "name": "stdout",
     "output_type": "stream",
     "text": [
      "Unique types within Industrial Society and Its Future  post tokenize and counter: 3856\n"
     ]
    },
    {
     "data": {
      "text/plain": [
       "[('society', 243),\n",
       " ('system', 222),\n",
       " ('people', 221),\n",
       " ('power', 155),\n",
       " ('human', 140),\n",
       " ('technology', 127),\n",
       " ('may', 101),\n",
       " ('social', 98),\n",
       " ('many', 98),\n",
       " ('modern', 94),\n",
       " ('freedom', 90),\n",
       " ('industrial', 72),\n",
       " ('make', 69),\n",
       " ('process', 69),\n",
       " ('man', 69),\n",
       " ('problems', 68),\n",
       " ('need', 66),\n",
       " ('way', 64),\n",
       " ('leftist', 62),\n",
       " ('behavior', 61),\n",
       " ('even', 60),\n",
       " ('leftists', 60),\n",
       " ('work', 58),\n",
       " ('paragraph', 58),\n",
       " ('nature', 56),\n",
       " ('control', 56),\n",
       " ('psychological', 55),\n",
       " ('leftism', 55),\n",
       " ('example', 53),\n",
       " ('use', 51),\n",
       " ('individual', 51),\n",
       " ('goals', 50),\n",
       " ('revolution', 49),\n",
       " ('new', 48),\n",
       " ('needs', 48),\n",
       " ('technological', 47),\n",
       " ('large', 44),\n",
       " ('important', 41),\n",
       " ('get', 41),\n",
       " ('take', 40),\n",
       " ('surrogate', 40),\n",
       " ('thus', 39),\n",
       " ('change', 39),\n",
       " ('life', 38),\n",
       " ('world', 38),\n",
       " ('today', 38),\n",
       " ('much', 38),\n",
       " ('without', 37),\n",
       " ('physical', 36),\n",
       " ('goal', 35)]"
      ]
     },
     "execution_count": 11,
     "metadata": {},
     "output_type": "execute_result"
    }
   ],
   "source": [
    "word_clense(parsed,'Industrial Society and Its Future').most_common(50)"
   ]
  },
  {
   "cell_type": "markdown",
   "id": "df371046",
   "metadata": {},
   "source": [
    "As seen above these are the unique words that do not show up as common english words known as stop words. Here is the modification step. In the NLP class here at Cornell we are taught to use what is called a transformer. The NLP class here at Cornell uses the Stanford taught slides avaible <a href=\"https://web.stanford.edu/class/cs224n/slides/cs224n-2021-lecture09-transformers.pdf\">here</a>. To use this sort of Deep learning process there would have to be a training corpus of information science text and surveillance capitalist texts to develop a sense of style then <i>The Industrial Society and Its Future</i> would be transformed into this style. A similar assignment was done translating modern English into Shakespearean English with a performance metric and use of an RNN which is heavily intensive in memory and would take hours to train. Mine attempts to use a simple training corpus that I hand made and training off this and perhaps using a bootstrap method to gain more data. \n"
   ]
  },
  {
   "cell_type": "code",
   "execution_count": 12,
   "id": "5a1cf406",
   "metadata": {
    "scrolled": false
   },
   "outputs": [],
   "source": [
    "parsed=parsed.replace('industrial','information')\n",
    "parsed=parsed.replace('leftism','big tech')\n",
    "parsed=parsed.replace('leftist','big tech high priest')\n",
    "parsed=parsed.replace('technology','big technology')\n",
    "parsed=parsed.replace('control','surveillance')\n",
    "parsed=parsed.replace('fc','cff')\n",
    "parsed=parsed.replace('freedom club','cyber freedom front')\n",
    "parsed =parsed.replace('capitalism','surveillance capitalism')"
   ]
  },
  {
   "cell_type": "markdown",
   "id": "c449568c",
   "metadata": {},
   "source": [
    " the nearest thing to a strong, widespread, dynamic religion that the west has seen in recent  times has been the quasi-religion of big tech, but big tech today is fragmented and has no clear, unified,  inspiring goal. thus there is a religious vacuum in our society that could perhaps be filled by a religion focused on nature  in opposition to big big big big technology"
   ]
  },
  {
   "cell_type": "markdown",
   "id": "25ad9a77",
   "metadata": {},
   "source": [
    "when the american colonies were under british rule there were fewer and less effective  legal guarantees of freedom than there were after the american constitution went into effect, yet there was  more personal freedom in pre-information america, both before and after the war of independence, than there  was after the information revolution took hold in this country. in “violence in america: historical and  comparative perspectives,” edited by hugh davis graham and ted robert gurr, chapter 12 by roger  lane, it is explained how in pre-information america the average person had greater independence and  autonomy than he does today, and how the process of informationization necessarily led to the restriction of  personal freedom.\""
   ]
  },
  {
   "cell_type": "markdown",
   "id": "f61aff08",
   "metadata": {},
   "source": [
    "Above are two great examples of the text being translated without using computatationally heavy AI. Below I will put this into a single function with one helper function to examine the energy being used with the system. Note: I am running this on my local system using a Lenovo Yoga 9i running Linux. The background processes for Linux are minimal compared to an Apple or Microsoft product so keep this in mind that I am trying to use as small amount of energy as possible. "
   ]
  },
  {
   "cell_type": "code",
   "execution_count": 13,
   "id": "155c8ab8",
   "metadata": {},
   "outputs": [],
   "source": [
    "def word_clense (text,work='title of book'):\n",
    "\n",
    "    tokens= word_tokenize(text)\n",
    "    helper_stops=['could','should','might','would','like','must','one','two','three','four','five','six','seven','eight','nine','ten']\n",
    "    helptok = [w for w in tokens if w.lower() not in helper_stops] \n",
    "\n",
    "\n",
    "    #https://www.nltk.org/book/ch02.html\n",
    "    stopwords = nltk.corpus.stopwords.words('english')\n",
    "    content = [w for w in helptok if w.lower() not in stopwords and w.isalpha()] #added here\n",
    "    \n",
    "    count= Counter(content)\n",
    "    print ('Unique types within',work,' post tokenize and counter:',len(count))\n",
    "    return count"
   ]
  },
  {
   "cell_type": "code",
   "execution_count": 14,
   "id": "57d173a8",
   "metadata": {},
   "outputs": [],
   "source": [
    "\n",
    "\n",
    "def manifesto_bootleg(html_page,work='Industrial Society and Its Future'):\n",
    "    htm=open(html_page,'rb')\n",
    "    soup = BeautifulSoup(htm, 'html.parser')\n",
    "    pre_text=soup.get_text()\n",
    "    pre_text= pre_text.replace('\\n',' ')\n",
    "    pre_parsed = pre_text.replace('\\t',' ')\n",
    "    parsed=pre_parsed.lower()\n",
    "    #print(word_clense(parsed,'Industrial Society and Its Future').most_common(50))\n",
    "    parsed=parsed.replace('industrial','information')\n",
    "    parsed=parsed.replace('leftism','big tech')\n",
    "    parsed=parsed.replace('leftist','big tech high priest')\n",
    "    parsed=parsed.replace('technology','big technology')\n",
    "    parsed=parsed.replace('control','surveillance')\n",
    "    parsed=parsed.replace('fc','cff')\n",
    "    parsed=parsed.replace('freedom club','cyber freedom front')\n",
    "    parsed =parsed.replace('capitalism','surveillance capitalism')\n",
    "    return (parsed)"
   ]
  },
  {
   "cell_type": "code",
   "execution_count": 15,
   "id": "d1156af8",
   "metadata": {},
   "outputs": [],
   "source": [
    "\n",
    "information_society=manifesto_bootleg('manifesto.htm')"
   ]
  },
  {
   "cell_type": "code",
   "execution_count": 16,
   "id": "230fc30d",
   "metadata": {},
   "outputs": [],
   "source": [
    "measure.end()"
   ]
  },
  {
   "cell_type": "code",
   "execution_count": 17,
   "id": "903f5b9a",
   "metadata": {},
   "outputs": [],
   "source": [
    "usage=measure.result.pkg[0]"
   ]
  },
  {
   "cell_type": "code",
   "execution_count": 18,
   "id": "05134f21",
   "metadata": {},
   "outputs": [],
   "source": [
    "usage=measure.result.pkg[0]"
   ]
  },
  {
   "cell_type": "code",
   "execution_count": 19,
   "id": "455c63f5",
   "metadata": {},
   "outputs": [],
   "source": [
    "usage_joule=usage/1000000"
   ]
  },
  {
   "cell_type": "code",
   "execution_count": 20,
   "id": "7734648b",
   "metadata": {},
   "outputs": [],
   "source": [
    "usage_total_joule=usage_joule*100*102"
   ]
  },
  {
   "cell_type": "code",
   "execution_count": 22,
   "id": "1d990d43",
   "metadata": {},
   "outputs": [
    {
     "data": {
      "text/plain": [
       "172612.01940000002"
      ]
     },
     "execution_count": 22,
     "metadata": {},
     "output_type": "execute_result"
    }
   ],
   "source": [
    "usage_total_joule"
   ]
  },
  {
   "cell_type": "code",
   "execution_count": null,
   "id": "98bc4f2a",
   "metadata": {},
   "outputs": [],
   "source": []
  }
 ],
 "metadata": {
  "kernelspec": {
   "display_name": "Python 3 (ipykernel)",
   "language": "python",
   "name": "python3"
  },
  "language_info": {
   "codemirror_mode": {
    "name": "ipython",
    "version": 3
   },
   "file_extension": ".py",
   "mimetype": "text/x-python",
   "name": "python",
   "nbconvert_exporter": "python",
   "pygments_lexer": "ipython3",
   "version": "3.10.5"
  }
 },
 "nbformat": 4,
 "nbformat_minor": 5
}
